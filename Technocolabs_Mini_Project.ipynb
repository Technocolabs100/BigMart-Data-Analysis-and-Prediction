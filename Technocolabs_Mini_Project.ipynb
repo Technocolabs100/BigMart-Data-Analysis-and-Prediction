{
  "nbformat": 4,
  "nbformat_minor": 0,
  "metadata": {
    "colab": {
      "provenance": []
    },
    "kernelspec": {
      "name": "python3",
      "display_name": "Python 3"
    },
    "language_info": {
      "name": "python"
    }
  },
  "cells": [
    {
      "cell_type": "markdown",
      "source": [
        "#importing Libraries"
      ],
      "metadata": {
        "id": "YnK-ZlZOkbdg"
      }
    },
    {
      "cell_type": "code",
      "source": [
        "import pandas as pd\n",
        "import matplotlib.pyplot as plt\n",
        "import seaborn as sns\n",
        "import numpy as np\n",
        "import statsmodels.api as sm\n",
        "from sklearn import preprocessing\n",
        "from sklearn.model_selection import train_test_split\n",
        "from sklearn.linear_model import LinearRegression, Ridge, Lasso\n",
        "from sklearn.ensemble import RandomForestRegressor, GradientBoostingRegressor\n",
        "from xgboost import XGBRegressor\n",
        "from sklearn.metrics import mean_squared_error, r2_score , mean_absolute_error\n",
        "from sklearn.metrics import classification_report\n",
        "from sklearn import metrics\n",
        "from sklearn.preprocessing import LabelEncoder, OneHotEncoder\n",
        "from sklearn.preprocessing import StandardScaler"
      ],
      "metadata": {
        "id": "tCC9fgmTkhBV"
      },
      "execution_count": null,
      "outputs": []
    },
    {
      "cell_type": "markdown",
      "source": [
        "#Inserting Data to workspace"
      ],
      "metadata": {
        "id": "treuYThykOAD"
      }
    },
    {
      "cell_type": "code",
      "execution_count": null,
      "metadata": {
        "id": "LN0Q6qrmkHQH"
      },
      "outputs": [],
      "source": [
        "Trainig_Set_Path = '/content/Train.csv'\n",
        "Trainig_Set_Data = pd.read_csv(Trainig_Set_Path)\n",
        "Trainig_Set_Data\n",
        "# Trainig_Set_Data.describe()\n",
        "# Trainig_Set_Data.head()"
      ]
    },
    {
      "cell_type": "markdown",
      "source": [
        "#Structure of DataSet\n"
      ],
      "metadata": {
        "id": "6df40A7MwHgK"
      }
    },
    {
      "cell_type": "code",
      "source": [
        "Trainig_Set_Data.info()"
      ],
      "metadata": {
        "id": "SNC1yuzewLD-"
      },
      "execution_count": null,
      "outputs": []
    },
    {
      "cell_type": "code",
      "source": [
        "Trainig_Set_Data.describe()"
      ],
      "metadata": {
        "id": "K8R-MvWxUNrf"
      },
      "execution_count": null,
      "outputs": []
    },
    {
      "cell_type": "code",
      "source": [
        "Trainig_Set_Data.Item_Fat_Content.unique()"
      ],
      "metadata": {
        "id": "Fjv72eRNP1R5"
      },
      "execution_count": null,
      "outputs": []
    },
    {
      "cell_type": "markdown",
      "source": [
        "There is Missing data in Outlet_Size (s-m-high) and Item_Weight (number)\n",
        "In Item_Fat_Content : LF should be Low Fat & reg should be Regular\n"
      ],
      "metadata": {
        "id": "7CH96A4VmQtU"
      }
    },
    {
      "cell_type": "code",
      "source": [
        "Trainig_Set_Data['Item_Fat_Content'] = Trainig_Set_Data['Item_Fat_Content'].replace('LF', 'Low Fat')\n",
        "Trainig_Set_Data['Item_Fat_Content'] = Trainig_Set_Data['Item_Fat_Content'].replace('low fat', 'Low Fat')\n",
        "Trainig_Set_Data['Item_Fat_Content'] = Trainig_Set_Data['Item_Fat_Content'].replace('reg', 'Regular')\n",
        "Trainig_Set_Data['Item_Fat_Content'][85]"
      ],
      "metadata": {
        "id": "mzVss7LBk5yG"
      },
      "execution_count": null,
      "outputs": []
    },
    {
      "cell_type": "code",
      "source": [
        "Trainig_Set_Data.Item_Fat_Content.unique()"
      ],
      "metadata": {
        "id": "VSJeo_0WQbLg"
      },
      "execution_count": null,
      "outputs": []
    },
    {
      "cell_type": "markdown",
      "source": [
        "Replacing Done"
      ],
      "metadata": {
        "id": "SF-PTlkwoiNm"
      }
    },
    {
      "cell_type": "code",
      "source": [
        "Trainig_Set_Data[pd.isnull(Trainig_Set_Data.Item_Weight)]"
      ],
      "metadata": {
        "id": "Hk_2LHkDnsHm"
      },
      "execution_count": null,
      "outputs": []
    },
    {
      "cell_type": "code",
      "source": [
        "Trainig_Set_Data.Item_Weight.info()"
      ],
      "metadata": {
        "id": "7AJxbclo-zkW"
      },
      "execution_count": null,
      "outputs": []
    },
    {
      "cell_type": "code",
      "source": [
        "# Trainig_Set_Data.Item_Weight.dtype\n",
        "print(Trainig_Set_Data.dtypes)"
      ],
      "metadata": {
        "id": "6vVqvMRutqfn"
      },
      "execution_count": null,
      "outputs": []
    },
    {
      "cell_type": "markdown",
      "source": [
        "#Filling all empty cells in Item_Weight col with specific value"
      ],
      "metadata": {
        "id": "8zS8mQ4cwvE6"
      }
    },
    {
      "cell_type": "code",
      "source": [
        "# Iterate over each row in the DataFrame\n",
        "for index, row in Trainig_Set_Data.iterrows():\n",
        "    # Check if Item_Weight value is NaN\n",
        "    if pd.isnull(row['Item_Weight']):\n",
        "        # Get the Item_Identifier name\n",
        "        name = row['Item_Identifier']\n",
        "\n",
        "        # Search for the name in Item_Identifier column\n",
        "        mask = Trainig_Set_Data['Item_Identifier'] == name\n",
        "\n",
        "        # Check if a non-NaN value exists in Item_Weight column for the given name\n",
        "        if Trainig_Set_Data.loc[mask, 'Item_Weight'].notnull().any():\n",
        "            # Get the non-NaN value from Item_Weight column\n",
        "            value = Trainig_Set_Data.loc[mask, 'Item_Weight'].dropna().iloc[0]\n",
        "\n",
        "            # Check if the value is not NaN in the same row\n",
        "            if pd.isnull(Trainig_Set_Data.loc[index, 'Item_Weight']):\n",
        "                # Replace NaN with the retrieved value\n",
        "                Trainig_Set_Data.loc[index, 'Item_Weight'] = value"
      ],
      "metadata": {
        "id": "TF_2Oyxeb0kc"
      },
      "execution_count": null,
      "outputs": []
    },
    {
      "cell_type": "code",
      "source": [
        "Trainig_Set_Data[pd.isnull(Trainig_Set_Data.Item_Weight)]"
      ],
      "metadata": {
        "id": "Goo5oGFbe9fy"
      },
      "execution_count": null,
      "outputs": []
    },
    {
      "cell_type": "markdown",
      "source": [
        "Removing rows with Item_Identifier name with no Item_Weight Value in all dataset"
      ],
      "metadata": {
        "id": "lN2PLxChw5Hc"
      }
    },
    {
      "cell_type": "code",
      "source": [
        "Trainig_Set_Data.dropna(subset=['Item_Weight'], inplace=True)"
      ],
      "metadata": {
        "id": "WGSrPApmhIAN"
      },
      "execution_count": null,
      "outputs": []
    },
    {
      "cell_type": "code",
      "source": [
        "Trainig_Set_Data[pd.isnull(Trainig_Set_Data.Item_Weight)]"
      ],
      "metadata": {
        "id": "Ts1E8rJHhN7O"
      },
      "execution_count": null,
      "outputs": []
    },
    {
      "cell_type": "markdown",
      "source": [
        "#Filling all empty cells in Outlet_Size col with specific value"
      ],
      "metadata": {
        "id": "QBLIDxsHxOd1"
      }
    },
    {
      "cell_type": "code",
      "source": [
        "# Iterate over each row in the DataFrame\n",
        "for index, row in Trainig_Set_Data.iterrows():\n",
        "    # Check if Outlet_Size value is NaN\n",
        "    if pd.isnull(row['Outlet_Size']):\n",
        "        # Get the Item_Identifier name\n",
        "        name = row['Item_Identifier']\n",
        "\n",
        "        # Search for the name in Item_Identifier column\n",
        "        mask = Trainig_Set_Data['Item_Identifier'] == name\n",
        "\n",
        "        # Check if a non-NaN value exists in Outlet_Size column for the given name\n",
        "        if Trainig_Set_Data.loc[mask, 'Outlet_Size'].notnull().any():\n",
        "            # Get the non-NaN value from Outlet_Size column\n",
        "            value = Trainig_Set_Data.loc[mask, 'Outlet_Size'].dropna().iloc[0]\n",
        "\n",
        "            # Check if the value is not NaN in the same row\n",
        "            if pd.isnull(Trainig_Set_Data.loc[index, 'Outlet_Size']):\n",
        "                # Replace NaN with the retrieved value\n",
        "                Trainig_Set_Data.loc[index, 'Outlet_Size'] = value"
      ],
      "metadata": {
        "id": "FJBo6ZZhhQ_x"
      },
      "execution_count": null,
      "outputs": []
    },
    {
      "cell_type": "code",
      "source": [
        "Trainig_Set_Data['Outlet_Size'][3]"
      ],
      "metadata": {
        "id": "90tCUBWsbVl6",
        "colab": {
          "base_uri": "https://localhost:8080/",
          "height": 36
        },
        "outputId": "62204415-2e10-445a-9802-7075b6fd4edd"
      },
      "execution_count": null,
      "outputs": [
        {
          "output_type": "execute_result",
          "data": {
            "text/plain": [
              "'Small'"
            ],
            "application/vnd.google.colaboratory.intrinsic+json": {
              "type": "string"
            }
          },
          "metadata": {},
          "execution_count": 16
        }
      ]
    },
    {
      "cell_type": "code",
      "source": [
        "Trainig_Set_Data[pd.isnull(Trainig_Set_Data.Outlet_Size)]"
      ],
      "metadata": {
        "id": "GMWipkNSn0m-"
      },
      "execution_count": null,
      "outputs": []
    },
    {
      "cell_type": "markdown",
      "source": [
        "Removing rows with Item_Identifier name with no Outlet_Size Value in all dataset"
      ],
      "metadata": {
        "id": "KHhW4y_ixe1f"
      }
    },
    {
      "cell_type": "code",
      "source": [
        "Trainig_Set_Data.dropna(subset=['Outlet_Size'], inplace=True)"
      ],
      "metadata": {
        "id": "l2qGnenyn8pg"
      },
      "execution_count": null,
      "outputs": []
    },
    {
      "cell_type": "code",
      "source": [
        "Trainig_Set_Data.head()"
      ],
      "metadata": {
        "id": "g1IpCmX2oNws"
      },
      "execution_count": null,
      "outputs": []
    },
    {
      "cell_type": "markdown",
      "source": [
        "Done Cleaning Outlet_Size col"
      ],
      "metadata": {
        "id": "pj8uAV_aoEmQ"
      }
    },
    {
      "cell_type": "code",
      "source": [
        "Trainig_Set_Data.corr()"
      ],
      "metadata": {
        "id": "-q3erVCgZ3bh"
      },
      "execution_count": null,
      "outputs": []
    },
    {
      "cell_type": "markdown",
      "source": [
        "Item_MRP is the most effective feature on Item_Outlet_Sales (corr = 0.567702)"
      ],
      "metadata": {
        "id": "rYD7xxvEa5Fc"
      }
    },
    {
      "cell_type": "markdown",
      "source": [
        "#Remove outliner values"
      ],
      "metadata": {
        "id": "M5g8haLtjxal"
      }
    },
    {
      "cell_type": "code",
      "source": [
        "numeric_columns = ['Item_Weight', 'Item_Visibility', 'Item_MRP', 'Outlet_Establishment_Year', 'Item_Outlet_Sales']\n",
        "\n",
        "for column in numeric_columns:\n",
        "    plt.figure(figsize=(6, 4))\n",
        "    sns.boxplot(data=Trainig_Set_Data[column])\n",
        "    plt.title(f'Boxplot of {column}')\n",
        "    plt.show()"
      ],
      "metadata": {
        "id": "s1Oo61m8Lsht"
      },
      "execution_count": null,
      "outputs": []
    },
    {
      "cell_type": "code",
      "source": [
        "summary_stats = Trainig_Set_Data[numeric_columns].describe()\n",
        "print(summary_stats)"
      ],
      "metadata": {
        "id": "EY39kApNdMD5"
      },
      "execution_count": null,
      "outputs": []
    },
    {
      "cell_type": "code",
      "source": [
        "# Handling outliers (Approach: removing outliers)\n",
        "def remove_outliers(df, column):\n",
        "    q1 = df[column].quantile(0.25)\n",
        "    q3 = df[column].quantile(0.75)\n",
        "    iqr = q3 - q1\n",
        "    lower_bound = q1 - (1.5 * iqr)\n",
        "    upper_bound = q3 + (1.5 * iqr)\n",
        "    df = df[(df[column] >= lower_bound) & (df[column] <= upper_bound)]\n",
        "    return df\n",
        "\n",
        "# Removing outliers\n",
        "Trainig_Set_Data = remove_outliers(Trainig_Set_Data, 'Item_Outlet_Sales')\n",
        "Trainig_Set_Data = remove_outliers(Trainig_Set_Data, 'Item_Visibility')"
      ],
      "metadata": {
        "id": "rpUzHm8dMj4E"
      },
      "execution_count": null,
      "outputs": []
    },
    {
      "cell_type": "code",
      "source": [
        "updated_summary_stats = Trainig_Set_Data[numeric_columns].describe()\n",
        "print(updated_summary_stats)"
      ],
      "metadata": {
        "id": "XkL6T7QmMuu2"
      },
      "execution_count": null,
      "outputs": []
    },
    {
      "cell_type": "code",
      "source": [
        "Trainig_Set_Data.boxplot(column=[\"Item_Outlet_Sales\"])"
      ],
      "metadata": {
        "id": "Bdfh5pFEiRG9"
      },
      "execution_count": null,
      "outputs": []
    },
    {
      "cell_type": "code",
      "source": [
        "Trainig_Set_Data.boxplot(column=[\"Item_Visibility\"])"
      ],
      "metadata": {
        "id": "isWMtxJ8O71E"
      },
      "execution_count": null,
      "outputs": []
    },
    {
      "cell_type": "markdown",
      "source": [
        "Done removing outliners"
      ],
      "metadata": {
        "id": "46Qbh56mj_WG"
      }
    },
    {
      "cell_type": "markdown",
      "source": [
        "Checking for Duplicates"
      ],
      "metadata": {
        "id": "QaosV5RqkBBz"
      }
    },
    {
      "cell_type": "code",
      "source": [
        "duplicate = Trainig_Set_Data.duplicated()\n",
        "print(duplicate.sum())"
      ],
      "metadata": {
        "id": "uDllKdnvjSZR"
      },
      "execution_count": null,
      "outputs": []
    },
    {
      "cell_type": "markdown",
      "source": [
        "No Duplications found"
      ],
      "metadata": {
        "id": "WszwogdGl7Be"
      }
    },
    {
      "cell_type": "markdown",
      "source": [
        "#Downloading Updated DataSet"
      ],
      "metadata": {
        "id": "HbJYn92slujG"
      }
    },
    {
      "cell_type": "code",
      "source": [
        "# from google.colab import files\n",
        "\n",
        "# # Save the updated DataFrame to a new CSV file\n",
        "# Trainig_Set_Data.to_csv('updated_dataset.csv', index=False)\n",
        "\n",
        "# # Download the CSV file\n",
        "# files.download('updated_dataset.csv')"
      ],
      "metadata": {
        "id": "oRb0_1wFkSAh"
      },
      "execution_count": null,
      "outputs": []
    },
    {
      "cell_type": "markdown",
      "source": [
        "#Plotting Graphs"
      ],
      "metadata": {
        "id": "_Hrf2VGKPWnZ"
      }
    },
    {
      "cell_type": "code",
      "source": [
        "# Visualize categorical variables\n",
        "categorical_columns = ['Item_Fat_Content', 'Item_Type', 'Outlet_Identifier', 'Outlet_Size', 'Outlet_Location_Type', 'Outlet_Type']\n",
        "\n",
        "for column in categorical_columns:\n",
        "    plt.figure(figsize=(8, 6))\n",
        "    sns.countplot(data=Trainig_Set_Data, x=column)\n",
        "    plt.title(f'Countplot of {column}')\n",
        "    plt.xticks(rotation=45)\n",
        "    plt.show()\n",
        "\n",
        "# Visualize numerical variables\n",
        "numeric_columns = ['Item_Weight', 'Item_Visibility', 'Item_MRP', 'Item_Outlet_Sales']\n",
        "\n",
        "for column in numeric_columns:\n",
        "    plt.figure(figsize=(6, 4))\n",
        "    sns.histplot(data=Trainig_Set_Data, x=column, kde=True)\n",
        "    plt.title(f'Histogram of {column}')\n",
        "    plt.show()\n",
        "\n",
        "# Explore relationship between 'Item_MRP' and 'Item_Outlet_Sales'\n",
        "plt.figure(figsize=(6, 4))\n",
        "sns.scatterplot(data=Trainig_Set_Data, x='Item_MRP', y='Item_Outlet_Sales')\n",
        "plt.title('Scatter plot: Item_MRP vs. Item_Outlet_Sales')\n",
        "plt.show()\n",
        "\n",
        "# Visualize correlations between numerical variables\n",
        "numeric_data = Trainig_Set_Data[numeric_columns]\n",
        "correlation_matrix = numeric_data.corr()\n",
        "\n",
        "plt.figure(figsize=(6, 4))\n",
        "sns.heatmap(data=correlation_matrix, annot=True, cmap='coolwarm')\n",
        "plt.title('Correlation Matrix')\n",
        "plt.show()"
      ],
      "metadata": {
        "id": "kovuGETdKmjf"
      },
      "execution_count": null,
      "outputs": []
    },
    {
      "cell_type": "markdown",
      "source": [
        "Applying Simple Linear Regression for All columns and Item_Outlet_Sales"
      ],
      "metadata": {
        "id": "dUxBKEc3eXxn"
      }
    },
    {
      "cell_type": "markdown",
      "source": [
        "#Encoding"
      ],
      "metadata": {
        "id": "8BPFO4HV43qw"
      }
    },
    {
      "cell_type": "markdown",
      "source": [
        "Applying Label Encoding to Item_Fat_Content"
      ],
      "metadata": {
        "id": "vf89JZS3455Q"
      }
    },
    {
      "cell_type": "code",
      "source": [
        "Trainig_Set_Data['Item_Fat_Content'].unique()"
      ],
      "metadata": {
        "id": "ygpfY04eexr4"
      },
      "execution_count": null,
      "outputs": []
    },
    {
      "cell_type": "code",
      "source": [
        "# label_encoder object knows\n",
        "# how to understand word labels.\n",
        "label_encoder = preprocessing.LabelEncoder()\n",
        "\n",
        "# Encode labels in column 'species'.\n",
        "Trainig_Set_Data['Item_Fat_Content']= label_encoder.fit_transform(Trainig_Set_Data['Item_Fat_Content'])\n",
        "\n",
        "Trainig_Set_Data['Item_Fat_Content'].unique()"
      ],
      "metadata": {
        "id": "Kn-a7zAG80Nz"
      },
      "execution_count": null,
      "outputs": []
    },
    {
      "cell_type": "markdown",
      "source": [
        "Low Fat == 0 , Regular == 1"
      ],
      "metadata": {
        "id": "yyxwcRTh9U8X"
      }
    },
    {
      "cell_type": "code",
      "source": [
        "Trainig_Set_Data['Item_Type'].unique()"
      ],
      "metadata": {
        "colab": {
          "base_uri": "https://localhost:8080/"
        },
        "id": "UpSzN6iO9P95",
        "outputId": "8fff34eb-f512-4668-feee-0038a46ccf8c"
      },
      "execution_count": null,
      "outputs": [
        {
          "output_type": "execute_result",
          "data": {
            "text/plain": [
              "array(['Dairy', 'Soft Drinks', 'Meat', 'Fruits and Vegetables',\n",
              "       'Household', 'Baking Goods', 'Snack Foods', 'Frozen Foods',\n",
              "       'Breakfast', 'Health and Hygiene', 'Hard Drinks', 'Canned',\n",
              "       'Breads', 'Starchy Foods', 'Others', 'Seafood'], dtype=object)"
            ]
          },
          "metadata": {},
          "execution_count": 37
        }
      ]
    },
    {
      "cell_type": "markdown",
      "source": [
        "Applying OneHot Encoding to Item_Type after scailing"
      ],
      "metadata": {
        "id": "kh38qY_wApTz"
      }
    },
    {
      "cell_type": "code",
      "source": [
        "onehot_encoder = OneHotEncoder(drop='first', sparse=False)\n",
        "onehot_encoded = onehot_encoder.fit_transform(Trainig_Set_Data[['Item_Type']])\n",
        "data_encoded = pd.concat([Trainig_Set_Data, pd.DataFrame(onehot_encoded)], axis=1)"
      ],
      "metadata": {
        "id": "ayK95ulGArt2"
      },
      "execution_count": null,
      "outputs": []
    },
    {
      "cell_type": "code",
      "source": [
        "scaler = StandardScaler()\n",
        "data_encoded[['Item_Weight', 'Item_Visibility', 'Item_MRP']] = scaler.fit_transform(data_encoded[['Item_Weight', 'Item_Visibility', 'Item_MRP']])"
      ],
      "metadata": {
        "id": "rLRNGV8_pAaI"
      },
      "execution_count": null,
      "outputs": []
    },
    {
      "cell_type": "code",
      "source": [
        "Trainig_Set_Data.head()"
      ],
      "metadata": {
        "id": "27W8glwqrEkJ"
      },
      "execution_count": null,
      "outputs": []
    },
    {
      "cell_type": "code",
      "source": [
        "# Drop the original categorical feature 'Item_Type' after encoding\n",
        "data_encoded.drop('Item_Type', axis=1, inplace=True)"
      ],
      "metadata": {
        "id": "sA0KEvb-qfhF"
      },
      "execution_count": null,
      "outputs": []
    },
    {
      "cell_type": "markdown",
      "source": [
        "Applying Label Encoding to Outlet_Size"
      ],
      "metadata": {
        "id": "iQbgficOBO98"
      }
    },
    {
      "cell_type": "code",
      "source": [
        "Trainig_Set_Data['Outlet_Size'].unique()"
      ],
      "metadata": {
        "id": "iTvt6RDKBOfW"
      },
      "execution_count": null,
      "outputs": []
    },
    {
      "cell_type": "markdown",
      "source": [
        "Replacing High with Large in Outlet_Size"
      ],
      "metadata": {
        "id": "UziZrPhlBl4l"
      }
    },
    {
      "cell_type": "code",
      "source": [
        "Trainig_Set_Data['Outlet_Size'] = Trainig_Set_Data['Outlet_Size'].replace('High', 'Large')"
      ],
      "metadata": {
        "id": "9q7dpw-wBdpw"
      },
      "execution_count": null,
      "outputs": []
    },
    {
      "cell_type": "markdown",
      "source": [
        "Encoding Outlet_Size"
      ],
      "metadata": {
        "id": "YDktK72GBqxD"
      }
    },
    {
      "cell_type": "code",
      "source": [
        "# label_encoder object knows\n",
        "# how to understand word labels.\n",
        "label_encoder = preprocessing.LabelEncoder()\n",
        "\n",
        "# Encode labels in column 'species'.\n",
        "Trainig_Set_Data['Outlet_Size']= label_encoder.fit_transform(Trainig_Set_Data['Outlet_Size'])\n",
        "\n",
        "Trainig_Set_Data['Outlet_Size'].unique()"
      ],
      "metadata": {
        "id": "TU_fFBVsBtcb"
      },
      "execution_count": null,
      "outputs": []
    },
    {
      "cell_type": "markdown",
      "source": [
        "Encoding Outlet_Location_Type"
      ],
      "metadata": {
        "id": "8cwRhZ6dCGm5"
      }
    },
    {
      "cell_type": "code",
      "source": [
        "Trainig_Set_Data['Outlet_Location_Type'].unique()"
      ],
      "metadata": {
        "id": "dZX2mwFbCEY7"
      },
      "execution_count": null,
      "outputs": []
    },
    {
      "cell_type": "code",
      "source": [
        "# label_encoder object knows\n",
        "# how to understand word labels.\n",
        "label_encoder = preprocessing.LabelEncoder()\n",
        "\n",
        "# Encode labels in column 'species'.\n",
        "Trainig_Set_Data['Outlet_Location_Type']= label_encoder.fit_transform(Trainig_Set_Data['Outlet_Location_Type'])\n",
        "\n",
        "Trainig_Set_Data['Outlet_Location_Type'].unique()"
      ],
      "metadata": {
        "id": "kOag-Gt2CERW"
      },
      "execution_count": null,
      "outputs": []
    },
    {
      "cell_type": "markdown",
      "source": [
        "Encoding Outlet_Type"
      ],
      "metadata": {
        "id": "2tCzuUgvCsnI"
      }
    },
    {
      "cell_type": "code",
      "source": [
        "Trainig_Set_Data['Outlet_Type'].unique()"
      ],
      "metadata": {
        "id": "ZGqndvnECECV"
      },
      "execution_count": null,
      "outputs": []
    },
    {
      "cell_type": "code",
      "source": [
        "# label_encoder object knows\n",
        "# how to understand word labels.\n",
        "label_encoder = preprocessing.LabelEncoder()\n",
        "\n",
        "# Encode labels in column 'species'.\n",
        "Trainig_Set_Data['Outlet_Type']= label_encoder.fit_transform(Trainig_Set_Data['Outlet_Type'])\n",
        "\n",
        "Trainig_Set_Data['Outlet_Type'].unique()"
      ],
      "metadata": {
        "id": "7RGdW7Y6C47i"
      },
      "execution_count": null,
      "outputs": []
    },
    {
      "cell_type": "markdown",
      "source": [
        "Encoding Outlet_Identifier"
      ],
      "metadata": {
        "id": "RS4CowzdMYFm"
      }
    },
    {
      "cell_type": "code",
      "source": [
        "Trainig_Set_Data['Outlet_Identifier'].unique()"
      ],
      "metadata": {
        "id": "1QPFwECaL_TC"
      },
      "execution_count": null,
      "outputs": []
    },
    {
      "cell_type": "code",
      "source": [
        "# label_encoder object knows\n",
        "# how to understand word labels.\n",
        "label_encoder = preprocessing.LabelEncoder()\n",
        "\n",
        "# Encode labels in column 'species'.\n",
        "Trainig_Set_Data['Outlet_Identifier']= label_encoder.fit_transform(Trainig_Set_Data['Outlet_Identifier'])\n",
        "\n",
        "Trainig_Set_Data['Outlet_Identifier'].unique()"
      ],
      "metadata": {
        "id": "-ip2EyHKMVg1"
      },
      "execution_count": null,
      "outputs": []
    },
    {
      "cell_type": "code",
      "source": [
        "Trainig_Set_Data.head()"
      ],
      "metadata": {
        "id": "9a3SfDCeAxkk"
      },
      "execution_count": null,
      "outputs": []
    },
    {
      "cell_type": "markdown",
      "source": [
        "#Applying linear Regression to dataset"
      ],
      "metadata": {
        "id": "K3Z3cc06-qZS"
      }
    },
    {
      "cell_type": "code",
      "source": [
        "# # Select the independent variables (features) and dependent variable (target)\n",
        "# X = Trainig_Set_Data[['Item_Weight', 'Item_Visibility', 'Item_MRP']]\n",
        "# y = Trainig_Set_Data['Item_Outlet_Sales']\n",
        "\n",
        "# # Split the data into training and testing sets\n",
        "# X_train, X_test, y_train, y_test = train_test_split(X, y, test_size=0.3, random_state=101)\n",
        "\n",
        "# # Initialize the linear regression model\n",
        "# model = LinearRegression()\n",
        "\n",
        "# # Fit the model to the training data\n",
        "# model.fit(X_train, y_train)\n",
        "\n",
        "# # Predict on the test data\n",
        "# y_pred = model.predict(X_test)\n",
        "\n",
        "# # Evaluate the model's performance\n",
        "# mse = mean_squared_error(y_test, y_pred)\n",
        "# r2 = r2_score(y_test, y_pred)\n",
        "\n",
        "# # Print the evaluation metrics\n",
        "# print(\"Mean Squared Error:\", mse)\n",
        "# print(\"R-squared Score:\", r2)\n",
        "\n",
        "# # Interpret the coefficients\n",
        "# coefficients = pd.DataFrame({'Feature': X.columns, 'Coefficient': model.coef_})\n",
        "# print(coefficients)"
      ],
      "metadata": {
        "id": "iYyBjUANBFt7"
      },
      "execution_count": null,
      "outputs": []
    },
    {
      "cell_type": "markdown",
      "source": [
        "With only 'Item_Weight', 'Item_Visibility', 'Item_MRP' error is 1439081\n",
        "and with all col error is 1438885.0179770319\n",
        "so 'Item_Fat_Content' and 'Item_Type' not affecting error so much\n",
        "\n",
        "So i can remove these 2 cols to simplify dataset\n"
      ],
      "metadata": {
        "id": "9M7CVCJI8-Td"
      }
    },
    {
      "cell_type": "markdown",
      "source": [
        "#Trying models"
      ],
      "metadata": {
        "id": "169lUtfRKOsl"
      }
    },
    {
      "cell_type": "code",
      "source": [
        "# Select the independent variables (features) and dependent variable (target)\n",
        "X = Trainig_Set_Data[['Item_MRP']]\n",
        "y = Trainig_Set_Data['Item_Outlet_Sales']\n",
        "\n",
        "# Split the data into training and testing sets\n",
        "X_train, X_test, y_train, y_test = train_test_split(X, y, test_size=0.2, random_state=1000)\n"
      ],
      "metadata": {
        "id": "xI-zyUyM7ZQ2"
      },
      "execution_count": null,
      "outputs": []
    },
    {
      "cell_type": "markdown",
      "source": [
        "Linear Regression is the most accurate model"
      ],
      "metadata": {
        "id": "MrszoFtvKI0i"
      }
    },
    {
      "cell_type": "code",
      "source": [
        "# Initialize and train the models\n",
        "linear_regression = LinearRegression()\n",
        "linear_regression.fit(X_train, y_train)\n",
        "\n",
        "# Predict on the test data\n",
        "linear_regression_preds = linear_regression.predict(X_test)\n",
        "\n",
        "# Evaluate the models' performance\n",
        "linear_regression_mae = mean_absolute_error(y_test, linear_regression_preds)\n",
        "linear_regression_r2 = r2_score(y_test, linear_regression_preds)\n",
        "\n",
        "# Print the evaluation metrics\n",
        "print(\"Linear Regression:\")\n",
        "print(\"Mean Absolute Error:\", linear_regression_mae)\n",
        "print(\"R-squared Score:\", linear_regression_r2)\n",
        "print()\n"
      ],
      "metadata": {
        "id": "n8LNfel7IWrq"
      },
      "execution_count": null,
      "outputs": []
    },
    {
      "cell_type": "code",
      "source": [
        "ridge_regression = Ridge(solver='cholesky')\n",
        "ridge_regression.fit(X_train, y_train)\n",
        "# Predict on the test data\n",
        "ridge_regression_preds = ridge_regression.predict(X_test)\n",
        "\n",
        "ridge_regression_mae = mean_absolute_error(y_test, ridge_regression_preds)\n",
        "ridge_regression_r2 = r2_score(y_test, ridge_regression_preds)\n",
        "\n",
        "print(\"Ridge Regression:\")\n",
        "print(\"Mean Absolute Error:\", ridge_regression_mae)\n",
        "print(\"R-squared Score:\", ridge_regression_r2)\n",
        "print()"
      ],
      "metadata": {
        "id": "-UZvIOsXa5_L"
      },
      "execution_count": null,
      "outputs": []
    },
    {
      "cell_type": "code",
      "source": [
        "lasso_regression = Lasso()\n",
        "lasso_regression.fit(X_train, y_train)\n",
        "# Predict on the test data\n",
        "lasso_regression_preds = lasso_regression.predict(X_test)\n",
        "\n",
        "lasso_regression_mae = mean_absolute_error(y_test, lasso_regression_preds)\n",
        "lasso_regression_r2 = r2_score(y_test, lasso_regression_preds)\n",
        "\n",
        "print(\"Lasso Regression:\")\n",
        "print(\"Mean Absolute Error:\", lasso_regression_mae)\n",
        "print(\"R-squared Score:\", lasso_regression_r2)\n",
        "print()"
      ],
      "metadata": {
        "id": "f2MnAw-7a8Ue"
      },
      "execution_count": null,
      "outputs": []
    },
    {
      "cell_type": "code",
      "source": [
        "random_forest = RandomForestRegressor(n_estimators=100)\n",
        "random_forest.fit(X_train, y_train)\n",
        "# Predict on the test data\n",
        "random_forest_preds = random_forest.predict(X_test)\n",
        "\n",
        "random_forest_mae = mean_absolute_error(y_test, random_forest_preds)\n",
        "random_forest_r2 = r2_score(y_test, random_forest_preds)\n",
        "\n",
        "print(\"Random Forest:\")\n",
        "print(\"Mean Absolute Error:\", random_forest_mae)\n",
        "print(\"R-squared Score:\", random_forest_r2)\n",
        "print()"
      ],
      "metadata": {
        "id": "clPkkvP-a-ru"
      },
      "execution_count": null,
      "outputs": []
    },
    {
      "cell_type": "code",
      "source": [
        "xgboost = XGBRegressor()\n",
        "xgboost.fit(X_train, y_train)\n",
        "# Predict on the test data\n",
        "xgboost_preds = xgboost.predict(X_test)\n",
        "\n",
        "xgboost_mae = mean_absolute_error(y_test, xgboost_preds)\n",
        "xgboost_r2 = r2_score(y_test, xgboost_preds)\n",
        "\n",
        "print(\"XGBoost:\")\n",
        "print(\"Mean Absolute Error:\", xgboost_mae)\n",
        "print(\"R-squared Score:\", xgboost_r2)\n"
      ],
      "metadata": {
        "id": "M6AuC5t0bBGy"
      },
      "execution_count": null,
      "outputs": []
    },
    {
      "cell_type": "markdown",
      "source": [
        "#Try predicting Item_outlet_Sales in test dataset"
      ],
      "metadata": {
        "id": "kWUrVkI-xdPs"
      }
    },
    {
      "cell_type": "code",
      "source": [
        "Test_Set_Path = '/content/Test.csv'\n",
        "Test_Set_Data = pd.read_csv(Test_Set_Path)\n",
        "Test_Set_Data\n",
        "# Trainig_Set_Data.describe()\n",
        "# Trainig_Set_Data.head()"
      ],
      "metadata": {
        "id": "SrN-GlsOyYEX"
      },
      "execution_count": null,
      "outputs": []
    },
    {
      "cell_type": "code",
      "source": [
        "Test_Set_Data.Item_Fat_Content.unique()"
      ],
      "metadata": {
        "id": "mlEVHrVzzAEq"
      },
      "execution_count": null,
      "outputs": []
    },
    {
      "cell_type": "code",
      "source": [
        "Test_Set_Data['Item_Fat_Content'] = Test_Set_Data['Item_Fat_Content'].replace('LF', 'Low Fat')\n",
        "Test_Set_Data['Item_Fat_Content'] = Test_Set_Data['Item_Fat_Content'].replace('low fat', 'Low Fat')\n",
        "Test_Set_Data['Item_Fat_Content'] = Test_Set_Data['Item_Fat_Content'].replace('reg', 'Regular')\n",
        "Test_Set_Data['Item_Fat_Content'][85]"
      ],
      "metadata": {
        "id": "VCBdNVaMuoYa",
        "colab": {
          "base_uri": "https://localhost:8080/",
          "height": 36
        },
        "outputId": "e10fb796-bdef-418f-96a1-5f01e2fca20c"
      },
      "execution_count": null,
      "outputs": [
        {
          "output_type": "execute_result",
          "data": {
            "text/plain": [
              "'Regular'"
            ],
            "application/vnd.google.colaboratory.intrinsic+json": {
              "type": "string"
            }
          },
          "metadata": {},
          "execution_count": 87
        }
      ]
    },
    {
      "cell_type": "code",
      "source": [
        "# Iterate over each row in the DataFrame\n",
        "for index, row in Test_Set_Data.iterrows():\n",
        "    # Check if Item_Weight value is NaN\n",
        "    if pd.isnull(row['Item_Weight']):\n",
        "        # Get the Item_Identifier name\n",
        "        name = row['Item_Identifier']\n",
        "\n",
        "        # Search for the name in Item_Identifier column\n",
        "        mask = Test_Set_Data['Item_Identifier'] == name\n",
        "\n",
        "        # Check if a non-NaN value exists in Item_Weight column for the given name\n",
        "        if Test_Set_Data.loc[mask, 'Item_Weight'].notnull().any():\n",
        "            # Get the non-NaN value from Item_Weight column\n",
        "            value = Test_Set_Data.loc[mask, 'Item_Weight'].dropna().iloc[0]\n",
        "\n",
        "            # Check if the value is not NaN in the same row\n",
        "            if pd.isnull(Test_Set_Data.loc[index, 'Item_Weight']):\n",
        "                # Replace NaN with the retrieved value\n",
        "                Test_Set_Data.loc[index, 'Item_Weight'] = value"
      ],
      "metadata": {
        "id": "oAaFtMBLxy9W"
      },
      "execution_count": null,
      "outputs": []
    },
    {
      "cell_type": "code",
      "source": [
        "Test_Set_Data[pd.isnull(Test_Set_Data.Item_Weight)]"
      ],
      "metadata": {
        "id": "WSwW5gFJzw0M"
      },
      "execution_count": null,
      "outputs": []
    },
    {
      "cell_type": "code",
      "source": [
        "Test_Set_Data.dropna(subset=['Item_Weight'], inplace=True)"
      ],
      "metadata": {
        "id": "d87LBK3tz3er"
      },
      "execution_count": null,
      "outputs": []
    },
    {
      "cell_type": "code",
      "source": [
        "Test_Set_Data[pd.isnull(Test_Set_Data.Item_Weight)]"
      ],
      "metadata": {
        "id": "G7emJi4Qz58N"
      },
      "execution_count": null,
      "outputs": []
    },
    {
      "cell_type": "code",
      "source": [
        "# Iterate over each row in the DataFrame\n",
        "for index, row in Test_Set_Data.iterrows():\n",
        "    # Check if Outlet_Size value is NaN\n",
        "    if pd.isnull(row['Outlet_Size']):\n",
        "        # Get the Item_Identifier name\n",
        "        name = row['Item_Identifier']\n",
        "\n",
        "        # Search for the name in Item_Identifier column\n",
        "        mask = Test_Set_Data['Item_Identifier'] == name\n",
        "\n",
        "        # Check if a non-NaN value exists in Outlet_Size column for the given name\n",
        "        if Test_Set_Data.loc[mask, 'Outlet_Size'].notnull().any():\n",
        "            # Get the non-NaN value from Outlet_Size column\n",
        "            value = Test_Set_Data.loc[mask, 'Outlet_Size'].dropna().iloc[0]\n",
        "\n",
        "            # Check if the value is not NaN in the same row\n",
        "            if pd.isnull(Test_Set_Data.loc[index, 'Outlet_Size']):\n",
        "                # Replace NaN with the retrieved value\n",
        "                Test_Set_Data.loc[index, 'Outlet_Size'] = value"
      ],
      "metadata": {
        "id": "sds6-pkXz9ZX"
      },
      "execution_count": null,
      "outputs": []
    },
    {
      "cell_type": "code",
      "source": [
        "Test_Set_Data[pd.isnull(Test_Set_Data.Outlet_Size)]"
      ],
      "metadata": {
        "id": "8LDh8nLr0EZW"
      },
      "execution_count": null,
      "outputs": []
    },
    {
      "cell_type": "code",
      "source": [
        "Test_Set_Data.dropna(subset=['Outlet_Size'], inplace=True)"
      ],
      "metadata": {
        "id": "99SM0QjU0ICU"
      },
      "execution_count": null,
      "outputs": []
    },
    {
      "cell_type": "code",
      "source": [
        "Test_Set_Data.head()"
      ],
      "metadata": {
        "id": "IYPVNFdt0Klo"
      },
      "execution_count": null,
      "outputs": []
    },
    {
      "cell_type": "code",
      "source": [
        "Test_Set_Data.corr()"
      ],
      "metadata": {
        "id": "Ug2MVem50PtG"
      },
      "execution_count": null,
      "outputs": []
    },
    {
      "cell_type": "code",
      "source": [
        "numeric_columns = ['Item_Weight', 'Item_Visibility', 'Item_MRP', 'Outlet_Establishment_Year']\n",
        "\n",
        "for column in numeric_columns:\n",
        "    plt.figure(figsize=(6, 4))\n",
        "    sns.boxplot(data=Test_Set_Data[column])\n",
        "    plt.title(f'Boxplot of {column}')\n",
        "    plt.show()"
      ],
      "metadata": {
        "id": "eYfYM39C0eck"
      },
      "execution_count": null,
      "outputs": []
    },
    {
      "cell_type": "code",
      "source": [
        "summary_stats = Test_Set_Data[numeric_columns].describe()\n",
        "print(summary_stats)"
      ],
      "metadata": {
        "id": "lDU8ayDY0j2W"
      },
      "execution_count": null,
      "outputs": []
    },
    {
      "cell_type": "code",
      "source": [
        "# Handling outliers (Approach: removing outliers)\n",
        "def remove_outliers(df, column):\n",
        "    q1 = df[column].quantile(0.25)\n",
        "    q3 = df[column].quantile(0.75)\n",
        "    iqr = q3 - q1\n",
        "    lower_bound = q1 - (1.5 * iqr)\n",
        "    upper_bound = q3 + (1.5 * iqr)\n",
        "    df = df[(df[column] >= lower_bound) & (df[column] <= upper_bound)]\n",
        "    return df\n",
        "\n",
        "# Removing outliers\n",
        "# Trainig_Set_Data = remove_outliers(Trainig_Set_Data, 'Item_Outlet_Sales')\n",
        "Test_Set_Data = remove_outliers(Test_Set_Data, 'Item_Visibility')"
      ],
      "metadata": {
        "id": "VGzwEI970nOm"
      },
      "execution_count": null,
      "outputs": []
    },
    {
      "cell_type": "code",
      "source": [
        "updated_summary_stats = Test_Set_Data[numeric_columns].describe()\n",
        "print(updated_summary_stats)"
      ],
      "metadata": {
        "id": "KTkl6YIw0r-y"
      },
      "execution_count": null,
      "outputs": []
    },
    {
      "cell_type": "code",
      "source": [
        "Test_Set_Data.boxplot(column=[\"Item_Visibility\"])"
      ],
      "metadata": {
        "id": "FxcWaeRK0xQ8"
      },
      "execution_count": null,
      "outputs": []
    },
    {
      "cell_type": "code",
      "source": [
        "duplicate = Test_Set_Data.duplicated()\n",
        "print(duplicate.sum())"
      ],
      "metadata": {
        "id": "ZC7nleKV00Rq"
      },
      "execution_count": null,
      "outputs": []
    },
    {
      "cell_type": "code",
      "source": [
        "Test_Set_Data['Item_Fat_Content'].unique()"
      ],
      "metadata": {
        "id": "QDC-lWtS05qd"
      },
      "execution_count": null,
      "outputs": []
    },
    {
      "cell_type": "code",
      "source": [
        "# label_encoder object knows\n",
        "# how to understand word labels.\n",
        "label_encoder = preprocessing.LabelEncoder()\n",
        "\n",
        "# Encode labels in column 'species'.\n",
        "Test_Set_Data['Item_Fat_Content']= label_encoder.fit_transform(Test_Set_Data['Item_Fat_Content'])\n",
        "\n",
        "Test_Set_Data['Item_Fat_Content'].unique()"
      ],
      "metadata": {
        "id": "yCR_tfjV08sK"
      },
      "execution_count": null,
      "outputs": []
    },
    {
      "cell_type": "code",
      "source": [
        "Test_Set_Data['Item_Type'].unique()"
      ],
      "metadata": {
        "id": "Xy8y7pnX1CB9"
      },
      "execution_count": null,
      "outputs": []
    },
    {
      "cell_type": "code",
      "source": [
        "onehot_encoder = OneHotEncoder(drop='first', sparse=False)\n",
        "onehot_encoded = onehot_encoder.fit_transform(Test_Set_Data[['Item_Type']])\n",
        "data_encoded = pd.concat([Test_Set_Data, pd.DataFrame(onehot_encoded)], axis=1)"
      ],
      "metadata": {
        "id": "wzzCU2Rc1FLX"
      },
      "execution_count": null,
      "outputs": []
    },
    {
      "cell_type": "code",
      "source": [
        "scaler = StandardScaler()\n",
        "data_encoded[['Item_Weight', 'Item_Visibility', 'Item_MRP']] = scaler.fit_transform(data_encoded[['Item_Weight', 'Item_Visibility', 'Item_MRP']])"
      ],
      "metadata": {
        "id": "Wnwh6oDc1I_D"
      },
      "execution_count": null,
      "outputs": []
    },
    {
      "cell_type": "code",
      "source": [
        "# Drop the original categorical feature 'Item_Type' after encoding\n",
        "data_encoded.drop('Item_Type', axis=1, inplace=True)"
      ],
      "metadata": {
        "id": "3d74rzPd1NQD"
      },
      "execution_count": null,
      "outputs": []
    },
    {
      "cell_type": "code",
      "source": [
        "Test_Set_Data['Outlet_Size'] = Test_Set_Data['Outlet_Size'].replace('High', 'Large')"
      ],
      "metadata": {
        "id": "i0r4sRZO1QBJ"
      },
      "execution_count": null,
      "outputs": []
    },
    {
      "cell_type": "code",
      "source": [
        "# label_encoder object knows\n",
        "# how to understand word labels.\n",
        "label_encoder = preprocessing.LabelEncoder()\n",
        "\n",
        "# Encode labels in column 'species'.\n",
        "Test_Set_Data['Outlet_Size']= label_encoder.fit_transform(Test_Set_Data['Outlet_Size'])\n",
        "\n",
        "Test_Set_Data['Outlet_Size'].unique()"
      ],
      "metadata": {
        "id": "YBlYmR4b1Tvr"
      },
      "execution_count": null,
      "outputs": []
    },
    {
      "cell_type": "code",
      "source": [
        "# label_encoder object knows\n",
        "# how to understand word labels.\n",
        "label_encoder = preprocessing.LabelEncoder()\n",
        "\n",
        "# Encode labels in column 'species'.\n",
        "Test_Set_Data['Outlet_Location_Type']= label_encoder.fit_transform(Test_Set_Data['Outlet_Location_Type'])\n",
        "\n",
        "Test_Set_Data['Outlet_Location_Type'].unique()"
      ],
      "metadata": {
        "id": "BmnAhuGY1Y8Y"
      },
      "execution_count": null,
      "outputs": []
    },
    {
      "cell_type": "code",
      "source": [
        "# label_encoder object knows\n",
        "# how to understand word labels.\n",
        "label_encoder = preprocessing.LabelEncoder()\n",
        "\n",
        "# Encode labels in column 'species'.\n",
        "Test_Set_Data['Outlet_Type']= label_encoder.fit_transform(Test_Set_Data['Outlet_Type'])\n",
        "\n",
        "Test_Set_Data['Outlet_Type'].unique()"
      ],
      "metadata": {
        "id": "1x2s97Ob1dab"
      },
      "execution_count": null,
      "outputs": []
    },
    {
      "cell_type": "code",
      "source": [
        "# label_encoder object knows\n",
        "# how to understand word labels.\n",
        "label_encoder = preprocessing.LabelEncoder()\n",
        "\n",
        "# Encode labels in column 'species'.\n",
        "Test_Set_Data['Outlet_Identifier']= label_encoder.fit_transform(Test_Set_Data['Outlet_Identifier'])\n",
        "\n",
        "Test_Set_Data['Outlet_Identifier'].unique()"
      ],
      "metadata": {
        "colab": {
          "base_uri": "https://localhost:8080/"
        },
        "id": "MK-mSogg1h8Z",
        "outputId": "a723d122-8139-40c4-9015-41272b7a0190"
      },
      "execution_count": null,
      "outputs": [
        {
          "output_type": "execute_result",
          "data": {
            "text/plain": [
              "array([9, 2, 0, 5, 8, 3, 7, 4, 1, 6])"
            ]
          },
          "metadata": {},
          "execution_count": 117
        }
      ]
    },
    {
      "cell_type": "code",
      "source": [
        "import pandas as pd\n",
        "from sklearn.model_selection import train_test_split\n",
        "from sklearn.preprocessing import StandardScaler\n",
        "import xgboost as xgb"
      ],
      "metadata": {
        "id": "UzxC9bEU1rw8"
      },
      "execution_count": null,
      "outputs": []
    },
    {
      "cell_type": "code",
      "source": [
        "# Select the independent variables/features from the new dataset\n",
        "X_new = Test_Set_Data[['Item_MRP']]\n",
        "\n",
        "# Use the trained XGBoost model to make predictions on the new dataset\n",
        "predictions = xgboost.predict(X_new)\n",
        "\n",
        "# Add the predicted values to the new dataset\n",
        "Test_Set_Data['Item_Outlet_Sales_Predicted'] = predictions\n",
        "\n",
        "# Print the new dataset with the predicted values\n",
        "print(Test_Set_Data)"
      ],
      "metadata": {
        "id": "eonQZMQ91ydl"
      },
      "execution_count": null,
      "outputs": []
    },
    {
      "cell_type": "code",
      "source": [
        "Test_Set_Data['Item_Outlet_Sales'] = predictions"
      ],
      "metadata": {
        "id": "KGN4_h194i_Y"
      },
      "execution_count": null,
      "outputs": []
    },
    {
      "cell_type": "code",
      "source": [
        "Test_Set_Data.to_csv('new_dataset_with_predictions.csv', index=False)\n",
        "\n",
        "# Download the new dataset with the added column\n",
        "from google.colab import files\n",
        "files.download('new_dataset_with_predictions.csv')"
      ],
      "metadata": {
        "colab": {
          "base_uri": "https://localhost:8080/",
          "height": 17
        },
        "id": "IxYXlpTr4pvf",
        "outputId": "9a2ee5c0-464d-410b-e06f-f1dd763b106f"
      },
      "execution_count": null,
      "outputs": [
        {
          "output_type": "display_data",
          "data": {
            "text/plain": [
              "<IPython.core.display.Javascript object>"
            ],
            "application/javascript": [
              "\n",
              "    async function download(id, filename, size) {\n",
              "      if (!google.colab.kernel.accessAllowed) {\n",
              "        return;\n",
              "      }\n",
              "      const div = document.createElement('div');\n",
              "      const label = document.createElement('label');\n",
              "      label.textContent = `Downloading \"${filename}\": `;\n",
              "      div.appendChild(label);\n",
              "      const progress = document.createElement('progress');\n",
              "      progress.max = size;\n",
              "      div.appendChild(progress);\n",
              "      document.body.appendChild(div);\n",
              "\n",
              "      const buffers = [];\n",
              "      let downloaded = 0;\n",
              "\n",
              "      const channel = await google.colab.kernel.comms.open(id);\n",
              "      // Send a message to notify the kernel that we're ready.\n",
              "      channel.send({})\n",
              "\n",
              "      for await (const message of channel.messages) {\n",
              "        // Send a message to notify the kernel that we're ready.\n",
              "        channel.send({})\n",
              "        if (message.buffers) {\n",
              "          for (const buffer of message.buffers) {\n",
              "            buffers.push(buffer);\n",
              "            downloaded += buffer.byteLength;\n",
              "            progress.value = downloaded;\n",
              "          }\n",
              "        }\n",
              "      }\n",
              "      const blob = new Blob(buffers, {type: 'application/binary'});\n",
              "      const a = document.createElement('a');\n",
              "      a.href = window.URL.createObjectURL(blob);\n",
              "      a.download = filename;\n",
              "      div.appendChild(a);\n",
              "      a.click();\n",
              "      div.remove();\n",
              "    }\n",
              "  "
            ]
          },
          "metadata": {}
        },
        {
          "output_type": "display_data",
          "data": {
            "text/plain": [
              "<IPython.core.display.Javascript object>"
            ],
            "application/javascript": [
              "download(\"download_10a9e744-7095-4166-94c7-9059f1e44809\", \"new_dataset_with_predictions.csv\", 428125)"
            ]
          },
          "metadata": {}
        }
      ]
    }
  ]
}