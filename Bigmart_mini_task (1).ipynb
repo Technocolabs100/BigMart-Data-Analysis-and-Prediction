{
  "nbformat": 4,
  "nbformat_minor": 0,
  "metadata": {
    "colab": {
      "provenance": [],
      "gpuType": "T4"
    },
    "kernelspec": {
      "name": "python3",
      "display_name": "Python 3"
    },
    "language_info": {
      "name": "python"
    },
    "accelerator": "GPU"
  },
  "cells": [
    {
      "cell_type": "code",
      "execution_count": 1,
      "metadata": {
        "id": "AbdAOf9Sc_Jh"
      },
      "outputs": [],
      "source": [
        "import pandas as pd\n",
        "import numpy as np\n",
        "%matplotlib inline\n",
        "import matplotlib.pyplot as plt\n",
        "import seaborn as sns\n",
        "from sklearn.preprocessing import LabelEncoder\n",
        "from sklearn.linear_model import LinearRegression\n",
        "from sklearn.metrics import mean_absolute_error\n",
        "from sklearn.metrics import mean_squared_error\n",
        "from sklearn.metrics import r2_score\n",
        "from sklearn.ensemble import RandomForestRegressor\n",
        "from sklearn.model_selection import RepeatedStratifiedKFold\n",
        "from sklearn.model_selection import GridSearchCV\n"
      ]
    },
    {
      "cell_type": "code",
      "source": [
        "df_train= pd.read_csv(\"/content/Train.csv\")\n",
        "df_test= pd.read_csv(\"/content/Test.csv\")"
      ],
      "metadata": {
        "id": "7vQgEqSFdF8n"
      },
      "execution_count": 2,
      "outputs": []
    },
    {
      "cell_type": "code",
      "source": [
        "df_train.head()"
      ],
      "metadata": {
        "id": "lUqNvxLwdjTX",
        "colab": {
          "base_uri": "https://localhost:8080/",
          "height": 357
        },
        "outputId": "06550f68-e0f6-4ec0-e178-b33da277ae3e"
      },
      "execution_count": 3,
      "outputs": [
        {
          "output_type": "execute_result",
          "data": {
            "text/plain": [
              "  Item_Identifier  Item_Weight Item_Fat_Content  Item_Visibility  \\\n",
              "0           FDA15         9.30          Low Fat         0.016047   \n",
              "1           DRC01         5.92          Regular         0.019278   \n",
              "2           FDN15        17.50          Low Fat         0.016760   \n",
              "3           FDX07        19.20          Regular         0.000000   \n",
              "4           NCD19         8.93          Low Fat         0.000000   \n",
              "\n",
              "               Item_Type  Item_MRP Outlet_Identifier  \\\n",
              "0                  Dairy  249.8092            OUT049   \n",
              "1            Soft Drinks   48.2692            OUT018   \n",
              "2                   Meat  141.6180            OUT049   \n",
              "3  Fruits and Vegetables  182.0950            OUT010   \n",
              "4              Household   53.8614            OUT013   \n",
              "\n",
              "   Outlet_Establishment_Year Outlet_Size Outlet_Location_Type  \\\n",
              "0                       1999      Medium               Tier 1   \n",
              "1                       2009      Medium               Tier 3   \n",
              "2                       1999      Medium               Tier 1   \n",
              "3                       1998         NaN               Tier 3   \n",
              "4                       1987        High               Tier 3   \n",
              "\n",
              "         Outlet_Type  Item_Outlet_Sales  \n",
              "0  Supermarket Type1          3735.1380  \n",
              "1  Supermarket Type2           443.4228  \n",
              "2  Supermarket Type1          2097.2700  \n",
              "3      Grocery Store           732.3800  \n",
              "4  Supermarket Type1           994.7052  "
            ],
            "text/html": [
              "\n",
              "  <div id=\"df-54d8611d-bc43-4712-a74e-cddcfe1c40fb\">\n",
              "    <div class=\"colab-df-container\">\n",
              "      <div>\n",
              "<style scoped>\n",
              "    .dataframe tbody tr th:only-of-type {\n",
              "        vertical-align: middle;\n",
              "    }\n",
              "\n",
              "    .dataframe tbody tr th {\n",
              "        vertical-align: top;\n",
              "    }\n",
              "\n",
              "    .dataframe thead th {\n",
              "        text-align: right;\n",
              "    }\n",
              "</style>\n",
              "<table border=\"1\" class=\"dataframe\">\n",
              "  <thead>\n",
              "    <tr style=\"text-align: right;\">\n",
              "      <th></th>\n",
              "      <th>Item_Identifier</th>\n",
              "      <th>Item_Weight</th>\n",
              "      <th>Item_Fat_Content</th>\n",
              "      <th>Item_Visibility</th>\n",
              "      <th>Item_Type</th>\n",
              "      <th>Item_MRP</th>\n",
              "      <th>Outlet_Identifier</th>\n",
              "      <th>Outlet_Establishment_Year</th>\n",
              "      <th>Outlet_Size</th>\n",
              "      <th>Outlet_Location_Type</th>\n",
              "      <th>Outlet_Type</th>\n",
              "      <th>Item_Outlet_Sales</th>\n",
              "    </tr>\n",
              "  </thead>\n",
              "  <tbody>\n",
              "    <tr>\n",
              "      <th>0</th>\n",
              "      <td>FDA15</td>\n",
              "      <td>9.30</td>\n",
              "      <td>Low Fat</td>\n",
              "      <td>0.016047</td>\n",
              "      <td>Dairy</td>\n",
              "      <td>249.8092</td>\n",
              "      <td>OUT049</td>\n",
              "      <td>1999</td>\n",
              "      <td>Medium</td>\n",
              "      <td>Tier 1</td>\n",
              "      <td>Supermarket Type1</td>\n",
              "      <td>3735.1380</td>\n",
              "    </tr>\n",
              "    <tr>\n",
              "      <th>1</th>\n",
              "      <td>DRC01</td>\n",
              "      <td>5.92</td>\n",
              "      <td>Regular</td>\n",
              "      <td>0.019278</td>\n",
              "      <td>Soft Drinks</td>\n",
              "      <td>48.2692</td>\n",
              "      <td>OUT018</td>\n",
              "      <td>2009</td>\n",
              "      <td>Medium</td>\n",
              "      <td>Tier 3</td>\n",
              "      <td>Supermarket Type2</td>\n",
              "      <td>443.4228</td>\n",
              "    </tr>\n",
              "    <tr>\n",
              "      <th>2</th>\n",
              "      <td>FDN15</td>\n",
              "      <td>17.50</td>\n",
              "      <td>Low Fat</td>\n",
              "      <td>0.016760</td>\n",
              "      <td>Meat</td>\n",
              "      <td>141.6180</td>\n",
              "      <td>OUT049</td>\n",
              "      <td>1999</td>\n",
              "      <td>Medium</td>\n",
              "      <td>Tier 1</td>\n",
              "      <td>Supermarket Type1</td>\n",
              "      <td>2097.2700</td>\n",
              "    </tr>\n",
              "    <tr>\n",
              "      <th>3</th>\n",
              "      <td>FDX07</td>\n",
              "      <td>19.20</td>\n",
              "      <td>Regular</td>\n",
              "      <td>0.000000</td>\n",
              "      <td>Fruits and Vegetables</td>\n",
              "      <td>182.0950</td>\n",
              "      <td>OUT010</td>\n",
              "      <td>1998</td>\n",
              "      <td>NaN</td>\n",
              "      <td>Tier 3</td>\n",
              "      <td>Grocery Store</td>\n",
              "      <td>732.3800</td>\n",
              "    </tr>\n",
              "    <tr>\n",
              "      <th>4</th>\n",
              "      <td>NCD19</td>\n",
              "      <td>8.93</td>\n",
              "      <td>Low Fat</td>\n",
              "      <td>0.000000</td>\n",
              "      <td>Household</td>\n",
              "      <td>53.8614</td>\n",
              "      <td>OUT013</td>\n",
              "      <td>1987</td>\n",
              "      <td>High</td>\n",
              "      <td>Tier 3</td>\n",
              "      <td>Supermarket Type1</td>\n",
              "      <td>994.7052</td>\n",
              "    </tr>\n",
              "  </tbody>\n",
              "</table>\n",
              "</div>\n",
              "      <button class=\"colab-df-convert\" onclick=\"convertToInteractive('df-54d8611d-bc43-4712-a74e-cddcfe1c40fb')\"\n",
              "              title=\"Convert this dataframe to an interactive table.\"\n",
              "              style=\"display:none;\">\n",
              "        \n",
              "  <svg xmlns=\"http://www.w3.org/2000/svg\" height=\"24px\"viewBox=\"0 0 24 24\"\n",
              "       width=\"24px\">\n",
              "    <path d=\"M0 0h24v24H0V0z\" fill=\"none\"/>\n",
              "    <path d=\"M18.56 5.44l.94 2.06.94-2.06 2.06-.94-2.06-.94-.94-2.06-.94 2.06-2.06.94zm-11 1L8.5 8.5l.94-2.06 2.06-.94-2.06-.94L8.5 2.5l-.94 2.06-2.06.94zm10 10l.94 2.06.94-2.06 2.06-.94-2.06-.94-.94-2.06-.94 2.06-2.06.94z\"/><path d=\"M17.41 7.96l-1.37-1.37c-.4-.4-.92-.59-1.43-.59-.52 0-1.04.2-1.43.59L10.3 9.45l-7.72 7.72c-.78.78-.78 2.05 0 2.83L4 21.41c.39.39.9.59 1.41.59.51 0 1.02-.2 1.41-.59l7.78-7.78 2.81-2.81c.8-.78.8-2.07 0-2.86zM5.41 20L4 18.59l7.72-7.72 1.47 1.35L5.41 20z\"/>\n",
              "  </svg>\n",
              "      </button>\n",
              "      \n",
              "  <style>\n",
              "    .colab-df-container {\n",
              "      display:flex;\n",
              "      flex-wrap:wrap;\n",
              "      gap: 12px;\n",
              "    }\n",
              "\n",
              "    .colab-df-convert {\n",
              "      background-color: #E8F0FE;\n",
              "      border: none;\n",
              "      border-radius: 50%;\n",
              "      cursor: pointer;\n",
              "      display: none;\n",
              "      fill: #1967D2;\n",
              "      height: 32px;\n",
              "      padding: 0 0 0 0;\n",
              "      width: 32px;\n",
              "    }\n",
              "\n",
              "    .colab-df-convert:hover {\n",
              "      background-color: #E2EBFA;\n",
              "      box-shadow: 0px 1px 2px rgba(60, 64, 67, 0.3), 0px 1px 3px 1px rgba(60, 64, 67, 0.15);\n",
              "      fill: #174EA6;\n",
              "    }\n",
              "\n",
              "    [theme=dark] .colab-df-convert {\n",
              "      background-color: #3B4455;\n",
              "      fill: #D2E3FC;\n",
              "    }\n",
              "\n",
              "    [theme=dark] .colab-df-convert:hover {\n",
              "      background-color: #434B5C;\n",
              "      box-shadow: 0px 1px 3px 1px rgba(0, 0, 0, 0.15);\n",
              "      filter: drop-shadow(0px 1px 2px rgba(0, 0, 0, 0.3));\n",
              "      fill: #FFFFFF;\n",
              "    }\n",
              "  </style>\n",
              "\n",
              "      <script>\n",
              "        const buttonEl =\n",
              "          document.querySelector('#df-54d8611d-bc43-4712-a74e-cddcfe1c40fb button.colab-df-convert');\n",
              "        buttonEl.style.display =\n",
              "          google.colab.kernel.accessAllowed ? 'block' : 'none';\n",
              "\n",
              "        async function convertToInteractive(key) {\n",
              "          const element = document.querySelector('#df-54d8611d-bc43-4712-a74e-cddcfe1c40fb');\n",
              "          const dataTable =\n",
              "            await google.colab.kernel.invokeFunction('convertToInteractive',\n",
              "                                                     [key], {});\n",
              "          if (!dataTable) return;\n",
              "\n",
              "          const docLinkHtml = 'Like what you see? Visit the ' +\n",
              "            '<a target=\"_blank\" href=https://colab.research.google.com/notebooks/data_table.ipynb>data table notebook</a>'\n",
              "            + ' to learn more about interactive tables.';\n",
              "          element.innerHTML = '';\n",
              "          dataTable['output_type'] = 'display_data';\n",
              "          await google.colab.output.renderOutput(dataTable, element);\n",
              "          const docLink = document.createElement('div');\n",
              "          docLink.innerHTML = docLinkHtml;\n",
              "          element.appendChild(docLink);\n",
              "        }\n",
              "      </script>\n",
              "    </div>\n",
              "  </div>\n",
              "  "
            ]
          },
          "metadata": {},
          "execution_count": 3
        }
      ]
    },
    {
      "cell_type": "code",
      "source": [
        "df_train.isnull().sum()"
      ],
      "metadata": {
        "id": "LWvMtR3tdwQ6",
        "colab": {
          "base_uri": "https://localhost:8080/"
        },
        "outputId": "a4a4bbf0-4ca8-4815-b6dd-a9fa5b22906b"
      },
      "execution_count": 4,
      "outputs": [
        {
          "output_type": "execute_result",
          "data": {
            "text/plain": [
              "Item_Identifier                 0\n",
              "Item_Weight                  1463\n",
              "Item_Fat_Content                0\n",
              "Item_Visibility                 0\n",
              "Item_Type                       0\n",
              "Item_MRP                        0\n",
              "Outlet_Identifier               0\n",
              "Outlet_Establishment_Year       0\n",
              "Outlet_Size                  2410\n",
              "Outlet_Location_Type            0\n",
              "Outlet_Type                     0\n",
              "Item_Outlet_Sales               0\n",
              "dtype: int64"
            ]
          },
          "metadata": {},
          "execution_count": 4
        }
      ]
    },
    {
      "cell_type": "code",
      "source": [
        "df_test.isnull().sum()"
      ],
      "metadata": {
        "id": "yMldWX7aectO",
        "colab": {
          "base_uri": "https://localhost:8080/"
        },
        "outputId": "eb101452-4bf9-40bf-baf4-a44d34c9d053"
      },
      "execution_count": 5,
      "outputs": [
        {
          "output_type": "execute_result",
          "data": {
            "text/plain": [
              "Item_Identifier                 0\n",
              "Item_Weight                   976\n",
              "Item_Fat_Content                0\n",
              "Item_Visibility                 0\n",
              "Item_Type                       0\n",
              "Item_MRP                        0\n",
              "Outlet_Identifier               0\n",
              "Outlet_Establishment_Year       0\n",
              "Outlet_Size                  1606\n",
              "Outlet_Location_Type            0\n",
              "Outlet_Type                     0\n",
              "dtype: int64"
            ]
          },
          "metadata": {},
          "execution_count": 5
        }
      ]
    },
    {
      "cell_type": "code",
      "source": [
        "df_train['Item_Weight'].fillna(df_train['Item_Weight'].mean(),inplace=True)\n",
        "df_test['Item_Weight'].fillna(df_test['Item_Weight'].mean(),inplace=True)"
      ],
      "metadata": {
        "id": "TtLn1i8Pd1a_"
      },
      "execution_count": 6,
      "outputs": []
    },
    {
      "cell_type": "code",
      "source": [
        "df_train['Outlet_Size'].fillna(df_train['Outlet_Size'].mode()[0],inplace=True)\n",
        "df_test['Outlet_Size'].fillna(df_test['Outlet_Size'].mode()[0],inplace=True)"
      ],
      "metadata": {
        "id": "hdlmPMOJejBu"
      },
      "execution_count": 7,
      "outputs": []
    },
    {
      "cell_type": "code",
      "source": [
        "df_train.duplicated().sum()"
      ],
      "metadata": {
        "id": "AIScp9AGhLr5",
        "colab": {
          "base_uri": "https://localhost:8080/"
        },
        "outputId": "d6ba653b-2a7f-4e81-ab28-2c56823007fe"
      },
      "execution_count": 8,
      "outputs": [
        {
          "output_type": "execute_result",
          "data": {
            "text/plain": [
              "0"
            ]
          },
          "metadata": {},
          "execution_count": 8
        }
      ]
    },
    {
      "cell_type": "markdown",
      "source": [
        "**EDA**\n"
      ],
      "metadata": {
        "id": "414yqvTUff8k"
      }
    },
    {
      "cell_type": "code",
      "source": [
        "sns.catplot(x = 'Item_Type', y = 'Item_Outlet_Sales', data = df_train, kind = 'point', hue = 'Item_Type')\n",
        "plt.xticks(rotation = 90)\n",
        "plt.show()"
      ],
      "metadata": {
        "id": "LS1Conz7ewcB",
        "colab": {
          "base_uri": "https://localhost:8080/",
          "height": 642
        },
        "outputId": "dd5ebe2b-b138-453f-a3b2-b86b1b564266"
      },
      "execution_count": 9,
      "outputs": [
        {
          "output_type": "display_data",
          "data": {
            "text/plain": [
              "<Figure size 500x500 with 1 Axes>"
            ],
            "image/png": "[encoded data removed]"
          },
          "metadata": {}
        }
      ]
    },
    {
      "cell_type": "code",
      "source": [
        "sns.heatmap(df_train.corr(), annot = True);"
      ],
      "metadata": {
        "id": "_r9jm2FeezQx",
        "colab": {
          "base_uri": "https://localhost:8080/",
          "height": 661
        },
        "outputId": "a0bf5747-b052-441e-a709-2e2a7d6034cc"
      },
      "execution_count": 10,
      "outputs": [
        {
          "output_type": "stream",
          "name": "stderr",
          "text": [
            "<ipython-input-10-e8c64fd1d715>:1: FutureWarning: The default value of numeric_only in DataFrame.corr is deprecated. In a future version, it will default to False. Select only valid columns or specify the value of numeric_only to silence this warning.\n",
            "  sns.heatmap(df_train.corr(), annot = True);\n"
          ]
        },
        {
          "output_type": "display_data",
          "data": {
            "text/plain": [
              "<Figure size 640x480 with 2 Axes>"
            ],
            "image/png": "[encoded data removed]"
          },
          "metadata": {}
        }
      ]
    },
    {
      "cell_type": "code",
      "source": [
        "sns.boxplot(x = 'Item_Fat_Content', y = 'Item_Outlet_Sales', data=df_train)\n"
      ],
      "metadata": {
        "id": "yXHNCLWUf7AV",
        "colab": {
          "base_uri": "https://localhost:8080/",
          "height": 466
        },
        "outputId": "19cfcd64-a795-4c6f-9263-80a4aceb1a31"
      },
      "execution_count": 11,
      "outputs": [
        {
          "output_type": "execute_result",
          "data": {
            "text/plain": [
              "<Axes: xlabel='Item_Fat_Content', ylabel='Item_Outlet_Sales'>"
            ]
          },
          "metadata": {},
          "execution_count": 11
        },
        {
          "output_type": "display_data",
          "data": {
            "text/plain": [
              "<Figure size 640x480 with 1 Axes>"
            ],
            "image/png": "[encoded data removed]"
          },
          "metadata": {}
        }
      ]
    },
    {
      "cell_type": "markdown",
      "source": [
        "Feature **Engnieering**"
      ],
      "metadata": {
        "id": "m7LhuzrXgw2x"
      }
    },
    {
      "cell_type": "code",
      "source": [
        "df_train.drop(['Item_Identifier','Outlet_Identifier'],axis=1,inplace=True)\n",
        "df_test.drop(['Item_Identifier','Outlet_Identifier'],axis=1,inplace=True)"
      ],
      "metadata": {
        "id": "02kZXatRgc8v"
      },
      "execution_count": 12,
      "outputs": []
    },
    {
      "cell_type": "code",
      "source": [
        "df_train"
      ],
      "metadata": {
        "id": "HV6HD-cJg0Wd",
        "colab": {
          "base_uri": "https://localhost:8080/",
          "height": 424
        },
        "outputId": "53c08d22-7254-49cd-c57b-8484ecaf7a72"
      },
      "execution_count": 13,
      "outputs": [
        {
          "output_type": "execute_result",
          "data": {
            "text/plain": [
              "      Item_Weight Item_Fat_Content  Item_Visibility              Item_Type  \\\n",
              "0           9.300          Low Fat         0.016047                  Dairy   \n",
              "1           5.920          Regular         0.019278            Soft Drinks   \n",
              "2          17.500          Low Fat         0.016760                   Meat   \n",
              "3          19.200          Regular         0.000000  Fruits and Vegetables   \n",
              "4           8.930          Low Fat         0.000000              Household   \n",
              "...           ...              ...              ...                    ...   \n",
              "8518        6.865          Low Fat         0.056783            Snack Foods   \n",
              "8519        8.380          Regular         0.046982           Baking Goods   \n",
              "8520       10.600          Low Fat         0.035186     Health and Hygiene   \n",
              "8521        7.210          Regular         0.145221            Snack Foods   \n",
              "8522       14.800          Low Fat         0.044878            Soft Drinks   \n",
              "\n",
              "      Item_MRP  Outlet_Establishment_Year Outlet_Size Outlet_Location_Type  \\\n",
              "0     249.8092                       1999      Medium               Tier 1   \n",
              "1      48.2692                       2009      Medium               Tier 3   \n",
              "2     141.6180                       1999      Medium               Tier 1   \n",
              "3     182.0950                       1998      Medium               Tier 3   \n",
              "4      53.8614                       1987        High               Tier 3   \n",
              "...        ...                        ...         ...                  ...   \n",
              "8518  214.5218                       1987        High               Tier 3   \n",
              "8519  108.1570                       2002      Medium               Tier 2   \n",
              "8520   85.1224                       2004       Small               Tier 2   \n",
              "8521  103.1332                       2009      Medium               Tier 3   \n",
              "8522   75.4670                       1997       Small               Tier 1   \n",
              "\n",
              "            Outlet_Type  Item_Outlet_Sales  \n",
              "0     Supermarket Type1          3735.1380  \n",
              "1     Supermarket Type2           443.4228  \n",
              "2     Supermarket Type1          2097.2700  \n",
              "3         Grocery Store           732.3800  \n",
              "4     Supermarket Type1           994.7052  \n",
              "...                 ...                ...  \n",
              "8518  Supermarket Type1          2778.3834  \n",
              "8519  Supermarket Type1           549.2850  \n",
              "8520  Supermarket Type1          1193.1136  \n",
              "8521  Supermarket Type2          1845.5976  \n",
              "8522  Supermarket Type1           765.6700  \n",
              "\n",
              "[8523 rows x 10 columns]"
            ],
            "text/html": [
              "\n",
              "  <div id=\"df-1a4514e6-c137-4478-b09a-66916ffc110e\">\n",
              "    <div class=\"colab-df-container\">\n",
              "      <div>\n",
              "<style scoped>\n",
              "    .dataframe tbody tr th:only-of-type {\n",
              "        vertical-align: middle;\n",
              "    }\n",
              "\n",
              "    .dataframe tbody tr th {\n",
              "        vertical-align: top;\n",
              "    }\n",
              "\n",
              "    .dataframe thead th {\n",
              "        text-align: right;\n",
              "    }\n",
              "</style>\n",
              "<table border=\"1\" class=\"dataframe\">\n",
              "  <thead>\n",
              "    <tr style=\"text-align: right;\">\n",
              "      <th></th>\n",
              "      <th>Item_Weight</th>\n",
              "      <th>Item_Fat_Content</th>\n",
              "      <th>Item_Visibility</th>\n",
              "      <th>Item_Type</th>\n",
              "      <th>Item_MRP</th>\n",
              "      <th>Outlet_Establishment_Year</th>\n",
              "      <th>Outlet_Size</th>\n",
              "      <th>Outlet_Location_Type</th>\n",
              "      <th>Outlet_Type</th>\n",
              "      <th>Item_Outlet_Sales</th>\n",
              "    </tr>\n",
              "  </thead>\n",
              "  <tbody>\n",
              "    <tr>\n",
              "      <th>0</th>\n",
              "      <td>9.300</td>\n",
              "      <td>Low Fat</td>\n",
              "      <td>0.016047</td>\n",
              "      <td>Dairy</td>\n",
              "      <td>249.8092</td>\n",
              "      <td>1999</td>\n",
              "      <td>Medium</td>\n",
              "      <td>Tier 1</td>\n",
              "      <td>Supermarket Type1</td>\n",
              "      <td>3735.1380</td>\n",
              "    </tr>\n",
              "    <tr>\n",
              "      <th>1</th>\n",
              "      <td>5.920</td>\n",
              "      <td>Regular</td>\n",
              "      <td>0.019278</td>\n",
              "      <td>Soft Drinks</td>\n",
              "      <td>48.2692</td>\n",
              "      <td>2009</td>\n",
              "      <td>Medium</td>\n",
              "      <td>Tier 3</td>\n",
              "      <td>Supermarket Type2</td>\n",
              "      <td>443.4228</td>\n",
              "    </tr>\n",
              "    <tr>\n",
              "      <th>2</th>\n",
              "      <td>17.500</td>\n",
              "      <td>Low Fat</td>\n",
              "      <td>0.016760</td>\n",
              "      <td>Meat</td>\n",
              "      <td>141.6180</td>\n",
              "      <td>1999</td>\n",
              "      <td>Medium</td>\n",
              "      <td>Tier 1</td>\n",
              "      <td>Supermarket Type1</td>\n",
              "      <td>2097.2700</td>\n",
              "    </tr>\n",
              "    <tr>\n",
              "      <th>3</th>\n",
              "      <td>19.200</td>\n",
              "      <td>Regular</td>\n",
              "      <td>0.000000</td>\n",
              "      <td>Fruits and Vegetables</td>\n",
              "      <td>182.0950</td>\n",
              "      <td>1998</td>\n",
              "      <td>Medium</td>\n",
              "      <td>Tier 3</td>\n",
              "      <td>Grocery Store</td>\n",
              "      <td>732.3800</td>\n",
              "    </tr>\n",
              "    <tr>\n",
              "      <th>4</th>\n",
              "      <td>8.930</td>\n",
              "      <td>Low Fat</td>\n",
              "      <td>0.000000</td>\n",
              "      <td>Household</td>\n",
              "      <td>53.8614</td>\n",
              "      <td>1987</td>\n",
              "      <td>High</td>\n",
              "      <td>Tier 3</td>\n",
              "      <td>Supermarket Type1</td>\n",
              "      <td>994.7052</td>\n",
              "    </tr>\n",
              "    <tr>\n",
              "      <th>...</th>\n",
              "      <td>...</td>\n",
              "      <td>...</td>\n",
              "      <td>...</td>\n",
              "      <td>...</td>\n",
              "      <td>...</td>\n",
              "      <td>...</td>\n",
              "      <td>...</td>\n",
              "      <td>...</td>\n",
              "      <td>...</td>\n",
              "      <td>...</td>\n",
              "    </tr>\n",
              "    <tr>\n",
              "      <th>8518</th>\n",
              "      <td>6.865</td>\n",
              "      <td>Low Fat</td>\n",
              "      <td>0.056783</td>\n",
              "      <td>Snack Foods</td>\n",
              "      <td>214.5218</td>\n",
              "      <td>1987</td>\n",
              "      <td>High</td>\n",
              "      <td>Tier 3</td>\n",
              "      <td>Supermarket Type1</td>\n",
              "      <td>2778.3834</td>\n",
              "    </tr>\n",
              "    <tr>\n",
              "      <th>8519</th>\n",
              "      <td>8.380</td>\n",
              "      <td>Regular</td>\n",
              "      <td>0.046982</td>\n",
              "      <td>Baking Goods</td>\n",
              "      <td>108.1570</td>\n",
              "      <td>2002</td>\n",
              "      <td>Medium</td>\n",
              "      <td>Tier 2</td>\n",
              "      <td>Supermarket Type1</td>\n",
              "      <td>549.2850</td>\n",
              "    </tr>\n",
              "    <tr>\n",
              "      <th>8520</th>\n",
              "      <td>10.600</td>\n",
              "      <td>Low Fat</td>\n",
              "      <td>0.035186</td>\n",
              "      <td>Health and Hygiene</td>\n",
              "      <td>85.1224</td>\n",
              "      <td>2004</td>\n",
              "      <td>Small</td>\n",
              "      <td>Tier 2</td>\n",
              "      <td>Supermarket Type1</td>\n",
              "      <td>1193.1136</td>\n",
              "    </tr>\n",
              "    <tr>\n",
              "      <th>8521</th>\n",
              "      <td>7.210</td>\n",
              "      <td>Regular</td>\n",
              "      <td>0.145221</td>\n",
              "      <td>Snack Foods</td>\n",
              "      <td>103.1332</td>\n",
              "      <td>2009</td>\n",
              "      <td>Medium</td>\n",
              "      <td>Tier 3</td>\n",
              "      <td>Supermarket Type2</td>\n",
              "      <td>1845.5976</td>\n",
              "    </tr>\n",
              "    <tr>\n",
              "      <th>8522</th>\n",
              "      <td>14.800</td>\n",
              "      <td>Low Fat</td>\n",
              "      <td>0.044878</td>\n",
              "      <td>Soft Drinks</td>\n",
              "      <td>75.4670</td>\n",
              "      <td>1997</td>\n",
              "      <td>Small</td>\n",
              "      <td>Tier 1</td>\n",
              "      <td>Supermarket Type1</td>\n",
              "      <td>765.6700</td>\n",
              "    </tr>\n",
              "  </tbody>\n",
              "</table>\n",
              "<p>8523 rows × 10 columns</p>\n",
              "</div>\n",
              "      <button class=\"colab-df-convert\" onclick=\"convertToInteractive('df-1a4514e6-c137-4478-b09a-66916ffc110e')\"\n",
              "              title=\"Convert this dataframe to an interactive table.\"\n",
              "              style=\"display:none;\">\n",
              "        \n",
              "  <svg xmlns=\"http://www.w3.org/2000/svg\" height=\"24px\"viewBox=\"0 0 24 24\"\n",
              "       width=\"24px\">\n",
              "    <path d=\"M0 0h24v24H0V0z\" fill=\"none\"/>\n",
              "    <path d=\"M18.56 5.44l.94 2.06.94-2.06 2.06-.94-2.06-.94-.94-2.06-.94 2.06-2.06.94zm-11 1L8.5 8.5l.94-2.06 2.06-.94-2.06-.94L8.5 2.5l-.94 2.06-2.06.94zm10 10l.94 2.06.94-2.06 2.06-.94-2.06-.94-.94-2.06-.94 2.06-2.06.94z\"/><path d=\"M17.41 7.96l-1.37-1.37c-.4-.4-.92-.59-1.43-.59-.52 0-1.04.2-1.43.59L10.3 9.45l-7.72 7.72c-.78.78-.78 2.05 0 2.83L4 21.41c.39.39.9.59 1.41.59.51 0 1.02-.2 1.41-.59l7.78-7.78 2.81-2.81c.8-.78.8-2.07 0-2.86zM5.41 20L4 18.59l7.72-7.72 1.47 1.35L5.41 20z\"/>\n",
              "  </svg>\n",
              "      </button>\n",
              "      \n",
              "  <style>\n",
              "    .colab-df-container {\n",
              "      display:flex;\n",
              "      flex-wrap:wrap;\n",
              "      gap: 12px;\n",
              "    }\n",
              "\n",
              "    .colab-df-convert {\n",
              "      background-color: #E8F0FE;\n",
              "      border: none;\n",
              "      border-radius: 50%;\n",
              "      cursor: pointer;\n",
              "      display: none;\n",
              "      fill: #1967D2;\n",
              "      height: 32px;\n",
              "      padding: 0 0 0 0;\n",
              "      width: 32px;\n",
              "    }\n",
              "\n",
              "    .colab-df-convert:hover {\n",
              "      background-color: #E2EBFA;\n",
              "      box-shadow: 0px 1px 2px rgba(60, 64, 67, 0.3), 0px 1px 3px 1px rgba(60, 64, 67, 0.15);\n",
              "      fill: #174EA6;\n",
              "    }\n",
              "\n",
              "    [theme=dark] .colab-df-convert {\n",
              "      background-color: #3B4455;\n",
              "      fill: #D2E3FC;\n",
              "    }\n",
              "\n",
              "    [theme=dark] .colab-df-convert:hover {\n",
              "      background-color: #434B5C;\n",
              "      box-shadow: 0px 1px 3px 1px rgba(0, 0, 0, 0.15);\n",
              "      filter: drop-shadow(0px 1px 2px rgba(0, 0, 0, 0.3));\n",
              "      fill: #FFFFFF;\n",
              "    }\n",
              "  </style>\n",
              "\n",
              "      <script>\n",
              "        const buttonEl =\n",
              "          document.querySelector('#df-1a4514e6-c137-4478-b09a-66916ffc110e button.colab-df-convert');\n",
              "        buttonEl.style.display =\n",
              "          google.colab.kernel.accessAllowed ? 'block' : 'none';\n",
              "\n",
              "        async function convertToInteractive(key) {\n",
              "          const element = document.querySelector('#df-1a4514e6-c137-4478-b09a-66916ffc110e');\n",
              "          const dataTable =\n",
              "            await google.colab.kernel.invokeFunction('convertToInteractive',\n",
              "                                                     [key], {});\n",
              "          if (!dataTable) return;\n",
              "\n",
              "          const docLinkHtml = 'Like what you see? Visit the ' +\n",
              "            '<a target=\"_blank\" href=https://colab.research.google.com/notebooks/data_table.ipynb>data table notebook</a>'\n",
              "            + ' to learn more about interactive tables.';\n",
              "          element.innerHTML = '';\n",
              "          dataTable['output_type'] = 'display_data';\n",
              "          await google.colab.output.renderOutput(dataTable, element);\n",
              "          const docLink = document.createElement('div');\n",
              "          docLink.innerHTML = docLinkHtml;\n",
              "          element.appendChild(docLink);\n",
              "        }\n",
              "      </script>\n",
              "    </div>\n",
              "  </div>\n",
              "  "
            ]
          },
          "metadata": {},
          "execution_count": 13
        }
      ]
    },
    {
      "cell_type": "code",
      "source": [
        "le=LabelEncoder()"
      ],
      "metadata": {
        "id": "hQ9xLqKjg11k"
      },
      "execution_count": 14,
      "outputs": []
    },
    {
      "cell_type": "code",
      "source": [
        "df_train = df_train.apply(le.fit_transform)\n",
        "df_test = df_test.apply(le.fit_transform)"
      ],
      "metadata": {
        "id": "UDJnYWozhkGw"
      },
      "execution_count": 15,
      "outputs": []
    },
    {
      "cell_type": "code",
      "source": [
        "df_train"
      ],
      "metadata": {
        "id": "BneXgBD2hnLv",
        "colab": {
          "base_uri": "https://localhost:8080/",
          "height": 424
        },
        "outputId": "3709c405-7a8a-4d22-e082-7aed12076cb2"
      },
      "execution_count": 16,
      "outputs": [
        {
          "output_type": "execute_result",
          "data": {
            "text/plain": [
              "      Item_Weight  Item_Fat_Content  Item_Visibility  Item_Type  Item_MRP  \\\n",
              "0             284                 1              664          4      5592   \n",
              "1              57                 2              880         14       473   \n",
              "2             376                 1              715         10      2901   \n",
              "3             393                 2                0          6      4227   \n",
              "4             265                 1                0          9       627   \n",
              "...           ...               ...              ...        ...       ...   \n",
              "8518          125                 1             3912         13      4955   \n",
              "8519          233                 2             3278          0      2023   \n",
              "8520          299                 1             2302          8      1263   \n",
              "8521          149                 2             7175         13      1857   \n",
              "8522          347                 1             3108         14      1011   \n",
              "\n",
              "      Outlet_Establishment_Year  Outlet_Size  Outlet_Location_Type  \\\n",
              "0                             4            1                     0   \n",
              "1                             8            1                     2   \n",
              "2                             4            1                     0   \n",
              "3                             3            1                     2   \n",
              "4                             1            0                     2   \n",
              "...                         ...          ...                   ...   \n",
              "8518                          1            0                     2   \n",
              "8519                          5            1                     1   \n",
              "8520                          6            2                     1   \n",
              "8521                          8            1                     2   \n",
              "8522                          2            2                     0   \n",
              "\n",
              "      Outlet_Type  Item_Outlet_Sales  \n",
              "0               1               2540  \n",
              "1               2                422  \n",
              "2               1               1639  \n",
              "3               0                670  \n",
              "4               1                865  \n",
              "...           ...                ...  \n",
              "8518            1               2047  \n",
              "8519            1                516  \n",
              "8520            1               1018  \n",
              "8521            2               1466  \n",
              "8522            1                697  \n",
              "\n",
              "[8523 rows x 10 columns]"
            ],
            "text/html": [
              "\n",
              "  <div id=\"df-b1f8134a-d4d7-48d6-9045-7de2b18b6cbc\">\n",
              "    <div class=\"colab-df-container\">\n",
              "      <div>\n",
              "<style scoped>\n",
              "    .dataframe tbody tr th:only-of-type {\n",
              "        vertical-align: middle;\n",
              "    }\n",
              "\n",
              "    .dataframe tbody tr th {\n",
              "        vertical-align: top;\n",
              "    }\n",
              "\n",
              "    .dataframe thead th {\n",
              "        text-align: right;\n",
              "    }\n",
              "</style>\n",
              "<table border=\"1\" class=\"dataframe\">\n",
              "  <thead>\n",
              "    <tr style=\"text-align: right;\">\n",
              "      <th></th>\n",
              "      <th>Item_Weight</th>\n",
              "      <th>Item_Fat_Content</th>\n",
              "      <th>Item_Visibility</th>\n",
              "      <th>Item_Type</th>\n",
              "      <th>Item_MRP</th>\n",
              "      <th>Outlet_Establishment_Year</th>\n",
              "      <th>Outlet_Size</th>\n",
              "      <th>Outlet_Location_Type</th>\n",
              "      <th>Outlet_Type</th>\n",
              "      <th>Item_Outlet_Sales</th>\n",
              "    </tr>\n",
              "  </thead>\n",
              "  <tbody>\n",
              "    <tr>\n",
              "      <th>0</th>\n",
              "      <td>284</td>\n",
              "      <td>1</td>\n",
              "      <td>664</td>\n",
              "      <td>4</td>\n",
              "      <td>5592</td>\n",
              "      <td>4</td>\n",
              "      <td>1</td>\n",
              "      <td>0</td>\n",
              "      <td>1</td>\n",
              "      <td>2540</td>\n",
              "    </tr>\n",
              "    <tr>\n",
              "      <th>1</th>\n",
              "      <td>57</td>\n",
              "      <td>2</td>\n",
              "      <td>880</td>\n",
              "      <td>14</td>\n",
              "      <td>473</td>\n",
              "      <td>8</td>\n",
              "      <td>1</td>\n",
              "      <td>2</td>\n",
              "      <td>2</td>\n",
              "      <td>422</td>\n",
              "    </tr>\n",
              "    <tr>\n",
              "      <th>2</th>\n",
              "      <td>376</td>\n",
              "      <td>1</td>\n",
              "      <td>715</td>\n",
              "      <td>10</td>\n",
              "      <td>2901</td>\n",
              "      <td>4</td>\n",
              "      <td>1</td>\n",
              "      <td>0</td>\n",
              "      <td>1</td>\n",
              "      <td>1639</td>\n",
              "    </tr>\n",
              "    <tr>\n",
              "      <th>3</th>\n",
              "      <td>393</td>\n",
              "      <td>2</td>\n",
              "      <td>0</td>\n",
              "      <td>6</td>\n",
              "      <td>4227</td>\n",
              "      <td>3</td>\n",
              "      <td>1</td>\n",
              "      <td>2</td>\n",
              "      <td>0</td>\n",
              "      <td>670</td>\n",
              "    </tr>\n",
              "    <tr>\n",
              "      <th>4</th>\n",
              "      <td>265</td>\n",
              "      <td>1</td>\n",
              "      <td>0</td>\n",
              "      <td>9</td>\n",
              "      <td>627</td>\n",
              "      <td>1</td>\n",
              "      <td>0</td>\n",
              "      <td>2</td>\n",
              "      <td>1</td>\n",
              "      <td>865</td>\n",
              "    </tr>\n",
              "    <tr>\n",
              "      <th>...</th>\n",
              "      <td>...</td>\n",
              "      <td>...</td>\n",
              "      <td>...</td>\n",
              "      <td>...</td>\n",
              "      <td>...</td>\n",
              "      <td>...</td>\n",
              "      <td>...</td>\n",
              "      <td>...</td>\n",
              "      <td>...</td>\n",
              "      <td>...</td>\n",
              "    </tr>\n",
              "    <tr>\n",
              "      <th>8518</th>\n",
              "      <td>125</td>\n",
              "      <td>1</td>\n",
              "      <td>3912</td>\n",
              "      <td>13</td>\n",
              "      <td>4955</td>\n",
              "      <td>1</td>\n",
              "      <td>0</td>\n",
              "      <td>2</td>\n",
              "      <td>1</td>\n",
              "      <td>2047</td>\n",
              "    </tr>\n",
              "    <tr>\n",
              "      <th>8519</th>\n",
              "      <td>233</td>\n",
              "      <td>2</td>\n",
              "      <td>3278</td>\n",
              "      <td>0</td>\n",
              "      <td>2023</td>\n",
              "      <td>5</td>\n",
              "      <td>1</td>\n",
              "      <td>1</td>\n",
              "      <td>1</td>\n",
              "      <td>516</td>\n",
              "    </tr>\n",
              "    <tr>\n",
              "      <th>8520</th>\n",
              "      <td>299</td>\n",
              "      <td>1</td>\n",
              "      <td>2302</td>\n",
              "      <td>8</td>\n",
              "      <td>1263</td>\n",
              "      <td>6</td>\n",
              "      <td>2</td>\n",
              "      <td>1</td>\n",
              "      <td>1</td>\n",
              "      <td>1018</td>\n",
              "    </tr>\n",
              "    <tr>\n",
              "      <th>8521</th>\n",
              "      <td>149</td>\n",
              "      <td>2</td>\n",
              "      <td>7175</td>\n",
              "      <td>13</td>\n",
              "      <td>1857</td>\n",
              "      <td>8</td>\n",
              "      <td>1</td>\n",
              "      <td>2</td>\n",
              "      <td>2</td>\n",
              "      <td>1466</td>\n",
              "    </tr>\n",
              "    <tr>\n",
              "      <th>8522</th>\n",
              "      <td>347</td>\n",
              "      <td>1</td>\n",
              "      <td>3108</td>\n",
              "      <td>14</td>\n",
              "      <td>1011</td>\n",
              "      <td>2</td>\n",
              "      <td>2</td>\n",
              "      <td>0</td>\n",
              "      <td>1</td>\n",
              "      <td>697</td>\n",
              "    </tr>\n",
              "  </tbody>\n",
              "</table>\n",
              "<p>8523 rows × 10 columns</p>\n",
              "</div>\n",
              "      <button class=\"colab-df-convert\" onclick=\"convertToInteractive('df-b1f8134a-d4d7-48d6-9045-7de2b18b6cbc')\"\n",
              "              title=\"Convert this dataframe to an interactive table.\"\n",
              "              style=\"display:none;\">\n",
              "        \n",
              "  <svg xmlns=\"http://www.w3.org/2000/svg\" height=\"24px\"viewBox=\"0 0 24 24\"\n",
              "       width=\"24px\">\n",
              "    <path d=\"M0 0h24v24H0V0z\" fill=\"none\"/>\n",
              "    <path d=\"M18.56 5.44l.94 2.06.94-2.06 2.06-.94-2.06-.94-.94-2.06-.94 2.06-2.06.94zm-11 1L8.5 8.5l.94-2.06 2.06-.94-2.06-.94L8.5 2.5l-.94 2.06-2.06.94zm10 10l.94 2.06.94-2.06 2.06-.94-2.06-.94-.94-2.06-.94 2.06-2.06.94z\"/><path d=\"M17.41 7.96l-1.37-1.37c-.4-.4-.92-.59-1.43-.59-.52 0-1.04.2-1.43.59L10.3 9.45l-7.72 7.72c-.78.78-.78 2.05 0 2.83L4 21.41c.39.39.9.59 1.41.59.51 0 1.02-.2 1.41-.59l7.78-7.78 2.81-2.81c.8-.78.8-2.07 0-2.86zM5.41 20L4 18.59l7.72-7.72 1.47 1.35L5.41 20z\"/>\n",
              "  </svg>\n",
              "      </button>\n",
              "      \n",
              "  <style>\n",
              "    .colab-df-container {\n",
              "      display:flex;\n",
              "      flex-wrap:wrap;\n",
              "      gap: 12px;\n",
              "    }\n",
              "\n",
              "    .colab-df-convert {\n",
              "      background-color: #E8F0FE;\n",
              "      border: none;\n",
              "      border-radius: 50%;\n",
              "      cursor: pointer;\n",
              "      display: none;\n",
              "      fill: #1967D2;\n",
              "      height: 32px;\n",
              "      padding: 0 0 0 0;\n",
              "      width: 32px;\n",
              "    }\n",
              "\n",
              "    .colab-df-convert:hover {\n",
              "      background-color: #E2EBFA;\n",
              "      box-shadow: 0px 1px 2px rgba(60, 64, 67, 0.3), 0px 1px 3px 1px rgba(60, 64, 67, 0.15);\n",
              "      fill: #174EA6;\n",
              "    }\n",
              "\n",
              "    [theme=dark] .colab-df-convert {\n",
              "      background-color: #3B4455;\n",
              "      fill: #D2E3FC;\n",
              "    }\n",
              "\n",
              "    [theme=dark] .colab-df-convert:hover {\n",
              "      background-color: #434B5C;\n",
              "      box-shadow: 0px 1px 3px 1px rgba(0, 0, 0, 0.15);\n",
              "      filter: drop-shadow(0px 1px 2px rgba(0, 0, 0, 0.3));\n",
              "      fill: #FFFFFF;\n",
              "    }\n",
              "  </style>\n",
              "\n",
              "      <script>\n",
              "        const buttonEl =\n",
              "          document.querySelector('#df-b1f8134a-d4d7-48d6-9045-7de2b18b6cbc button.colab-df-convert');\n",
              "        buttonEl.style.display =\n",
              "          google.colab.kernel.accessAllowed ? 'block' : 'none';\n",
              "\n",
              "        async function convertToInteractive(key) {\n",
              "          const element = document.querySelector('#df-b1f8134a-d4d7-48d6-9045-7de2b18b6cbc');\n",
              "          const dataTable =\n",
              "            await google.colab.kernel.invokeFunction('convertToInteractive',\n",
              "                                                     [key], {});\n",
              "          if (!dataTable) return;\n",
              "\n",
              "          const docLinkHtml = 'Like what you see? Visit the ' +\n",
              "            '<a target=\"_blank\" href=https://colab.research.google.com/notebooks/data_table.ipynb>data table notebook</a>'\n",
              "            + ' to learn more about interactive tables.';\n",
              "          element.innerHTML = '';\n",
              "          dataTable['output_type'] = 'display_data';\n",
              "          await google.colab.output.renderOutput(dataTable, element);\n",
              "          const docLink = document.createElement('div');\n",
              "          docLink.innerHTML = docLinkHtml;\n",
              "          element.appendChild(docLink);\n",
              "        }\n",
              "      </script>\n",
              "    </div>\n",
              "  </div>\n",
              "  "
            ]
          },
          "metadata": {},
          "execution_count": 16
        }
      ]
    },
    {
      "cell_type": "code",
      "source": [
        "X=df_train.drop('Item_Outlet_Sales',axis=1)\n",
        "Y=df_train['Item_Outlet_Sales']\n",
        "from sklearn.model_selection import train_test_split\n",
        "X_train, X_test, Y_train, Y_test = train_test_split(X,Y, random_state=101, test_size=0.2)\n",
        "\n"
      ],
      "metadata": {
        "id": "otb2Y4qkhq9A"
      },
      "execution_count": 17,
      "outputs": []
    },
    {
      "cell_type": "code",
      "source": [
        "\n",
        "reg = LinearRegression()\n",
        "reg_model = reg.fit(X_train, Y_train)\n",
        "lr_pred = reg.predict(X_test)"
      ],
      "metadata": {
        "id": "yLgi4kwxiWKS"
      },
      "execution_count": 18,
      "outputs": []
    },
    {
      "cell_type": "code",
      "source": [
        "\n",
        "MSE=mean_squared_error(Y_test,lr_pred)\n",
        "MAE=mean_absolute_error(Y_test,lr_pred)\n",
        "r2=r2_score(Y_test,lr_pred)\n",
        "RMSE = np.sqrt(MSE)\n",
        "print(\"R squared value: \", r2)\n",
        "print(\"Root Mean Squared Error : \", RMSE)\n",
        "print(\"Mean Absolute Error : \", MAE)\n",
        "reg_model.score"
      ],
      "metadata": {
        "id": "lhxyNJY4ln6Y",
        "colab": {
          "base_uri": "https://localhost:8080/"
        },
        "outputId": "8a085859-162b-41e3-f56e-423ae7a44b91"
      },
      "execution_count": 19,
      "outputs": [
        {
          "output_type": "stream",
          "name": "stdout",
          "text": [
            "R squared value:  0.5451912823518803\n",
            "Root Mean Squared Error :  613.7054601408788\n",
            "Mean Absolute Error :  489.24876283012196\n"
          ]
        },
        {
          "output_type": "execute_result",
          "data": {
            "text/plain": [
              "<bound method RegressorMixin.score of LinearRegression()>"
            ]
          },
          "metadata": {},
          "execution_count": 19
        }
      ]
    },
    {
      "cell_type": "code",
      "source": [
        "\n",
        "rf = RandomForestRegressor()\n",
        "rf.fit(X_train,Y_train)\n",
        "RandomForestRegressor()\n",
        "Y_pred_rf=rf.predict(X_test)\n",
        "print(\"R squared value: \",r2_score(Y_test, Y_pred_rf))\n",
        "print(\"Root Mean Squared Error : \",np.sqrt(mean_squared_error(Y_test, Y_pred_rf)))\n",
        "print(\"Mean Absolute Error : \",mean_absolute_error(Y_test, Y_pred_rf))\n"
      ],
      "metadata": {
        "id": "-BjIhY0nmBHv",
        "colab": {
          "base_uri": "https://localhost:8080/"
        },
        "outputId": "9a1677ba-8d44-4d9b-9e5f-b63ae861d8d5"
      },
      "execution_count": 20,
      "outputs": [
        {
          "output_type": "stream",
          "name": "stdout",
          "text": [
            "R squared value:  0.6130223494586757\n",
            "Root Mean Squared Error :  566.0939829079915\n",
            "Mean Absolute Error :  431.33534897360704\n"
          ]
        }
      ]
    },
    {
      "cell_type": "code",
      "source": [
        "from sklearn.ensemble import GradientBoostingRegressor\n",
        "gbr = GradientBoostingRegressor(random_state=0)\n",
        "gbr_model = gbr.fit(X_train, Y_train)\n",
        "gbr_model_pred = gbr_model.predict(X_test)"
      ],
      "metadata": {
        "id": "NhgIeSBamL6X"
      },
      "execution_count": 21,
      "outputs": []
    },
    {
      "cell_type": "code",
      "source": [
        "MSE=mean_squared_error(Y_test,gbr_model_pred)\n",
        "MAE=mean_absolute_error(Y_test,gbr_model_pred)\n",
        "r2=r2_score(Y_test,gbr_model_pred)\n",
        "RMSE = np.sqrt(MSE)\n",
        "print(\"R squared value: \", r2)\n",
        "print(\"Root Mean Squared Error : \", RMSE)\n",
        "print(\"Mean Absolute Error : \", MAE)"
      ],
      "metadata": {
        "id": "1EaObij7nD_V",
        "colab": {
          "base_uri": "https://localhost:8080/"
        },
        "outputId": "7e2e61df-b3f3-4420-b4e3-e7060463867a"
      },
      "execution_count": 22,
      "outputs": [
        {
          "output_type": "stream",
          "name": "stdout",
          "text": [
            "R squared value:  0.6509039765233529\n",
            "Root Mean Squared Error :  537.6727765953634\n",
            "Mean Absolute Error :  408.78267769679064\n"
          ]
        }
      ]
    },
    {
      "cell_type": "code",
      "source": [
        "\n",
        "# define models and parameters\n",
        "model = RandomForestRegressor()\n",
        "n_estimators = [10, 100, 1000]\n",
        "max_depth=range(1,31)\n",
        "min_samples_leaf=np.linspace(0.1, 1.0)\n",
        "max_features=[\"auto\", \"sqrt\", \"log2\"]\n",
        "min_samples_split=np.linspace(0.1, 1.0, 10)\n",
        "\n",
        "# define grid search\n",
        "grid = dict(n_estimators=n_estimators, max_depth=max_depth,max_features=max_features, )\n",
        "\n",
        "#cv = RepeatedStratifiedKFold(n_splits=5, n_repeats=3, random_state=101)\n",
        "\n",
        "grid_search_forest = GridSearchCV(estimator=model, param_grid=grid, n_jobs=-1,\n",
        "                           scoring='r2',error_score=0,verbose=2,cv=2)\n",
        "\n",
        "grid_search_forest.fit(X_train, Y_train)\n",
        "\n",
        "# summarize results\n",
        "print(f\"Best: {grid_search_forest.best_score_:.3f} using {grid_search_forest.best_params_}\")\n",
        "means = grid_search_forest.cv_results_['mean_test_score']\n",
        "stds = grid_search_forest.cv_results_['std_test_score']\n",
        "params = grid_search_forest.cv_results_['params']\n",
        "\n",
        "for mean, stdev, param in zip(means, stds, params):\n",
        "    print(f\"{mean:.3f} ({stdev:.3f}) with: {param}\")"
      ],
      "metadata": {
        "colab": {
          "base_uri": "https://localhost:8080/"
        },
        "id": "kos6qES05jkh",
        "outputId": "f98cc3e0-8d3e-494f-e69b-c236e44d10c9"
      },
      "execution_count": 23,
      "outputs": [
        {
          "output_type": "stream",
          "name": "stdout",
          "text": [
            "Fitting 2 folds for each of 270 candidates, totalling 540 fits\n"
          ]
        },
        {
          "output_type": "stream",
          "name": "stderr",
          "text": [
            "/usr/local/lib/python3.10/dist-packages/sklearn/ensemble/_forest.py:413: FutureWarning: `max_features='auto'` has been deprecated in 1.1 and will be removed in 1.3. To keep the past behaviour, explicitly set `max_features=1.0` or remove this parameter as it is also the default value for RandomForestRegressors and ExtraTreesRegressors.\n",
            "  warn(\n"
          ]
        },
        {
          "output_type": "stream",
          "name": "stdout",
          "text": [
            "Best: 0.659 using {'max_depth': 5, 'max_features': 'auto', 'n_estimators': 1000}\n",
            "0.369 (0.010) with: {'max_depth': 1, 'max_features': 'auto', 'n_estimators': 10}\n",
            "0.376 (0.005) with: {'max_depth': 1, 'max_features': 'auto', 'n_estimators': 100}\n",
            "0.373 (0.007) with: {'max_depth': 1, 'max_features': 'auto', 'n_estimators': 1000}\n",
            "0.230 (0.121) with: {'max_depth': 1, 'max_features': 'sqrt', 'n_estimators': 10}\n",
            "0.266 (0.003) with: {'max_depth': 1, 'max_features': 'sqrt', 'n_estimators': 100}\n",
            "0.269 (0.006) with: {'max_depth': 1, 'max_features': 'sqrt', 'n_estimators': 1000}\n",
            "0.261 (0.003) with: {'max_depth': 1, 'max_features': 'log2', 'n_estimators': 10}\n",
            "0.241 (0.027) with: {'max_depth': 1, 'max_features': 'log2', 'n_estimators': 100}\n",
            "0.264 (0.003) with: {'max_depth': 1, 'max_features': 'log2', 'n_estimators': 1000}\n",
            "0.547 (0.002) with: {'max_depth': 2, 'max_features': 'auto', 'n_estimators': 10}\n",
            "0.543 (0.001) with: {'max_depth': 2, 'max_features': 'auto', 'n_estimators': 100}\n",
            "0.543 (0.000) with: {'max_depth': 2, 'max_features': 'auto', 'n_estimators': 1000}\n",
            "0.437 (0.012) with: {'max_depth': 2, 'max_features': 'sqrt', 'n_estimators': 10}\n",
            "0.439 (0.005) with: {'max_depth': 2, 'max_features': 'sqrt', 'n_estimators': 100}\n",
            "0.435 (0.006) with: {'max_depth': 2, 'max_features': 'sqrt', 'n_estimators': 1000}\n",
            "0.405 (0.053) with: {'max_depth': 2, 'max_features': 'log2', 'n_estimators': 10}\n",
            "0.426 (0.007) with: {'max_depth': 2, 'max_features': 'log2', 'n_estimators': 100}\n",
            "0.431 (0.008) with: {'max_depth': 2, 'max_features': 'log2', 'n_estimators': 1000}\n",
            "0.612 (0.003) with: {'max_depth': 3, 'max_features': 'auto', 'n_estimators': 10}\n",
            "0.617 (0.003) with: {'max_depth': 3, 'max_features': 'auto', 'n_estimators': 100}\n",
            "0.616 (0.003) with: {'max_depth': 3, 'max_features': 'auto', 'n_estimators': 1000}\n",
            "0.541 (0.004) with: {'max_depth': 3, 'max_features': 'sqrt', 'n_estimators': 10}\n",
            "0.535 (0.004) with: {'max_depth': 3, 'max_features': 'sqrt', 'n_estimators': 100}\n",
            "0.534 (0.008) with: {'max_depth': 3, 'max_features': 'sqrt', 'n_estimators': 1000}\n",
            "0.496 (0.022) with: {'max_depth': 3, 'max_features': 'log2', 'n_estimators': 10}\n",
            "0.541 (0.010) with: {'max_depth': 3, 'max_features': 'log2', 'n_estimators': 100}\n",
            "0.535 (0.004) with: {'max_depth': 3, 'max_features': 'log2', 'n_estimators': 1000}\n",
            "0.652 (0.001) with: {'max_depth': 4, 'max_features': 'auto', 'n_estimators': 10}\n",
            "0.652 (0.001) with: {'max_depth': 4, 'max_features': 'auto', 'n_estimators': 100}\n",
            "0.653 (0.001) with: {'max_depth': 4, 'max_features': 'auto', 'n_estimators': 1000}\n",
            "0.567 (0.037) with: {'max_depth': 4, 'max_features': 'sqrt', 'n_estimators': 10}\n",
            "0.598 (0.002) with: {'max_depth': 4, 'max_features': 'sqrt', 'n_estimators': 100}\n",
            "0.596 (0.002) with: {'max_depth': 4, 'max_features': 'sqrt', 'n_estimators': 1000}\n",
            "0.584 (0.007) with: {'max_depth': 4, 'max_features': 'log2', 'n_estimators': 10}\n",
            "0.591 (0.007) with: {'max_depth': 4, 'max_features': 'log2', 'n_estimators': 100}\n",
            "0.596 (0.002) with: {'max_depth': 4, 'max_features': 'log2', 'n_estimators': 1000}\n",
            "0.657 (0.002) with: {'max_depth': 5, 'max_features': 'auto', 'n_estimators': 10}\n",
            "0.658 (0.002) with: {'max_depth': 5, 'max_features': 'auto', 'n_estimators': 100}\n",
            "0.659 (0.002) with: {'max_depth': 5, 'max_features': 'auto', 'n_estimators': 1000}\n",
            "0.604 (0.024) with: {'max_depth': 5, 'max_features': 'sqrt', 'n_estimators': 10}\n",
            "0.631 (0.001) with: {'max_depth': 5, 'max_features': 'sqrt', 'n_estimators': 100}\n",
            "0.626 (0.002) with: {'max_depth': 5, 'max_features': 'sqrt', 'n_estimators': 1000}\n",
            "0.630 (0.014) with: {'max_depth': 5, 'max_features': 'log2', 'n_estimators': 10}\n",
            "0.621 (0.006) with: {'max_depth': 5, 'max_features': 'log2', 'n_estimators': 100}\n",
            "0.626 (0.003) with: {'max_depth': 5, 'max_features': 'log2', 'n_estimators': 1000}\n",
            "0.655 (0.000) with: {'max_depth': 6, 'max_features': 'auto', 'n_estimators': 10}\n",
            "0.658 (0.001) with: {'max_depth': 6, 'max_features': 'auto', 'n_estimators': 100}\n",
            "0.658 (0.001) with: {'max_depth': 6, 'max_features': 'auto', 'n_estimators': 1000}\n",
            "0.639 (0.005) with: {'max_depth': 6, 'max_features': 'sqrt', 'n_estimators': 10}\n",
            "0.639 (0.001) with: {'max_depth': 6, 'max_features': 'sqrt', 'n_estimators': 100}\n",
            "0.644 (0.002) with: {'max_depth': 6, 'max_features': 'sqrt', 'n_estimators': 1000}\n",
            "0.639 (0.004) with: {'max_depth': 6, 'max_features': 'log2', 'n_estimators': 10}\n",
            "0.641 (0.003) with: {'max_depth': 6, 'max_features': 'log2', 'n_estimators': 100}\n",
            "0.643 (0.002) with: {'max_depth': 6, 'max_features': 'log2', 'n_estimators': 1000}\n",
            "0.651 (0.001) with: {'max_depth': 7, 'max_features': 'auto', 'n_estimators': 10}\n",
            "0.656 (0.001) with: {'max_depth': 7, 'max_features': 'auto', 'n_estimators': 100}\n",
            "0.656 (0.001) with: {'max_depth': 7, 'max_features': 'auto', 'n_estimators': 1000}\n",
            "0.647 (0.000) with: {'max_depth': 7, 'max_features': 'sqrt', 'n_estimators': 10}\n",
            "0.651 (0.004) with: {'max_depth': 7, 'max_features': 'sqrt', 'n_estimators': 100}\n",
            "0.651 (0.001) with: {'max_depth': 7, 'max_features': 'sqrt', 'n_estimators': 1000}\n",
            "0.642 (0.004) with: {'max_depth': 7, 'max_features': 'log2', 'n_estimators': 10}\n",
            "0.650 (0.003) with: {'max_depth': 7, 'max_features': 'log2', 'n_estimators': 100}\n",
            "0.651 (0.001) with: {'max_depth': 7, 'max_features': 'log2', 'n_estimators': 1000}\n",
            "0.647 (0.001) with: {'max_depth': 8, 'max_features': 'auto', 'n_estimators': 10}\n",
            "0.652 (0.001) with: {'max_depth': 8, 'max_features': 'auto', 'n_estimators': 100}\n",
            "0.653 (0.001) with: {'max_depth': 8, 'max_features': 'auto', 'n_estimators': 1000}\n",
            "0.647 (0.003) with: {'max_depth': 8, 'max_features': 'sqrt', 'n_estimators': 10}\n",
            "0.653 (0.001) with: {'max_depth': 8, 'max_features': 'sqrt', 'n_estimators': 100}\n",
            "0.655 (0.001) with: {'max_depth': 8, 'max_features': 'sqrt', 'n_estimators': 1000}\n",
            "0.639 (0.001) with: {'max_depth': 8, 'max_features': 'log2', 'n_estimators': 10}\n",
            "0.654 (0.001) with: {'max_depth': 8, 'max_features': 'log2', 'n_estimators': 100}\n",
            "0.655 (0.001) with: {'max_depth': 8, 'max_features': 'log2', 'n_estimators': 1000}\n",
            "0.645 (0.002) with: {'max_depth': 9, 'max_features': 'auto', 'n_estimators': 10}\n",
            "0.649 (0.001) with: {'max_depth': 9, 'max_features': 'auto', 'n_estimators': 100}\n",
            "0.650 (0.001) with: {'max_depth': 9, 'max_features': 'auto', 'n_estimators': 1000}\n",
            "0.638 (0.002) with: {'max_depth': 9, 'max_features': 'sqrt', 'n_estimators': 10}\n",
            "0.654 (0.001) with: {'max_depth': 9, 'max_features': 'sqrt', 'n_estimators': 100}\n",
            "0.655 (0.000) with: {'max_depth': 9, 'max_features': 'sqrt', 'n_estimators': 1000}\n",
            "0.647 (0.001) with: {'max_depth': 9, 'max_features': 'log2', 'n_estimators': 10}\n",
            "0.654 (0.001) with: {'max_depth': 9, 'max_features': 'log2', 'n_estimators': 100}\n",
            "0.655 (0.000) with: {'max_depth': 9, 'max_features': 'log2', 'n_estimators': 1000}\n",
            "0.631 (0.002) with: {'max_depth': 10, 'max_features': 'auto', 'n_estimators': 10}\n",
            "0.644 (0.002) with: {'max_depth': 10, 'max_features': 'auto', 'n_estimators': 100}\n",
            "0.646 (0.001) with: {'max_depth': 10, 'max_features': 'auto', 'n_estimators': 1000}\n",
            "0.642 (0.001) with: {'max_depth': 10, 'max_features': 'sqrt', 'n_estimators': 10}\n",
            "0.652 (0.000) with: {'max_depth': 10, 'max_features': 'sqrt', 'n_estimators': 100}\n",
            "0.655 (0.000) with: {'max_depth': 10, 'max_features': 'sqrt', 'n_estimators': 1000}\n",
            "0.640 (0.002) with: {'max_depth': 10, 'max_features': 'log2', 'n_estimators': 10}\n",
            "0.652 (0.000) with: {'max_depth': 10, 'max_features': 'log2', 'n_estimators': 100}\n",
            "0.655 (0.000) with: {'max_depth': 10, 'max_features': 'log2', 'n_estimators': 1000}\n",
            "0.625 (0.001) with: {'max_depth': 11, 'max_features': 'auto', 'n_estimators': 10}\n",
            "0.640 (0.001) with: {'max_depth': 11, 'max_features': 'auto', 'n_estimators': 100}\n",
            "0.642 (0.001) with: {'max_depth': 11, 'max_features': 'auto', 'n_estimators': 1000}\n",
            "0.639 (0.001) with: {'max_depth': 11, 'max_features': 'sqrt', 'n_estimators': 10}\n",
            "0.651 (0.002) with: {'max_depth': 11, 'max_features': 'sqrt', 'n_estimators': 100}\n",
            "0.653 (0.000) with: {'max_depth': 11, 'max_features': 'sqrt', 'n_estimators': 1000}\n",
            "0.636 (0.003) with: {'max_depth': 11, 'max_features': 'log2', 'n_estimators': 10}\n",
            "0.653 (0.001) with: {'max_depth': 11, 'max_features': 'log2', 'n_estimators': 100}\n",
            "0.653 (0.000) with: {'max_depth': 11, 'max_features': 'log2', 'n_estimators': 1000}\n",
            "0.623 (0.001) with: {'max_depth': 12, 'max_features': 'auto', 'n_estimators': 10}\n",
            "0.636 (0.002) with: {'max_depth': 12, 'max_features': 'auto', 'n_estimators': 100}\n",
            "0.638 (0.001) with: {'max_depth': 12, 'max_features': 'auto', 'n_estimators': 1000}\n",
            "0.631 (0.002) with: {'max_depth': 12, 'max_features': 'sqrt', 'n_estimators': 10}\n",
            "0.649 (0.001) with: {'max_depth': 12, 'max_features': 'sqrt', 'n_estimators': 100}\n",
            "0.651 (0.001) with: {'max_depth': 12, 'max_features': 'sqrt', 'n_estimators': 1000}\n",
            "0.631 (0.002) with: {'max_depth': 12, 'max_features': 'log2', 'n_estimators': 10}\n",
            "0.647 (0.001) with: {'max_depth': 12, 'max_features': 'log2', 'n_estimators': 100}\n",
            "0.651 (0.001) with: {'max_depth': 12, 'max_features': 'log2', 'n_estimators': 1000}\n",
            "0.616 (0.002) with: {'max_depth': 13, 'max_features': 'auto', 'n_estimators': 10}\n",
            "0.632 (0.002) with: {'max_depth': 13, 'max_features': 'auto', 'n_estimators': 100}\n",
            "0.634 (0.002) with: {'max_depth': 13, 'max_features': 'auto', 'n_estimators': 1000}\n",
            "0.624 (0.004) with: {'max_depth': 13, 'max_features': 'sqrt', 'n_estimators': 10}\n",
            "0.646 (0.002) with: {'max_depth': 13, 'max_features': 'sqrt', 'n_estimators': 100}\n",
            "0.648 (0.001) with: {'max_depth': 13, 'max_features': 'sqrt', 'n_estimators': 1000}\n",
            "0.622 (0.001) with: {'max_depth': 13, 'max_features': 'log2', 'n_estimators': 10}\n",
            "0.646 (0.000) with: {'max_depth': 13, 'max_features': 'log2', 'n_estimators': 100}\n",
            "0.648 (0.001) with: {'max_depth': 13, 'max_features': 'log2', 'n_estimators': 1000}\n",
            "0.611 (0.003) with: {'max_depth': 14, 'max_features': 'auto', 'n_estimators': 10}\n",
            "0.628 (0.002) with: {'max_depth': 14, 'max_features': 'auto', 'n_estimators': 100}\n",
            "0.631 (0.002) with: {'max_depth': 14, 'max_features': 'auto', 'n_estimators': 1000}\n",
            "0.618 (0.004) with: {'max_depth': 14, 'max_features': 'sqrt', 'n_estimators': 10}\n",
            "0.642 (0.001) with: {'max_depth': 14, 'max_features': 'sqrt', 'n_estimators': 100}\n",
            "0.646 (0.002) with: {'max_depth': 14, 'max_features': 'sqrt', 'n_estimators': 1000}\n",
            "0.620 (0.002) with: {'max_depth': 14, 'max_features': 'log2', 'n_estimators': 10}\n",
            "0.644 (0.002) with: {'max_depth': 14, 'max_features': 'log2', 'n_estimators': 100}\n",
            "0.646 (0.002) with: {'max_depth': 14, 'max_features': 'log2', 'n_estimators': 1000}\n",
            "0.600 (0.005) with: {'max_depth': 15, 'max_features': 'auto', 'n_estimators': 10}\n",
            "0.625 (0.001) with: {'max_depth': 15, 'max_features': 'auto', 'n_estimators': 100}\n",
            "0.629 (0.002) with: {'max_depth': 15, 'max_features': 'auto', 'n_estimators': 1000}\n",
            "0.621 (0.001) with: {'max_depth': 15, 'max_features': 'sqrt', 'n_estimators': 10}\n",
            "0.642 (0.002) with: {'max_depth': 15, 'max_features': 'sqrt', 'n_estimators': 100}\n",
            "0.644 (0.002) with: {'max_depth': 15, 'max_features': 'sqrt', 'n_estimators': 1000}\n",
            "0.617 (0.001) with: {'max_depth': 15, 'max_features': 'log2', 'n_estimators': 10}\n",
            "0.642 (0.002) with: {'max_depth': 15, 'max_features': 'log2', 'n_estimators': 100}\n",
            "0.644 (0.002) with: {'max_depth': 15, 'max_features': 'log2', 'n_estimators': 1000}\n",
            "0.600 (0.003) with: {'max_depth': 16, 'max_features': 'auto', 'n_estimators': 10}\n",
            "0.624 (0.001) with: {'max_depth': 16, 'max_features': 'auto', 'n_estimators': 100}\n",
            "0.627 (0.001) with: {'max_depth': 16, 'max_features': 'auto', 'n_estimators': 1000}\n",
            "0.621 (0.005) with: {'max_depth': 16, 'max_features': 'sqrt', 'n_estimators': 10}\n",
            "0.640 (0.003) with: {'max_depth': 16, 'max_features': 'sqrt', 'n_estimators': 100}\n",
            "0.642 (0.002) with: {'max_depth': 16, 'max_features': 'sqrt', 'n_estimators': 1000}\n",
            "0.612 (0.004) with: {'max_depth': 16, 'max_features': 'log2', 'n_estimators': 10}\n",
            "0.638 (0.002) with: {'max_depth': 16, 'max_features': 'log2', 'n_estimators': 100}\n",
            "0.643 (0.001) with: {'max_depth': 16, 'max_features': 'log2', 'n_estimators': 1000}\n",
            "0.598 (0.002) with: {'max_depth': 17, 'max_features': 'auto', 'n_estimators': 10}\n",
            "0.624 (0.002) with: {'max_depth': 17, 'max_features': 'auto', 'n_estimators': 100}\n",
            "0.625 (0.002) with: {'max_depth': 17, 'max_features': 'auto', 'n_estimators': 1000}\n",
            "0.608 (0.002) with: {'max_depth': 17, 'max_features': 'sqrt', 'n_estimators': 10}\n",
            "0.638 (0.003) with: {'max_depth': 17, 'max_features': 'sqrt', 'n_estimators': 100}\n",
            "0.641 (0.002) with: {'max_depth': 17, 'max_features': 'sqrt', 'n_estimators': 1000}\n",
            "0.611 (0.001) with: {'max_depth': 17, 'max_features': 'log2', 'n_estimators': 10}\n",
            "0.639 (0.001) with: {'max_depth': 17, 'max_features': 'log2', 'n_estimators': 100}\n",
            "0.641 (0.002) with: {'max_depth': 17, 'max_features': 'log2', 'n_estimators': 1000}\n",
            "0.595 (0.001) with: {'max_depth': 18, 'max_features': 'auto', 'n_estimators': 10}\n",
            "0.621 (0.001) with: {'max_depth': 18, 'max_features': 'auto', 'n_estimators': 100}\n",
            "0.624 (0.002) with: {'max_depth': 18, 'max_features': 'auto', 'n_estimators': 1000}\n",
            "0.613 (0.002) with: {'max_depth': 18, 'max_features': 'sqrt', 'n_estimators': 10}\n",
            "0.636 (0.003) with: {'max_depth': 18, 'max_features': 'sqrt', 'n_estimators': 100}\n",
            "0.640 (0.001) with: {'max_depth': 18, 'max_features': 'sqrt', 'n_estimators': 1000}\n",
            "0.607 (0.001) with: {'max_depth': 18, 'max_features': 'log2', 'n_estimators': 10}\n",
            "0.638 (0.000) with: {'max_depth': 18, 'max_features': 'log2', 'n_estimators': 100}\n",
            "0.640 (0.002) with: {'max_depth': 18, 'max_features': 'log2', 'n_estimators': 1000}\n",
            "0.587 (0.002) with: {'max_depth': 19, 'max_features': 'auto', 'n_estimators': 10}\n",
            "0.620 (0.002) with: {'max_depth': 19, 'max_features': 'auto', 'n_estimators': 100}\n",
            "0.623 (0.003) with: {'max_depth': 19, 'max_features': 'auto', 'n_estimators': 1000}\n",
            "0.602 (0.000) with: {'max_depth': 19, 'max_features': 'sqrt', 'n_estimators': 10}\n",
            "0.635 (0.002) with: {'max_depth': 19, 'max_features': 'sqrt', 'n_estimators': 100}\n",
            "0.640 (0.001) with: {'max_depth': 19, 'max_features': 'sqrt', 'n_estimators': 1000}\n",
            "0.607 (0.007) with: {'max_depth': 19, 'max_features': 'log2', 'n_estimators': 10}\n",
            "0.637 (0.001) with: {'max_depth': 19, 'max_features': 'log2', 'n_estimators': 100}\n",
            "0.640 (0.001) with: {'max_depth': 19, 'max_features': 'log2', 'n_estimators': 1000}\n",
            "0.592 (0.005) with: {'max_depth': 20, 'max_features': 'auto', 'n_estimators': 10}\n",
            "0.619 (0.000) with: {'max_depth': 20, 'max_features': 'auto', 'n_estimators': 100}\n",
            "0.623 (0.002) with: {'max_depth': 20, 'max_features': 'auto', 'n_estimators': 1000}\n",
            "0.605 (0.006) with: {'max_depth': 20, 'max_features': 'sqrt', 'n_estimators': 10}\n",
            "0.637 (0.000) with: {'max_depth': 20, 'max_features': 'sqrt', 'n_estimators': 100}\n",
            "0.639 (0.002) with: {'max_depth': 20, 'max_features': 'sqrt', 'n_estimators': 1000}\n",
            "0.611 (0.003) with: {'max_depth': 20, 'max_features': 'log2', 'n_estimators': 10}\n",
            "0.638 (0.002) with: {'max_depth': 20, 'max_features': 'log2', 'n_estimators': 100}\n",
            "0.639 (0.002) with: {'max_depth': 20, 'max_features': 'log2', 'n_estimators': 1000}\n",
            "0.592 (0.003) with: {'max_depth': 21, 'max_features': 'auto', 'n_estimators': 10}\n",
            "0.618 (0.002) with: {'max_depth': 21, 'max_features': 'auto', 'n_estimators': 100}\n",
            "0.622 (0.003) with: {'max_depth': 21, 'max_features': 'auto', 'n_estimators': 1000}\n",
            "0.607 (0.004) with: {'max_depth': 21, 'max_features': 'sqrt', 'n_estimators': 10}\n",
            "0.636 (0.002) with: {'max_depth': 21, 'max_features': 'sqrt', 'n_estimators': 100}\n",
            "0.639 (0.002) with: {'max_depth': 21, 'max_features': 'sqrt', 'n_estimators': 1000}\n",
            "0.600 (0.007) with: {'max_depth': 21, 'max_features': 'log2', 'n_estimators': 10}\n",
            "0.636 (0.002) with: {'max_depth': 21, 'max_features': 'log2', 'n_estimators': 100}\n",
            "0.639 (0.002) with: {'max_depth': 21, 'max_features': 'log2', 'n_estimators': 1000}\n",
            "0.596 (0.005) with: {'max_depth': 22, 'max_features': 'auto', 'n_estimators': 10}\n",
            "0.619 (0.003) with: {'max_depth': 22, 'max_features': 'auto', 'n_estimators': 100}\n",
            "0.622 (0.002) with: {'max_depth': 22, 'max_features': 'auto', 'n_estimators': 1000}\n",
            "0.604 (0.006) with: {'max_depth': 22, 'max_features': 'sqrt', 'n_estimators': 10}\n",
            "0.635 (0.001) with: {'max_depth': 22, 'max_features': 'sqrt', 'n_estimators': 100}\n",
            "0.639 (0.001) with: {'max_depth': 22, 'max_features': 'sqrt', 'n_estimators': 1000}\n",
            "0.605 (0.001) with: {'max_depth': 22, 'max_features': 'log2', 'n_estimators': 10}\n",
            "0.638 (0.001) with: {'max_depth': 22, 'max_features': 'log2', 'n_estimators': 100}\n",
            "0.639 (0.002) with: {'max_depth': 22, 'max_features': 'log2', 'n_estimators': 1000}\n",
            "0.592 (0.001) with: {'max_depth': 23, 'max_features': 'auto', 'n_estimators': 10}\n",
            "0.620 (0.003) with: {'max_depth': 23, 'max_features': 'auto', 'n_estimators': 100}\n",
            "0.622 (0.002) with: {'max_depth': 23, 'max_features': 'auto', 'n_estimators': 1000}\n",
            "0.607 (0.003) with: {'max_depth': 23, 'max_features': 'sqrt', 'n_estimators': 10}\n",
            "0.637 (0.002) with: {'max_depth': 23, 'max_features': 'sqrt', 'n_estimators': 100}\n",
            "0.639 (0.002) with: {'max_depth': 23, 'max_features': 'sqrt', 'n_estimators': 1000}\n",
            "0.612 (0.003) with: {'max_depth': 23, 'max_features': 'log2', 'n_estimators': 10}\n",
            "0.636 (0.002) with: {'max_depth': 23, 'max_features': 'log2', 'n_estimators': 100}\n",
            "0.639 (0.002) with: {'max_depth': 23, 'max_features': 'log2', 'n_estimators': 1000}\n",
            "0.584 (0.004) with: {'max_depth': 24, 'max_features': 'auto', 'n_estimators': 10}\n",
            "0.618 (0.002) with: {'max_depth': 24, 'max_features': 'auto', 'n_estimators': 100}\n",
            "0.621 (0.003) with: {'max_depth': 24, 'max_features': 'auto', 'n_estimators': 1000}\n",
            "0.605 (0.003) with: {'max_depth': 24, 'max_features': 'sqrt', 'n_estimators': 10}\n",
            "0.635 (0.002) with: {'max_depth': 24, 'max_features': 'sqrt', 'n_estimators': 100}\n",
            "0.639 (0.002) with: {'max_depth': 24, 'max_features': 'sqrt', 'n_estimators': 1000}\n",
            "0.599 (0.001) with: {'max_depth': 24, 'max_features': 'log2', 'n_estimators': 10}\n",
            "0.636 (0.002) with: {'max_depth': 24, 'max_features': 'log2', 'n_estimators': 100}\n",
            "0.639 (0.002) with: {'max_depth': 24, 'max_features': 'log2', 'n_estimators': 1000}\n",
            "0.588 (0.004) with: {'max_depth': 25, 'max_features': 'auto', 'n_estimators': 10}\n",
            "0.619 (0.004) with: {'max_depth': 25, 'max_features': 'auto', 'n_estimators': 100}\n",
            "0.622 (0.003) with: {'max_depth': 25, 'max_features': 'auto', 'n_estimators': 1000}\n",
            "0.606 (0.003) with: {'max_depth': 25, 'max_features': 'sqrt', 'n_estimators': 10}\n",
            "0.636 (0.001) with: {'max_depth': 25, 'max_features': 'sqrt', 'n_estimators': 100}\n",
            "0.639 (0.002) with: {'max_depth': 25, 'max_features': 'sqrt', 'n_estimators': 1000}\n",
            "0.603 (0.003) with: {'max_depth': 25, 'max_features': 'log2', 'n_estimators': 10}\n",
            "0.634 (0.002) with: {'max_depth': 25, 'max_features': 'log2', 'n_estimators': 100}\n",
            "0.639 (0.002) with: {'max_depth': 25, 'max_features': 'log2', 'n_estimators': 1000}\n",
            "0.589 (0.006) with: {'max_depth': 26, 'max_features': 'auto', 'n_estimators': 10}\n",
            "0.620 (0.002) with: {'max_depth': 26, 'max_features': 'auto', 'n_estimators': 100}\n",
            "0.622 (0.003) with: {'max_depth': 26, 'max_features': 'auto', 'n_estimators': 1000}\n",
            "0.603 (0.005) with: {'max_depth': 26, 'max_features': 'sqrt', 'n_estimators': 10}\n",
            "0.635 (0.003) with: {'max_depth': 26, 'max_features': 'sqrt', 'n_estimators': 100}\n",
            "0.639 (0.002) with: {'max_depth': 26, 'max_features': 'sqrt', 'n_estimators': 1000}\n",
            "0.595 (0.003) with: {'max_depth': 26, 'max_features': 'log2', 'n_estimators': 10}\n",
            "0.635 (0.000) with: {'max_depth': 26, 'max_features': 'log2', 'n_estimators': 100}\n",
            "0.639 (0.002) with: {'max_depth': 26, 'max_features': 'log2', 'n_estimators': 1000}\n",
            "0.591 (0.003) with: {'max_depth': 27, 'max_features': 'auto', 'n_estimators': 10}\n",
            "0.619 (0.003) with: {'max_depth': 27, 'max_features': 'auto', 'n_estimators': 100}\n",
            "0.622 (0.003) with: {'max_depth': 27, 'max_features': 'auto', 'n_estimators': 1000}\n",
            "0.606 (0.000) with: {'max_depth': 27, 'max_features': 'sqrt', 'n_estimators': 10}\n",
            "0.635 (0.003) with: {'max_depth': 27, 'max_features': 'sqrt', 'n_estimators': 100}\n",
            "0.639 (0.001) with: {'max_depth': 27, 'max_features': 'sqrt', 'n_estimators': 1000}\n",
            "0.613 (0.003) with: {'max_depth': 27, 'max_features': 'log2', 'n_estimators': 10}\n",
            "0.637 (0.001) with: {'max_depth': 27, 'max_features': 'log2', 'n_estimators': 100}\n",
            "0.639 (0.002) with: {'max_depth': 27, 'max_features': 'log2', 'n_estimators': 1000}\n",
            "0.583 (0.000) with: {'max_depth': 28, 'max_features': 'auto', 'n_estimators': 10}\n",
            "0.619 (0.002) with: {'max_depth': 28, 'max_features': 'auto', 'n_estimators': 100}\n",
            "0.622 (0.002) with: {'max_depth': 28, 'max_features': 'auto', 'n_estimators': 1000}\n",
            "0.599 (0.002) with: {'max_depth': 28, 'max_features': 'sqrt', 'n_estimators': 10}\n",
            "0.636 (0.001) with: {'max_depth': 28, 'max_features': 'sqrt', 'n_estimators': 100}\n",
            "0.639 (0.001) with: {'max_depth': 28, 'max_features': 'sqrt', 'n_estimators': 1000}\n",
            "0.605 (0.008) with: {'max_depth': 28, 'max_features': 'log2', 'n_estimators': 10}\n",
            "0.635 (0.002) with: {'max_depth': 28, 'max_features': 'log2', 'n_estimators': 100}\n",
            "0.639 (0.002) with: {'max_depth': 28, 'max_features': 'log2', 'n_estimators': 1000}\n",
            "0.585 (0.004) with: {'max_depth': 29, 'max_features': 'auto', 'n_estimators': 10}\n",
            "0.619 (0.001) with: {'max_depth': 29, 'max_features': 'auto', 'n_estimators': 100}\n",
            "0.621 (0.003) with: {'max_depth': 29, 'max_features': 'auto', 'n_estimators': 1000}\n",
            "0.598 (0.005) with: {'max_depth': 29, 'max_features': 'sqrt', 'n_estimators': 10}\n",
            "0.634 (0.001) with: {'max_depth': 29, 'max_features': 'sqrt', 'n_estimators': 100}\n",
            "0.639 (0.002) with: {'max_depth': 29, 'max_features': 'sqrt', 'n_estimators': 1000}\n",
            "0.606 (0.007) with: {'max_depth': 29, 'max_features': 'log2', 'n_estimators': 10}\n",
            "0.637 (0.002) with: {'max_depth': 29, 'max_features': 'log2', 'n_estimators': 100}\n",
            "0.639 (0.001) with: {'max_depth': 29, 'max_features': 'log2', 'n_estimators': 1000}\n",
            "0.595 (0.001) with: {'max_depth': 30, 'max_features': 'auto', 'n_estimators': 10}\n",
            "0.619 (0.001) with: {'max_depth': 30, 'max_features': 'auto', 'n_estimators': 100}\n",
            "0.622 (0.003) with: {'max_depth': 30, 'max_features': 'auto', 'n_estimators': 1000}\n",
            "0.615 (0.001) with: {'max_depth': 30, 'max_features': 'sqrt', 'n_estimators': 10}\n",
            "0.634 (0.000) with: {'max_depth': 30, 'max_features': 'sqrt', 'n_estimators': 100}\n",
            "0.639 (0.001) with: {'max_depth': 30, 'max_features': 'sqrt', 'n_estimators': 1000}\n",
            "0.602 (0.004) with: {'max_depth': 30, 'max_features': 'log2', 'n_estimators': 10}\n",
            "0.637 (0.002) with: {'max_depth': 30, 'max_features': 'log2', 'n_estimators': 100}\n",
            "0.638 (0.001) with: {'max_depth': 30, 'max_features': 'log2', 'n_estimators': 1000}\n"
          ]
        }
      ]
    },
    {
      "cell_type": "code",
      "source": [
        "grid_search_forest.best_score_\n",
        "Y_pred_rf_grid=grid_search_forest.predict(X_test)\n",
        "r2_score(Y_test,Y_pred_rf_grid)"
      ],
      "metadata": {
        "colab": {
          "base_uri": "https://localhost:8080/"
        },
        "id": "dlQwXOE2D42n",
        "outputId": "60adbd23-1b73-4a75-b38f-b112edf14641"
      },
      "execution_count": 24,
      "outputs": [
        {
          "output_type": "execute_result",
          "data": {
            "text/plain": [
              "0.6531997956133933"
            ]
          },
          "metadata": {},
          "execution_count": 24
        }
      ]
    },
    {
      "cell_type": "code",
      "source": [
        "import joblib\n",
        "joblib.dump(grid_search_forest,'D:\\Bigmart predtion analysis\\random_forest_grid.sav')"
      ],
      "metadata": {
        "id": "8zLXQAB7nPIc",
        "colab": {
          "base_uri": "https://localhost:8080/"
        },
        "outputId": "488e73fb-79ce-46a8-fb66-c080236449d3"
      },
      "execution_count": 25,
      "outputs": [
        {
          "output_type": "execute_result",
          "data": {
            "text/plain": [
              "['D:\\\\Bigmart predtion analysis\\random_forest_grid.sav']"
            ]
          },
          "metadata": {},
          "execution_count": 25
        }
      ]
    },
    {
      "cell_type": "code",
      "source": [
        "model=joblib.load('D:\\Bigmart predtion analysis\\random_forest_grid.sav')"
      ],
      "metadata": {
        "id": "rUDSrqs8oHno"
      },
      "execution_count": 26,
      "outputs": []
    },
    {
      "cell_type": "code",
      "source": [],
      "metadata": {
        "id": "gZYs7QteoQZU"
      },
      "execution_count": 26,
      "outputs": []
    }
  ]
}