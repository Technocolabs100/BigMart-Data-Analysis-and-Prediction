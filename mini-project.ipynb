{
 "cells": [
  {
   "cell_type": "code",
   "execution_count": 1,
   "id": "4d626ddd",
   "metadata": {
    "_cell_guid": "b1076dfc-b9ad-4769-8c92-a6c4dae69d19",
    "_uuid": "8f2839f25d086af736a60e9eeb907d3b93b6e0e5",
    "execution": {
     "iopub.execute_input": "2023-07-09T23:47:04.310553Z",
     "iopub.status.busy": "2023-07-09T23:47:04.309950Z",
     "iopub.status.idle": "2023-07-09T23:47:06.745832Z",
     "shell.execute_reply": "2023-07-09T23:47:06.743836Z"
    },
    "papermill": {
     "duration": 2.450047,
     "end_time": "2023-07-09T23:47:06.748465",
     "exception": false,
     "start_time": "2023-07-09T23:47:04.298418",
     "status": "completed"
    },
    "tags": []
   },
   "outputs": [
    {
     "name": "stdout",
     "output_type": "stream",
     "text": [
      "/kaggle/input/test-data/Test.csv\n",
      "/kaggle/input/train/Train.csv\n"
     ]
    }
   ],
   "source": [
    "import numpy as np # linear algebra\n",
    "import pandas as pd # data processing, CSV file I/O (e.g. pd.read_csv)\n",
    "\n",
    "import os\n",
    "for dirname, _, filenames in os.walk('/kaggle/input'):\n",
    "    for filename in filenames:\n",
    "        print(os.path.join(dirname, filename))\n",
    "\n",
    "import scipy\n",
    "import numpy as np\n",
    "from sklearn.preprocessing import MinMaxScaler\n",
    "from sklearn.preprocessing import LabelEncoder\n",
    "from sklearn.metrics import mean_absolute_error\n",
    "from sklearn import metrics\n",
    "from sklearn.model_selection import train_test_split\n",
    "from sklearn.linear_model import LinearRegression, Ridge, Lasso\n",
    "from sklearn.ensemble import RandomForestRegressor\n",
    "from sklearn.neighbors import KNeighborsRegressor\n",
    "from sklearn.ensemble import AdaBoostRegressor\n",
    "from sklearn.linear_model import Lasso\n",
    "from sklearn.linear_model import Ridge\n",
    "from xgboost import XGBRegressor\n",
    "from sklearn.svm import SVR\n",
    "import seaborn as sns\n",
    "import matplotlib.pyplot as plt\n",
    "import matplotlib.pyplot as plt\n",
    "import seaborn as sns\n",
    "%matplotlib inline\n",
    "\n",
    "# You can write up to 20GB to the current directory (/kaggle/working/) that gets preserved as output when you create a version using \"Save & Run All\" \n",
    "# You can also write temporary files to /kaggle/temp/, but they won't be saved outside of the current session"
   ]
  },
  {
   "cell_type": "markdown",
   "id": "61d97f4e",
   "metadata": {
    "papermill": {
     "duration": 0.009146,
     "end_time": "2023-07-09T23:47:06.767511",
     "exception": false,
     "start_time": "2023-07-09T23:47:06.758365",
     "status": "completed"
    },
    "tags": []
   },
   "source": [
    "# **Hypothesis Generation Based On Various Factors**\n",
    "in our problem there is various factors that affect sales of each item \n",
    "> **these are some factors:**\n",
    "* item price: Lower-priced items may have higher sales than higher-priced items, due to greater affordability.\n",
    "* item quality: Higher-quality items may have higher sales than lower-quality items, due to greater customer satisfaction.\n",
    "* item availability: items that are frequently out of stock may have lower sales than items that are consistently in stock.\n",
    "* Promotion and advertising: items that are mostly promoted or advertised correctly may have higher sales than items that are not.\n"
   ]
  },
  {
   "cell_type": "code",
   "execution_count": 2,
   "id": "a9ffeef0",
   "metadata": {
    "execution": {
     "iopub.execute_input": "2023-07-09T23:47:06.788440Z",
     "iopub.status.busy": "2023-07-09T23:47:06.788050Z",
     "iopub.status.idle": "2023-07-09T23:47:06.868611Z",
     "shell.execute_reply": "2023-07-09T23:47:06.867246Z"
    },
    "papermill": {
     "duration": 0.093954,
     "end_time": "2023-07-09T23:47:06.870820",
     "exception": false,
     "start_time": "2023-07-09T23:47:06.776866",
     "status": "completed"
    },
    "tags": []
   },
   "outputs": [
    {
     "data": {
      "text/html": [
       "<div>\n",
       "<style scoped>\n",
       "    .dataframe tbody tr th:only-of-type {\n",
       "        vertical-align: middle;\n",
       "    }\n",
       "\n",
       "    .dataframe tbody tr th {\n",
       "        vertical-align: top;\n",
       "    }\n",
       "\n",
       "    .dataframe thead th {\n",
       "        text-align: right;\n",
       "    }\n",
       "</style>\n",
       "<table border=\"1\" class=\"dataframe\">\n",
       "  <thead>\n",
       "    <tr style=\"text-align: right;\">\n",
       "      <th></th>\n",
       "      <th>Item_Identifier</th>\n",
       "      <th>Item_Weight</th>\n",
       "      <th>Item_Fat_Content</th>\n",
       "      <th>Item_Visibility</th>\n",
       "      <th>Item_Type</th>\n",
       "      <th>Item_MRP</th>\n",
       "      <th>Outlet_Identifier</th>\n",
       "      <th>Outlet_Establishment_Year</th>\n",
       "      <th>Outlet_Size</th>\n",
       "      <th>Outlet_Location_Type</th>\n",
       "      <th>Outlet_Type</th>\n",
       "      <th>Item_Outlet_Sales</th>\n",
       "    </tr>\n",
       "  </thead>\n",
       "  <tbody>\n",
       "    <tr>\n",
       "      <th>0</th>\n",
       "      <td>FDA15</td>\n",
       "      <td>9.300</td>\n",
       "      <td>Low Fat</td>\n",
       "      <td>0.016047</td>\n",
       "      <td>Dairy</td>\n",
       "      <td>249.8092</td>\n",
       "      <td>OUT049</td>\n",
       "      <td>1999</td>\n",
       "      <td>Medium</td>\n",
       "      <td>Tier 1</td>\n",
       "      <td>Supermarket Type1</td>\n",
       "      <td>3735.1380</td>\n",
       "    </tr>\n",
       "    <tr>\n",
       "      <th>1</th>\n",
       "      <td>DRC01</td>\n",
       "      <td>5.920</td>\n",
       "      <td>Regular</td>\n",
       "      <td>0.019278</td>\n",
       "      <td>Soft Drinks</td>\n",
       "      <td>48.2692</td>\n",
       "      <td>OUT018</td>\n",
       "      <td>2009</td>\n",
       "      <td>Medium</td>\n",
       "      <td>Tier 3</td>\n",
       "      <td>Supermarket Type2</td>\n",
       "      <td>443.4228</td>\n",
       "    </tr>\n",
       "    <tr>\n",
       "      <th>2</th>\n",
       "      <td>FDN15</td>\n",
       "      <td>17.500</td>\n",
       "      <td>Low Fat</td>\n",
       "      <td>0.016760</td>\n",
       "      <td>Meat</td>\n",
       "      <td>141.6180</td>\n",
       "      <td>OUT049</td>\n",
       "      <td>1999</td>\n",
       "      <td>Medium</td>\n",
       "      <td>Tier 1</td>\n",
       "      <td>Supermarket Type1</td>\n",
       "      <td>2097.2700</td>\n",
       "    </tr>\n",
       "    <tr>\n",
       "      <th>3</th>\n",
       "      <td>FDX07</td>\n",
       "      <td>19.200</td>\n",
       "      <td>Regular</td>\n",
       "      <td>0.000000</td>\n",
       "      <td>Fruits and Vegetables</td>\n",
       "      <td>182.0950</td>\n",
       "      <td>OUT010</td>\n",
       "      <td>1998</td>\n",
       "      <td>NaN</td>\n",
       "      <td>Tier 3</td>\n",
       "      <td>Grocery Store</td>\n",
       "      <td>732.3800</td>\n",
       "    </tr>\n",
       "    <tr>\n",
       "      <th>4</th>\n",
       "      <td>NCD19</td>\n",
       "      <td>8.930</td>\n",
       "      <td>Low Fat</td>\n",
       "      <td>0.000000</td>\n",
       "      <td>Household</td>\n",
       "      <td>53.8614</td>\n",
       "      <td>OUT013</td>\n",
       "      <td>1987</td>\n",
       "      <td>High</td>\n",
       "      <td>Tier 3</td>\n",
       "      <td>Supermarket Type1</td>\n",
       "      <td>994.7052</td>\n",
       "    </tr>\n",
       "    <tr>\n",
       "      <th>5</th>\n",
       "      <td>FDP36</td>\n",
       "      <td>10.395</td>\n",
       "      <td>Regular</td>\n",
       "      <td>0.000000</td>\n",
       "      <td>Baking Goods</td>\n",
       "      <td>51.4008</td>\n",
       "      <td>OUT018</td>\n",
       "      <td>2009</td>\n",
       "      <td>Medium</td>\n",
       "      <td>Tier 3</td>\n",
       "      <td>Supermarket Type2</td>\n",
       "      <td>556.6088</td>\n",
       "    </tr>\n",
       "    <tr>\n",
       "      <th>6</th>\n",
       "      <td>FDO10</td>\n",
       "      <td>13.650</td>\n",
       "      <td>Regular</td>\n",
       "      <td>0.012741</td>\n",
       "      <td>Snack Foods</td>\n",
       "      <td>57.6588</td>\n",
       "      <td>OUT013</td>\n",
       "      <td>1987</td>\n",
       "      <td>High</td>\n",
       "      <td>Tier 3</td>\n",
       "      <td>Supermarket Type1</td>\n",
       "      <td>343.5528</td>\n",
       "    </tr>\n",
       "    <tr>\n",
       "      <th>7</th>\n",
       "      <td>FDP10</td>\n",
       "      <td>NaN</td>\n",
       "      <td>Low Fat</td>\n",
       "      <td>0.127470</td>\n",
       "      <td>Snack Foods</td>\n",
       "      <td>107.7622</td>\n",
       "      <td>OUT027</td>\n",
       "      <td>1985</td>\n",
       "      <td>Medium</td>\n",
       "      <td>Tier 3</td>\n",
       "      <td>Supermarket Type3</td>\n",
       "      <td>4022.7636</td>\n",
       "    </tr>\n",
       "  </tbody>\n",
       "</table>\n",
       "</div>"
      ],
      "text/plain": [
       "  Item_Identifier  Item_Weight Item_Fat_Content  Item_Visibility  \\\n",
       "0           FDA15        9.300          Low Fat         0.016047   \n",
       "1           DRC01        5.920          Regular         0.019278   \n",
       "2           FDN15       17.500          Low Fat         0.016760   \n",
       "3           FDX07       19.200          Regular         0.000000   \n",
       "4           NCD19        8.930          Low Fat         0.000000   \n",
       "5           FDP36       10.395          Regular         0.000000   \n",
       "6           FDO10       13.650          Regular         0.012741   \n",
       "7           FDP10          NaN          Low Fat         0.127470   \n",
       "\n",
       "               Item_Type  Item_MRP Outlet_Identifier  \\\n",
       "0                  Dairy  249.8092            OUT049   \n",
       "1            Soft Drinks   48.2692            OUT018   \n",
       "2                   Meat  141.6180            OUT049   \n",
       "3  Fruits and Vegetables  182.0950            OUT010   \n",
       "4              Household   53.8614            OUT013   \n",
       "5           Baking Goods   51.4008            OUT018   \n",
       "6            Snack Foods   57.6588            OUT013   \n",
       "7            Snack Foods  107.7622            OUT027   \n",
       "\n",
       "   Outlet_Establishment_Year Outlet_Size Outlet_Location_Type  \\\n",
       "0                       1999      Medium               Tier 1   \n",
       "1                       2009      Medium               Tier 3   \n",
       "2                       1999      Medium               Tier 1   \n",
       "3                       1998         NaN               Tier 3   \n",
       "4                       1987        High               Tier 3   \n",
       "5                       2009      Medium               Tier 3   \n",
       "6                       1987        High               Tier 3   \n",
       "7                       1985      Medium               Tier 3   \n",
       "\n",
       "         Outlet_Type  Item_Outlet_Sales  \n",
       "0  Supermarket Type1          3735.1380  \n",
       "1  Supermarket Type2           443.4228  \n",
       "2  Supermarket Type1          2097.2700  \n",
       "3      Grocery Store           732.3800  \n",
       "4  Supermarket Type1           994.7052  \n",
       "5  Supermarket Type2           556.6088  \n",
       "6  Supermarket Type1           343.5528  \n",
       "7  Supermarket Type3          4022.7636  "
      ]
     },
     "execution_count": 2,
     "metadata": {},
     "output_type": "execute_result"
    }
   ],
   "source": [
    "data = pd.read_csv('/kaggle/input/train/Train.csv')\n",
    "\n",
    "data.head(8)"
   ]
  },
  {
   "cell_type": "code",
   "execution_count": 3,
   "id": "5e45a664",
   "metadata": {
    "execution": {
     "iopub.execute_input": "2023-07-09T23:47:06.893606Z",
     "iopub.status.busy": "2023-07-09T23:47:06.893188Z",
     "iopub.status.idle": "2023-07-09T23:47:06.928467Z",
     "shell.execute_reply": "2023-07-09T23:47:06.927266Z"
    },
    "papermill": {
     "duration": 0.049974,
     "end_time": "2023-07-09T23:47:06.931255",
     "exception": false,
     "start_time": "2023-07-09T23:47:06.881281",
     "status": "completed"
    },
    "tags": []
   },
   "outputs": [
    {
     "data": {
      "text/html": [
       "<div>\n",
       "<style scoped>\n",
       "    .dataframe tbody tr th:only-of-type {\n",
       "        vertical-align: middle;\n",
       "    }\n",
       "\n",
       "    .dataframe tbody tr th {\n",
       "        vertical-align: top;\n",
       "    }\n",
       "\n",
       "    .dataframe thead th {\n",
       "        text-align: right;\n",
       "    }\n",
       "</style>\n",
       "<table border=\"1\" class=\"dataframe\">\n",
       "  <thead>\n",
       "    <tr style=\"text-align: right;\">\n",
       "      <th></th>\n",
       "      <th>Item_Identifier</th>\n",
       "      <th>Item_Weight</th>\n",
       "      <th>Item_Fat_Content</th>\n",
       "      <th>Item_Visibility</th>\n",
       "      <th>Item_Type</th>\n",
       "      <th>Item_MRP</th>\n",
       "      <th>Outlet_Identifier</th>\n",
       "      <th>Outlet_Establishment_Year</th>\n",
       "      <th>Outlet_Size</th>\n",
       "      <th>Outlet_Location_Type</th>\n",
       "      <th>Outlet_Type</th>\n",
       "    </tr>\n",
       "  </thead>\n",
       "  <tbody>\n",
       "    <tr>\n",
       "      <th>0</th>\n",
       "      <td>FDW58</td>\n",
       "      <td>20.750</td>\n",
       "      <td>Low Fat</td>\n",
       "      <td>0.007565</td>\n",
       "      <td>Snack Foods</td>\n",
       "      <td>107.8622</td>\n",
       "      <td>OUT049</td>\n",
       "      <td>1999</td>\n",
       "      <td>Medium</td>\n",
       "      <td>Tier 1</td>\n",
       "      <td>Supermarket Type1</td>\n",
       "    </tr>\n",
       "    <tr>\n",
       "      <th>1</th>\n",
       "      <td>FDW14</td>\n",
       "      <td>8.300</td>\n",
       "      <td>reg</td>\n",
       "      <td>0.038428</td>\n",
       "      <td>Dairy</td>\n",
       "      <td>87.3198</td>\n",
       "      <td>OUT017</td>\n",
       "      <td>2007</td>\n",
       "      <td>NaN</td>\n",
       "      <td>Tier 2</td>\n",
       "      <td>Supermarket Type1</td>\n",
       "    </tr>\n",
       "    <tr>\n",
       "      <th>2</th>\n",
       "      <td>NCN55</td>\n",
       "      <td>14.600</td>\n",
       "      <td>Low Fat</td>\n",
       "      <td>0.099575</td>\n",
       "      <td>Others</td>\n",
       "      <td>241.7538</td>\n",
       "      <td>OUT010</td>\n",
       "      <td>1998</td>\n",
       "      <td>NaN</td>\n",
       "      <td>Tier 3</td>\n",
       "      <td>Grocery Store</td>\n",
       "    </tr>\n",
       "    <tr>\n",
       "      <th>3</th>\n",
       "      <td>FDQ58</td>\n",
       "      <td>7.315</td>\n",
       "      <td>Low Fat</td>\n",
       "      <td>0.015388</td>\n",
       "      <td>Snack Foods</td>\n",
       "      <td>155.0340</td>\n",
       "      <td>OUT017</td>\n",
       "      <td>2007</td>\n",
       "      <td>NaN</td>\n",
       "      <td>Tier 2</td>\n",
       "      <td>Supermarket Type1</td>\n",
       "    </tr>\n",
       "    <tr>\n",
       "      <th>4</th>\n",
       "      <td>FDY38</td>\n",
       "      <td>NaN</td>\n",
       "      <td>Regular</td>\n",
       "      <td>0.118599</td>\n",
       "      <td>Dairy</td>\n",
       "      <td>234.2300</td>\n",
       "      <td>OUT027</td>\n",
       "      <td>1985</td>\n",
       "      <td>Medium</td>\n",
       "      <td>Tier 3</td>\n",
       "      <td>Supermarket Type3</td>\n",
       "    </tr>\n",
       "  </tbody>\n",
       "</table>\n",
       "</div>"
      ],
      "text/plain": [
       "  Item_Identifier  Item_Weight Item_Fat_Content  Item_Visibility    Item_Type  \\\n",
       "0           FDW58       20.750          Low Fat         0.007565  Snack Foods   \n",
       "1           FDW14        8.300              reg         0.038428        Dairy   \n",
       "2           NCN55       14.600          Low Fat         0.099575       Others   \n",
       "3           FDQ58        7.315          Low Fat         0.015388  Snack Foods   \n",
       "4           FDY38          NaN          Regular         0.118599        Dairy   \n",
       "\n",
       "   Item_MRP Outlet_Identifier  Outlet_Establishment_Year Outlet_Size  \\\n",
       "0  107.8622            OUT049                       1999      Medium   \n",
       "1   87.3198            OUT017                       2007         NaN   \n",
       "2  241.7538            OUT010                       1998         NaN   \n",
       "3  155.0340            OUT017                       2007         NaN   \n",
       "4  234.2300            OUT027                       1985      Medium   \n",
       "\n",
       "  Outlet_Location_Type        Outlet_Type  \n",
       "0               Tier 1  Supermarket Type1  \n",
       "1               Tier 2  Supermarket Type1  \n",
       "2               Tier 3      Grocery Store  \n",
       "3               Tier 2  Supermarket Type1  \n",
       "4               Tier 3  Supermarket Type3  "
      ]
     },
     "execution_count": 3,
     "metadata": {},
     "output_type": "execute_result"
    }
   ],
   "source": [
    "test = pd.read_csv('/kaggle/input/test-data/Test.csv')\n",
    "test.head()"
   ]
  },
  {
   "cell_type": "markdown",
   "id": "d07ccd60",
   "metadata": {
    "papermill": {
     "duration": 0.010319,
     "end_time": "2023-07-09T23:47:06.952229",
     "exception": false,
     "start_time": "2023-07-09T23:47:06.941910",
     "status": "completed"
    },
    "tags": []
   },
   "source": [
    "**check data set deminssion**"
   ]
  },
  {
   "cell_type": "code",
   "execution_count": 4,
   "id": "790b0104",
   "metadata": {
    "execution": {
     "iopub.execute_input": "2023-07-09T23:47:06.975602Z",
     "iopub.status.busy": "2023-07-09T23:47:06.975229Z",
     "iopub.status.idle": "2023-07-09T23:47:06.982711Z",
     "shell.execute_reply": "2023-07-09T23:47:06.980500Z"
    },
    "papermill": {
     "duration": 0.021889,
     "end_time": "2023-07-09T23:47:06.984990",
     "exception": false,
     "start_time": "2023-07-09T23:47:06.963101",
     "status": "completed"
    },
    "tags": []
   },
   "outputs": [
    {
     "data": {
      "text/plain": [
       "(8523, 12)"
      ]
     },
     "execution_count": 4,
     "metadata": {},
     "output_type": "execute_result"
    }
   ],
   "source": [
    "data.shape"
   ]
  },
  {
   "cell_type": "markdown",
   "id": "f5aa4e58",
   "metadata": {
    "papermill": {
     "duration": 0.010383,
     "end_time": "2023-07-09T23:47:07.006227",
     "exception": false,
     "start_time": "2023-07-09T23:47:06.995844",
     "status": "completed"
    },
    "tags": []
   },
   "source": [
    "**check data type of data**"
   ]
  },
  {
   "cell_type": "code",
   "execution_count": 5,
   "id": "4877ee7f",
   "metadata": {
    "execution": {
     "iopub.execute_input": "2023-07-09T23:47:07.031627Z",
     "iopub.status.busy": "2023-07-09T23:47:07.031265Z",
     "iopub.status.idle": "2023-07-09T23:47:07.066037Z",
     "shell.execute_reply": "2023-07-09T23:47:07.064664Z"
    },
    "papermill": {
     "duration": 0.049432,
     "end_time": "2023-07-09T23:47:07.068201",
     "exception": false,
     "start_time": "2023-07-09T23:47:07.018769",
     "status": "completed"
    },
    "tags": []
   },
   "outputs": [
    {
     "name": "stdout",
     "output_type": "stream",
     "text": [
      "<class 'pandas.core.frame.DataFrame'>\n",
      "RangeIndex: 8523 entries, 0 to 8522\n",
      "Data columns (total 12 columns):\n",
      " #   Column                     Non-Null Count  Dtype  \n",
      "---  ------                     --------------  -----  \n",
      " 0   Item_Identifier            8523 non-null   object \n",
      " 1   Item_Weight                7060 non-null   float64\n",
      " 2   Item_Fat_Content           8523 non-null   object \n",
      " 3   Item_Visibility            8523 non-null   float64\n",
      " 4   Item_Type                  8523 non-null   object \n",
      " 5   Item_MRP                   8523 non-null   float64\n",
      " 6   Outlet_Identifier          8523 non-null   object \n",
      " 7   Outlet_Establishment_Year  8523 non-null   int64  \n",
      " 8   Outlet_Size                6113 non-null   object \n",
      " 9   Outlet_Location_Type       8523 non-null   object \n",
      " 10  Outlet_Type                8523 non-null   object \n",
      " 11  Item_Outlet_Sales          8523 non-null   float64\n",
      "dtypes: float64(4), int64(1), object(7)\n",
      "memory usage: 799.2+ KB\n"
     ]
    }
   ],
   "source": [
    "data.info()"
   ]
  },
  {
   "cell_type": "markdown",
   "id": "2a297364",
   "metadata": {
    "papermill": {
     "duration": 0.009963,
     "end_time": "2023-07-09T23:47:07.088859",
     "exception": false,
     "start_time": "2023-07-09T23:47:07.078896",
     "status": "completed"
    },
    "tags": []
   },
   "source": [
    "# **to see the minimum value, mean values, different percentile values, and maximum values.**"
   ]
  },
  {
   "cell_type": "code",
   "execution_count": 6,
   "id": "07e57801",
   "metadata": {
    "execution": {
     "iopub.execute_input": "2023-07-09T23:47:07.111626Z",
     "iopub.status.busy": "2023-07-09T23:47:07.111259Z",
     "iopub.status.idle": "2023-07-09T23:47:07.140674Z",
     "shell.execute_reply": "2023-07-09T23:47:07.138865Z"
    },
    "papermill": {
     "duration": 0.043957,
     "end_time": "2023-07-09T23:47:07.143355",
     "exception": false,
     "start_time": "2023-07-09T23:47:07.099398",
     "status": "completed"
    },
    "tags": []
   },
   "outputs": [
    {
     "data": {
      "text/html": [
       "<div>\n",
       "<style scoped>\n",
       "    .dataframe tbody tr th:only-of-type {\n",
       "        vertical-align: middle;\n",
       "    }\n",
       "\n",
       "    .dataframe tbody tr th {\n",
       "        vertical-align: top;\n",
       "    }\n",
       "\n",
       "    .dataframe thead th {\n",
       "        text-align: right;\n",
       "    }\n",
       "</style>\n",
       "<table border=\"1\" class=\"dataframe\">\n",
       "  <thead>\n",
       "    <tr style=\"text-align: right;\">\n",
       "      <th></th>\n",
       "      <th>Item_Weight</th>\n",
       "      <th>Item_Visibility</th>\n",
       "      <th>Item_MRP</th>\n",
       "      <th>Outlet_Establishment_Year</th>\n",
       "      <th>Item_Outlet_Sales</th>\n",
       "    </tr>\n",
       "  </thead>\n",
       "  <tbody>\n",
       "    <tr>\n",
       "      <th>count</th>\n",
       "      <td>7060.000000</td>\n",
       "      <td>8523.000000</td>\n",
       "      <td>8523.000000</td>\n",
       "      <td>8523.000000</td>\n",
       "      <td>8523.000000</td>\n",
       "    </tr>\n",
       "    <tr>\n",
       "      <th>mean</th>\n",
       "      <td>12.857645</td>\n",
       "      <td>0.066132</td>\n",
       "      <td>140.992782</td>\n",
       "      <td>1997.831867</td>\n",
       "      <td>2181.288914</td>\n",
       "    </tr>\n",
       "    <tr>\n",
       "      <th>std</th>\n",
       "      <td>4.643456</td>\n",
       "      <td>0.051598</td>\n",
       "      <td>62.275067</td>\n",
       "      <td>8.371760</td>\n",
       "      <td>1706.499616</td>\n",
       "    </tr>\n",
       "    <tr>\n",
       "      <th>min</th>\n",
       "      <td>4.555000</td>\n",
       "      <td>0.000000</td>\n",
       "      <td>31.290000</td>\n",
       "      <td>1985.000000</td>\n",
       "      <td>33.290000</td>\n",
       "    </tr>\n",
       "    <tr>\n",
       "      <th>25%</th>\n",
       "      <td>8.773750</td>\n",
       "      <td>0.026989</td>\n",
       "      <td>93.826500</td>\n",
       "      <td>1987.000000</td>\n",
       "      <td>834.247400</td>\n",
       "    </tr>\n",
       "    <tr>\n",
       "      <th>50%</th>\n",
       "      <td>12.600000</td>\n",
       "      <td>0.053931</td>\n",
       "      <td>143.012800</td>\n",
       "      <td>1999.000000</td>\n",
       "      <td>1794.331000</td>\n",
       "    </tr>\n",
       "    <tr>\n",
       "      <th>75%</th>\n",
       "      <td>16.850000</td>\n",
       "      <td>0.094585</td>\n",
       "      <td>185.643700</td>\n",
       "      <td>2004.000000</td>\n",
       "      <td>3101.296400</td>\n",
       "    </tr>\n",
       "    <tr>\n",
       "      <th>max</th>\n",
       "      <td>21.350000</td>\n",
       "      <td>0.328391</td>\n",
       "      <td>266.888400</td>\n",
       "      <td>2009.000000</td>\n",
       "      <td>13086.964800</td>\n",
       "    </tr>\n",
       "  </tbody>\n",
       "</table>\n",
       "</div>"
      ],
      "text/plain": [
       "       Item_Weight  Item_Visibility     Item_MRP  Outlet_Establishment_Year  \\\n",
       "count  7060.000000      8523.000000  8523.000000                8523.000000   \n",
       "mean     12.857645         0.066132   140.992782                1997.831867   \n",
       "std       4.643456         0.051598    62.275067                   8.371760   \n",
       "min       4.555000         0.000000    31.290000                1985.000000   \n",
       "25%       8.773750         0.026989    93.826500                1987.000000   \n",
       "50%      12.600000         0.053931   143.012800                1999.000000   \n",
       "75%      16.850000         0.094585   185.643700                2004.000000   \n",
       "max      21.350000         0.328391   266.888400                2009.000000   \n",
       "\n",
       "       Item_Outlet_Sales  \n",
       "count        8523.000000  \n",
       "mean         2181.288914  \n",
       "std          1706.499616  \n",
       "min            33.290000  \n",
       "25%           834.247400  \n",
       "50%          1794.331000  \n",
       "75%          3101.296400  \n",
       "max         13086.964800  "
      ]
     },
     "execution_count": 6,
     "metadata": {},
     "output_type": "execute_result"
    }
   ],
   "source": [
    "data.describe()"
   ]
  },
  {
   "cell_type": "markdown",
   "id": "e62dd3b7",
   "metadata": {
    "papermill": {
     "duration": 0.010572,
     "end_time": "2023-07-09T23:47:07.164869",
     "exception": false,
     "start_time": "2023-07-09T23:47:07.154297",
     "status": "completed"
    },
    "tags": []
   },
   "source": [
    "# **check how many missing values there in data set**"
   ]
  },
  {
   "cell_type": "code",
   "execution_count": 7,
   "id": "c1a0b740",
   "metadata": {
    "execution": {
     "iopub.execute_input": "2023-07-09T23:47:07.187860Z",
     "iopub.status.busy": "2023-07-09T23:47:07.187515Z",
     "iopub.status.idle": "2023-07-09T23:47:07.205893Z",
     "shell.execute_reply": "2023-07-09T23:47:07.204714Z"
    },
    "papermill": {
     "duration": 0.033432,
     "end_time": "2023-07-09T23:47:07.208889",
     "exception": false,
     "start_time": "2023-07-09T23:47:07.175457",
     "status": "completed"
    },
    "tags": []
   },
   "outputs": [
    {
     "data": {
      "text/plain": [
       "Item_Identifier                 0\n",
       "Item_Weight                  1463\n",
       "Item_Fat_Content                0\n",
       "Item_Visibility                 0\n",
       "Item_Type                       0\n",
       "Item_MRP                        0\n",
       "Outlet_Identifier               0\n",
       "Outlet_Establishment_Year       0\n",
       "Outlet_Size                  2410\n",
       "Outlet_Location_Type            0\n",
       "Outlet_Type                     0\n",
       "Item_Outlet_Sales               0\n",
       "dtype: int64"
      ]
     },
     "execution_count": 7,
     "metadata": {},
     "output_type": "execute_result"
    }
   ],
   "source": [
    "data.isnull().sum()"
   ]
  },
  {
   "cell_type": "code",
   "execution_count": 8,
   "id": "31b91928",
   "metadata": {
    "execution": {
     "iopub.execute_input": "2023-07-09T23:47:07.232699Z",
     "iopub.status.busy": "2023-07-09T23:47:07.232330Z",
     "iopub.status.idle": "2023-07-09T23:47:07.239307Z",
     "shell.execute_reply": "2023-07-09T23:47:07.237821Z"
    },
    "papermill": {
     "duration": 0.021362,
     "end_time": "2023-07-09T23:47:07.241304",
     "exception": false,
     "start_time": "2023-07-09T23:47:07.219942",
     "status": "completed"
    },
    "tags": []
   },
   "outputs": [],
   "source": [
    "data['Item_Weight']=data['Item_Weight'].fillna(value=data['Item_Weight'].mean())\n"
   ]
  },
  {
   "cell_type": "code",
   "execution_count": 9,
   "id": "753a79a0",
   "metadata": {
    "execution": {
     "iopub.execute_input": "2023-07-09T23:47:07.264659Z",
     "iopub.status.busy": "2023-07-09T23:47:07.264329Z",
     "iopub.status.idle": "2023-07-09T23:47:07.271938Z",
     "shell.execute_reply": "2023-07-09T23:47:07.270352Z"
    },
    "papermill": {
     "duration": 0.022454,
     "end_time": "2023-07-09T23:47:07.274557",
     "exception": false,
     "start_time": "2023-07-09T23:47:07.252103",
     "status": "completed"
    },
    "tags": []
   },
   "outputs": [],
   "source": [
    "data['Outlet_Size']=data['Outlet_Size'].fillna(value='Unknown')\n"
   ]
  },
  {
   "cell_type": "code",
   "execution_count": 10,
   "id": "655c4018",
   "metadata": {
    "execution": {
     "iopub.execute_input": "2023-07-09T23:47:07.298269Z",
     "iopub.status.busy": "2023-07-09T23:47:07.297840Z",
     "iopub.status.idle": "2023-07-09T23:47:07.317412Z",
     "shell.execute_reply": "2023-07-09T23:47:07.316102Z"
    },
    "papermill": {
     "duration": 0.03448,
     "end_time": "2023-07-09T23:47:07.319986",
     "exception": false,
     "start_time": "2023-07-09T23:47:07.285506",
     "status": "completed"
    },
    "tags": []
   },
   "outputs": [
    {
     "data": {
      "text/plain": [
       "Item_Identifier              0\n",
       "Item_Weight                  0\n",
       "Item_Fat_Content             0\n",
       "Item_Visibility              0\n",
       "Item_Type                    0\n",
       "Item_MRP                     0\n",
       "Outlet_Identifier            0\n",
       "Outlet_Establishment_Year    0\n",
       "Outlet_Size                  0\n",
       "Outlet_Location_Type         0\n",
       "Outlet_Type                  0\n",
       "Item_Outlet_Sales            0\n",
       "dtype: int64"
      ]
     },
     "execution_count": 10,
     "metadata": {},
     "output_type": "execute_result"
    }
   ],
   "source": [
    "data.isnull().sum()"
   ]
  },
  {
   "cell_type": "code",
   "execution_count": 11,
   "id": "171f2457",
   "metadata": {
    "execution": {
     "iopub.execute_input": "2023-07-09T23:47:07.344346Z",
     "iopub.status.busy": "2023-07-09T23:47:07.343910Z",
     "iopub.status.idle": "2023-07-09T23:47:07.353768Z",
     "shell.execute_reply": "2023-07-09T23:47:07.352811Z"
    },
    "papermill": {
     "duration": 0.024487,
     "end_time": "2023-07-09T23:47:07.355756",
     "exception": false,
     "start_time": "2023-07-09T23:47:07.331269",
     "status": "completed"
    },
    "tags": []
   },
   "outputs": [
    {
     "data": {
      "text/plain": [
       "FDW13    10\n",
       "FDG33    10\n",
       "NCY18     9\n",
       "FDD38     9\n",
       "DRE49     9\n",
       "         ..\n",
       "FDY43     1\n",
       "FDQ60     1\n",
       "FDO33     1\n",
       "DRF48     1\n",
       "FDC23     1\n",
       "Name: Item_Identifier, Length: 1559, dtype: int64"
      ]
     },
     "execution_count": 11,
     "metadata": {},
     "output_type": "execute_result"
    }
   ],
   "source": [
    "data.Item_Identifier.value_counts()\n"
   ]
  },
  {
   "cell_type": "markdown",
   "id": "baa24c26",
   "metadata": {
    "papermill": {
     "duration": 0.012,
     "end_time": "2023-07-09T23:47:07.378948",
     "exception": false,
     "start_time": "2023-07-09T23:47:07.366948",
     "status": "completed"
    },
    "tags": []
   },
   "source": [
    "**checking outliers**"
   ]
  },
  {
   "cell_type": "code",
   "execution_count": 12,
   "id": "06565233",
   "metadata": {
    "execution": {
     "iopub.execute_input": "2023-07-09T23:47:07.404852Z",
     "iopub.status.busy": "2023-07-09T23:47:07.404492Z",
     "iopub.status.idle": "2023-07-09T23:47:07.582896Z",
     "shell.execute_reply": "2023-07-09T23:47:07.581803Z"
    },
    "papermill": {
     "duration": 0.193192,
     "end_time": "2023-07-09T23:47:07.584661",
     "exception": false,
     "start_time": "2023-07-09T23:47:07.391469",
     "status": "completed"
    },
    "tags": []
   },
   "outputs": [
    {
     "data": {
      "text/plain": [
       "<Axes: >"
      ]
     },
     "execution_count": 12,
     "metadata": {},
     "output_type": "execute_result"
    },
    {
     "data": {
      "image/png": "[encoded data removed]",
      "text/plain": [
       "<Figure size 640x480 with 1 Axes>"
      ]
     },
     "metadata": {},
     "output_type": "display_data"
    }
   ],
   "source": [
    "sns.boxplot(data['Item_Weight'],color='blue')"
   ]
  },
  {
   "cell_type": "code",
   "execution_count": 13,
   "id": "2f91cc80",
   "metadata": {
    "execution": {
     "iopub.execute_input": "2023-07-09T23:47:07.609688Z",
     "iopub.status.busy": "2023-07-09T23:47:07.608832Z",
     "iopub.status.idle": "2023-07-09T23:47:07.744214Z",
     "shell.execute_reply": "2023-07-09T23:47:07.743504Z"
    },
    "papermill": {
     "duration": 0.149779,
     "end_time": "2023-07-09T23:47:07.746097",
     "exception": false,
     "start_time": "2023-07-09T23:47:07.596318",
     "status": "completed"
    },
    "tags": []
   },
   "outputs": [
    {
     "data": {
      "text/plain": [
       "<Axes: >"
      ]
     },
     "execution_count": 13,
     "metadata": {},
     "output_type": "execute_result"
    },
    {
     "data": {
      "image/png": "[encoded data removed]",
      "text/plain": [
       "<Figure size 640x480 with 1 Axes>"
      ]
     },
     "metadata": {},
     "output_type": "display_data"
    }
   ],
   "source": [
    "sns.boxplot(data['Item_MRP'],color='blue')"
   ]
  },
  {
   "cell_type": "code",
   "execution_count": 14,
   "id": "eb07ca8c",
   "metadata": {
    "execution": {
     "iopub.execute_input": "2023-07-09T23:47:07.773683Z",
     "iopub.status.busy": "2023-07-09T23:47:07.773324Z",
     "iopub.status.idle": "2023-07-09T23:47:07.922633Z",
     "shell.execute_reply": "2023-07-09T23:47:07.921839Z"
    },
    "papermill": {
     "duration": 0.163635,
     "end_time": "2023-07-09T23:47:07.924644",
     "exception": false,
     "start_time": "2023-07-09T23:47:07.761009",
     "status": "completed"
    },
    "tags": []
   },
   "outputs": [
    {
     "data": {
      "text/plain": [
       "<Axes: >"
      ]
     },
     "execution_count": 14,
     "metadata": {},
     "output_type": "execute_result"
    },
    {
     "data": {
      "image/png": "[encoded data removed]",
      "text/plain": [
       "<Figure size 640x480 with 1 Axes>"
      ]
     },
     "metadata": {},
     "output_type": "display_data"
    }
   ],
   "source": [
    "sns.boxplot(data['Outlet_Establishment_Year'],color='blue')"
   ]
  },
  {
   "cell_type": "code",
   "execution_count": 15,
   "id": "187c18b2",
   "metadata": {
    "execution": {
     "iopub.execute_input": "2023-07-09T23:47:07.950396Z",
     "iopub.status.busy": "2023-07-09T23:47:07.949614Z",
     "iopub.status.idle": "2023-07-09T23:47:08.119168Z",
     "shell.execute_reply": "2023-07-09T23:47:08.118047Z"
    },
    "papermill": {
     "duration": 0.184605,
     "end_time": "2023-07-09T23:47:08.121470",
     "exception": false,
     "start_time": "2023-07-09T23:47:07.936865",
     "status": "completed"
    },
    "tags": []
   },
   "outputs": [
    {
     "data": {
      "text/plain": [
       "<Axes: >"
      ]
     },
     "execution_count": 15,
     "metadata": {},
     "output_type": "execute_result"
    },
    {
     "data": {
      "image/png": "[encoded data removed]",
      "text/plain": [
       "<Figure size 640x480 with 1 Axes>"
      ]
     },
     "metadata": {},
     "output_type": "display_data"
    }
   ],
   "source": [
    "sns.boxplot(data['Item_Visibility'],color='blue')"
   ]
  },
  {
   "cell_type": "code",
   "execution_count": 16,
   "id": "7b66c0a5",
   "metadata": {
    "execution": {
     "iopub.execute_input": "2023-07-09T23:47:08.149250Z",
     "iopub.status.busy": "2023-07-09T23:47:08.148873Z",
     "iopub.status.idle": "2023-07-09T23:47:08.306283Z",
     "shell.execute_reply": "2023-07-09T23:47:08.304845Z"
    },
    "papermill": {
     "duration": 0.174417,
     "end_time": "2023-07-09T23:47:08.309252",
     "exception": false,
     "start_time": "2023-07-09T23:47:08.134835",
     "status": "completed"
    },
    "tags": []
   },
   "outputs": [
    {
     "data": {
      "text/plain": [
       "<Axes: >"
      ]
     },
     "execution_count": 16,
     "metadata": {},
     "output_type": "execute_result"
    },
    {
     "data": {
      "image/png": "[encoded data removed]",
      "text/plain": [
       "<Figure size 640x480 with 1 Axes>"
      ]
     },
     "metadata": {},
     "output_type": "display_data"
    }
   ],
   "source": [
    "sns.boxplot(data['Item_Outlet_Sales'],color='blue')"
   ]
  },
  {
   "cell_type": "markdown",
   "id": "2d5f3afe",
   "metadata": {
    "papermill": {
     "duration": 0.012701,
     "end_time": "2023-07-09T23:47:08.335058",
     "exception": false,
     "start_time": "2023-07-09T23:47:08.322357",
     "status": "completed"
    },
    "tags": []
   },
   "source": [
    "# we will remove outliers "
   ]
  },
  {
   "cell_type": "code",
   "execution_count": null,
   "id": "549408f8",
   "metadata": {
    "papermill": {
     "duration": 0.012111,
     "end_time": "2023-07-09T23:47:08.360094",
     "exception": false,
     "start_time": "2023-07-09T23:47:08.347983",
     "status": "completed"
    },
    "tags": []
   },
   "outputs": [],
   "source": []
  },
  {
   "cell_type": "code",
   "execution_count": 17,
   "id": "9feb1bda",
   "metadata": {
    "execution": {
     "iopub.execute_input": "2023-07-09T23:47:08.386769Z",
     "iopub.status.busy": "2023-07-09T23:47:08.386431Z",
     "iopub.status.idle": "2023-07-09T23:47:08.405603Z",
     "shell.execute_reply": "2023-07-09T23:47:08.404511Z"
    },
    "papermill": {
     "duration": 0.035203,
     "end_time": "2023-07-09T23:47:08.407827",
     "exception": false,
     "start_time": "2023-07-09T23:47:08.372624",
     "status": "completed"
    },
    "tags": []
   },
   "outputs": [
    {
     "data": {
      "text/plain": [
       "Item_Identifier              0\n",
       "Item_Weight                  0\n",
       "Item_Fat_Content             0\n",
       "Item_Visibility              0\n",
       "Item_Type                    0\n",
       "Item_MRP                     0\n",
       "Outlet_Identifier            0\n",
       "Outlet_Establishment_Year    0\n",
       "Outlet_Size                  0\n",
       "Outlet_Location_Type         0\n",
       "Outlet_Type                  0\n",
       "Item_Outlet_Sales            0\n",
       "dtype: int64"
      ]
     },
     "execution_count": 17,
     "metadata": {},
     "output_type": "execute_result"
    }
   ],
   "source": [
    "data.isnull().sum()"
   ]
  },
  {
   "cell_type": "markdown",
   "id": "f0ed6b71",
   "metadata": {
    "papermill": {
     "duration": 0.012536,
     "end_time": "2023-07-09T23:47:08.433792",
     "exception": false,
     "start_time": "2023-07-09T23:47:08.421256",
     "status": "completed"
    },
    "tags": []
   },
   "source": [
    "# univarte analysis"
   ]
  },
  {
   "cell_type": "code",
   "execution_count": 18,
   "id": "db6cf82d",
   "metadata": {
    "execution": {
     "iopub.execute_input": "2023-07-09T23:47:08.461693Z",
     "iopub.status.busy": "2023-07-09T23:47:08.461257Z",
     "iopub.status.idle": "2023-07-09T23:47:08.724419Z",
     "shell.execute_reply": "2023-07-09T23:47:08.722983Z"
    },
    "papermill": {
     "duration": 0.279806,
     "end_time": "2023-07-09T23:47:08.726693",
     "exception": false,
     "start_time": "2023-07-09T23:47:08.446887",
     "status": "completed"
    },
    "tags": []
   },
   "outputs": [
    {
     "data": {
      "text/plain": [
       "<Axes: >"
      ]
     },
     "execution_count": 18,
     "metadata": {},
     "output_type": "execute_result"
    },
    {
     "data": {
      "image/png": "[encoded data removed]",
      "text/plain": [
       "<Figure size 640x480 with 1 Axes>"
      ]
     },
     "metadata": {},
     "output_type": "display_data"
    }
   ],
   "source": [
    "data['Outlet_Identifier'].value_counts().plot(kind='bar')"
   ]
  },
  {
   "cell_type": "code",
   "execution_count": 19,
   "id": "22599a9a",
   "metadata": {
    "execution": {
     "iopub.execute_input": "2023-07-09T23:47:08.756280Z",
     "iopub.status.busy": "2023-07-09T23:47:08.755907Z",
     "iopub.status.idle": "2023-07-09T23:47:08.912181Z",
     "shell.execute_reply": "2023-07-09T23:47:08.910628Z"
    },
    "papermill": {
     "duration": 0.174896,
     "end_time": "2023-07-09T23:47:08.915126",
     "exception": false,
     "start_time": "2023-07-09T23:47:08.740230",
     "status": "completed"
    },
    "tags": []
   },
   "outputs": [
    {
     "data": {
      "text/plain": [
       "<Axes: >"
      ]
     },
     "execution_count": 19,
     "metadata": {},
     "output_type": "execute_result"
    },
    {
     "data": {
      "image/png": "[encoded data removed]",
      "text/plain": [
       "<Figure size 640x480 with 1 Axes>"
      ]
     },
     "metadata": {},
     "output_type": "display_data"
    }
   ],
   "source": [
    "data['Outlet_Location_Type'].value_counts().plot(kind='bar')\n"
   ]
  },
  {
   "cell_type": "code",
   "execution_count": 20,
   "id": "011c44a8",
   "metadata": {
    "execution": {
     "iopub.execute_input": "2023-07-09T23:47:08.943087Z",
     "iopub.status.busy": "2023-07-09T23:47:08.942752Z",
     "iopub.status.idle": "2023-07-09T23:47:09.118292Z",
     "shell.execute_reply": "2023-07-09T23:47:09.117399Z"
    },
    "papermill": {
     "duration": 0.191672,
     "end_time": "2023-07-09T23:47:09.120162",
     "exception": false,
     "start_time": "2023-07-09T23:47:08.928490",
     "status": "completed"
    },
    "tags": []
   },
   "outputs": [
    {
     "data": {
      "text/plain": [
       "<Axes: >"
      ]
     },
     "execution_count": 20,
     "metadata": {},
     "output_type": "execute_result"
    },
    {
     "data": {
      "image/png": "[encoded data removed]",
      "text/plain": [
       "<Figure size 640x480 with 1 Axes>"
      ]
     },
     "metadata": {},
     "output_type": "display_data"
    }
   ],
   "source": [
    "data['Item_Fat_Content'].value_counts().plot(kind='bar')\n"
   ]
  },
  {
   "cell_type": "code",
   "execution_count": 21,
   "id": "fa3c061e",
   "metadata": {
    "execution": {
     "iopub.execute_input": "2023-07-09T23:47:09.155816Z",
     "iopub.status.busy": "2023-07-09T23:47:09.155448Z",
     "iopub.status.idle": "2023-07-09T23:47:09.509102Z",
     "shell.execute_reply": "2023-07-09T23:47:09.507712Z"
    },
    "papermill": {
     "duration": 0.373416,
     "end_time": "2023-07-09T23:47:09.512066",
     "exception": false,
     "start_time": "2023-07-09T23:47:09.138650",
     "status": "completed"
    },
    "tags": []
   },
   "outputs": [
    {
     "data": {
      "text/plain": [
       "<Axes: >"
      ]
     },
     "execution_count": 21,
     "metadata": {},
     "output_type": "execute_result"
    },
    {
     "data": {
      "image/png": "[encoded data removed]",
      "text/plain": [
       "<Figure size 640x480 with 1 Axes>"
      ]
     },
     "metadata": {},
     "output_type": "display_data"
    }
   ],
   "source": [
    "data['Outlet_Type'].value_counts().plot(kind='bar')\n"
   ]
  },
  {
   "cell_type": "code",
   "execution_count": 22,
   "id": "225c1d00",
   "metadata": {
    "execution": {
     "iopub.execute_input": "2023-07-09T23:47:09.547313Z",
     "iopub.status.busy": "2023-07-09T23:47:09.546929Z",
     "iopub.status.idle": "2023-07-09T23:47:09.806103Z",
     "shell.execute_reply": "2023-07-09T23:47:09.805103Z"
    },
    "papermill": {
     "duration": 0.280874,
     "end_time": "2023-07-09T23:47:09.808550",
     "exception": false,
     "start_time": "2023-07-09T23:47:09.527676",
     "status": "completed"
    },
    "tags": []
   },
   "outputs": [
    {
     "data": {
      "text/plain": [
       "<Axes: >"
      ]
     },
     "execution_count": 22,
     "metadata": {},
     "output_type": "execute_result"
    },
    {
     "data": {
      "image/png": "[encoded data removed]",
      "text/plain": [
       "<Figure size 640x480 with 1 Axes>"
      ]
     },
     "metadata": {},
     "output_type": "display_data"
    }
   ],
   "source": [
    "data['Item_Type'].value_counts().plot(kind='bar')\n"
   ]
  },
  {
   "cell_type": "code",
   "execution_count": 23,
   "id": "565fee93",
   "metadata": {
    "execution": {
     "iopub.execute_input": "2023-07-09T23:47:09.838736Z",
     "iopub.status.busy": "2023-07-09T23:47:09.838363Z",
     "iopub.status.idle": "2023-07-09T23:47:09.993360Z",
     "shell.execute_reply": "2023-07-09T23:47:09.992079Z"
    },
    "papermill": {
     "duration": 0.172448,
     "end_time": "2023-07-09T23:47:09.995373",
     "exception": false,
     "start_time": "2023-07-09T23:47:09.822925",
     "status": "completed"
    },
    "tags": []
   },
   "outputs": [
    {
     "data": {
      "text/plain": [
       "<Axes: >"
      ]
     },
     "execution_count": 23,
     "metadata": {},
     "output_type": "execute_result"
    },
    {
     "data": {
      "image/png": "[encoded data removed]",
      "text/plain": [
       "<Figure size 640x480 with 1 Axes>"
      ]
     },
     "metadata": {},
     "output_type": "display_data"
    }
   ],
   "source": [
    "data['Outlet_Size'].value_counts().plot(kind='bar')\n"
   ]
  },
  {
   "cell_type": "markdown",
   "id": "d90be4f7",
   "metadata": {
    "papermill": {
     "duration": 0.014477,
     "end_time": "2023-07-09T23:47:10.024701",
     "exception": false,
     "start_time": "2023-07-09T23:47:10.010224",
     "status": "completed"
    },
    "tags": []
   },
   "source": [
    "# **according to the plots we see we need to modify the data**"
   ]
  },
  {
   "cell_type": "markdown",
   "id": "ae541ac9",
   "metadata": {
    "papermill": {
     "duration": 0.014552,
     "end_time": "2023-07-09T23:47:10.054122",
     "exception": false,
     "start_time": "2023-07-09T23:47:10.039570",
     "status": "completed"
    },
    "tags": []
   },
   "source": [
    "all the categories of the \"Outlet_Identifier\" and \"Item_Idemtifier\"column have the same number of counts,it is a good idea to drop these columns."
   ]
  },
  {
   "cell_type": "code",
   "execution_count": 24,
   "id": "d94d022f",
   "metadata": {
    "execution": {
     "iopub.execute_input": "2023-07-09T23:47:10.085524Z",
     "iopub.status.busy": "2023-07-09T23:47:10.085122Z",
     "iopub.status.idle": "2023-07-09T23:47:10.097592Z",
     "shell.execute_reply": "2023-07-09T23:47:10.096234Z"
    },
    "papermill": {
     "duration": 0.030981,
     "end_time": "2023-07-09T23:47:10.099924",
     "exception": false,
     "start_time": "2023-07-09T23:47:10.068943",
     "status": "completed"
    },
    "tags": []
   },
   "outputs": [],
   "source": [
    "data=data.drop(['Outlet_Identifier'],axis=1,)\n",
    "data = data.drop(['Item_Identifier'],axis=1)\n"
   ]
  },
  {
   "cell_type": "markdown",
   "id": "abcc54d4",
   "metadata": {
    "papermill": {
     "duration": 0.014649,
     "end_time": "2023-07-09T23:47:10.130210",
     "exception": false,
     "start_time": "2023-07-09T23:47:10.115561",
     "status": "completed"
    },
    "tags": []
   },
   "source": [
    "in column Item_Fat_content some data must be modified"
   ]
  },
  {
   "cell_type": "code",
   "execution_count": 25,
   "id": "fc3732e1",
   "metadata": {
    "execution": {
     "iopub.execute_input": "2023-07-09T23:47:10.162223Z",
     "iopub.status.busy": "2023-07-09T23:47:10.161795Z",
     "iopub.status.idle": "2023-07-09T23:47:10.174549Z",
     "shell.execute_reply": "2023-07-09T23:47:10.173471Z"
    },
    "papermill": {
     "duration": 0.031565,
     "end_time": "2023-07-09T23:47:10.176813",
     "exception": false,
     "start_time": "2023-07-09T23:47:10.145248",
     "status": "completed"
    },
    "tags": []
   },
   "outputs": [],
   "source": [
    "data =  data.replace(to_replace =\"low fat\",  value =\"Low Fat\") \n",
    "data =  data.replace(to_replace =\"LF\",  value =\"Low Fat\") \n",
    "data =  data.replace(to_replace =\"reg\",  value =\"Regular\") "
   ]
  },
  {
   "cell_type": "code",
   "execution_count": 26,
   "id": "4fa32f08",
   "metadata": {
    "execution": {
     "iopub.execute_input": "2023-07-09T23:47:10.209984Z",
     "iopub.status.busy": "2023-07-09T23:47:10.208601Z",
     "iopub.status.idle": "2023-07-09T23:47:10.223819Z",
     "shell.execute_reply": "2023-07-09T23:47:10.222427Z"
    },
    "papermill": {
     "duration": 0.034663,
     "end_time": "2023-07-09T23:47:10.226484",
     "exception": false,
     "start_time": "2023-07-09T23:47:10.191821",
     "status": "completed"
    },
    "tags": []
   },
   "outputs": [
    {
     "data": {
      "text/html": [
       "<div>\n",
       "<style scoped>\n",
       "    .dataframe tbody tr th:only-of-type {\n",
       "        vertical-align: middle;\n",
       "    }\n",
       "\n",
       "    .dataframe tbody tr th {\n",
       "        vertical-align: top;\n",
       "    }\n",
       "\n",
       "    .dataframe thead th {\n",
       "        text-align: right;\n",
       "    }\n",
       "</style>\n",
       "<table border=\"1\" class=\"dataframe\">\n",
       "  <thead>\n",
       "    <tr style=\"text-align: right;\">\n",
       "      <th></th>\n",
       "      <th>Item_Weight</th>\n",
       "      <th>Item_Fat_Content</th>\n",
       "      <th>Item_Visibility</th>\n",
       "      <th>Item_Type</th>\n",
       "      <th>Item_MRP</th>\n",
       "      <th>Outlet_Establishment_Year</th>\n",
       "      <th>Outlet_Size</th>\n",
       "      <th>Outlet_Location_Type</th>\n",
       "      <th>Outlet_Type</th>\n",
       "      <th>Item_Outlet_Sales</th>\n",
       "    </tr>\n",
       "  </thead>\n",
       "  <tbody>\n",
       "    <tr>\n",
       "      <th>0</th>\n",
       "      <td>9.30</td>\n",
       "      <td>Low Fat</td>\n",
       "      <td>0.016047</td>\n",
       "      <td>Dairy</td>\n",
       "      <td>249.8092</td>\n",
       "      <td>1999</td>\n",
       "      <td>Medium</td>\n",
       "      <td>Tier 1</td>\n",
       "      <td>Supermarket Type1</td>\n",
       "      <td>3735.1380</td>\n",
       "    </tr>\n",
       "    <tr>\n",
       "      <th>1</th>\n",
       "      <td>5.92</td>\n",
       "      <td>Regular</td>\n",
       "      <td>0.019278</td>\n",
       "      <td>Soft Drinks</td>\n",
       "      <td>48.2692</td>\n",
       "      <td>2009</td>\n",
       "      <td>Medium</td>\n",
       "      <td>Tier 3</td>\n",
       "      <td>Supermarket Type2</td>\n",
       "      <td>443.4228</td>\n",
       "    </tr>\n",
       "    <tr>\n",
       "      <th>2</th>\n",
       "      <td>17.50</td>\n",
       "      <td>Low Fat</td>\n",
       "      <td>0.016760</td>\n",
       "      <td>Meat</td>\n",
       "      <td>141.6180</td>\n",
       "      <td>1999</td>\n",
       "      <td>Medium</td>\n",
       "      <td>Tier 1</td>\n",
       "      <td>Supermarket Type1</td>\n",
       "      <td>2097.2700</td>\n",
       "    </tr>\n",
       "    <tr>\n",
       "      <th>3</th>\n",
       "      <td>19.20</td>\n",
       "      <td>Regular</td>\n",
       "      <td>0.000000</td>\n",
       "      <td>Fruits and Vegetables</td>\n",
       "      <td>182.0950</td>\n",
       "      <td>1998</td>\n",
       "      <td>Unknown</td>\n",
       "      <td>Tier 3</td>\n",
       "      <td>Grocery Store</td>\n",
       "      <td>732.3800</td>\n",
       "    </tr>\n",
       "    <tr>\n",
       "      <th>4</th>\n",
       "      <td>8.93</td>\n",
       "      <td>Low Fat</td>\n",
       "      <td>0.000000</td>\n",
       "      <td>Household</td>\n",
       "      <td>53.8614</td>\n",
       "      <td>1987</td>\n",
       "      <td>High</td>\n",
       "      <td>Tier 3</td>\n",
       "      <td>Supermarket Type1</td>\n",
       "      <td>994.7052</td>\n",
       "    </tr>\n",
       "  </tbody>\n",
       "</table>\n",
       "</div>"
      ],
      "text/plain": [
       "   Item_Weight Item_Fat_Content  Item_Visibility              Item_Type  \\\n",
       "0         9.30          Low Fat         0.016047                  Dairy   \n",
       "1         5.92          Regular         0.019278            Soft Drinks   \n",
       "2        17.50          Low Fat         0.016760                   Meat   \n",
       "3        19.20          Regular         0.000000  Fruits and Vegetables   \n",
       "4         8.93          Low Fat         0.000000              Household   \n",
       "\n",
       "   Item_MRP  Outlet_Establishment_Year Outlet_Size Outlet_Location_Type  \\\n",
       "0  249.8092                       1999      Medium               Tier 1   \n",
       "1   48.2692                       2009      Medium               Tier 3   \n",
       "2  141.6180                       1999      Medium               Tier 1   \n",
       "3  182.0950                       1998     Unknown               Tier 3   \n",
       "4   53.8614                       1987        High               Tier 3   \n",
       "\n",
       "         Outlet_Type  Item_Outlet_Sales  \n",
       "0  Supermarket Type1          3735.1380  \n",
       "1  Supermarket Type2           443.4228  \n",
       "2  Supermarket Type1          2097.2700  \n",
       "3      Grocery Store           732.3800  \n",
       "4  Supermarket Type1           994.7052  "
      ]
     },
     "execution_count": 26,
     "metadata": {},
     "output_type": "execute_result"
    }
   ],
   "source": [
    "data.head()"
   ]
  },
  {
   "cell_type": "markdown",
   "id": "1e4f861c",
   "metadata": {
    "papermill": {
     "duration": 0.016071,
     "end_time": "2023-07-09T23:47:10.257628",
     "exception": false,
     "start_time": "2023-07-09T23:47:10.241557",
     "status": "completed"
    },
    "tags": []
   },
   "source": [
    "# **bivarte analysis**\n",
    "using scatter plots"
   ]
  },
  {
   "cell_type": "code",
   "execution_count": 27,
   "id": "2d37f080",
   "metadata": {
    "execution": {
     "iopub.execute_input": "2023-07-09T23:47:10.289018Z",
     "iopub.status.busy": "2023-07-09T23:47:10.288651Z",
     "iopub.status.idle": "2023-07-09T23:47:10.467873Z",
     "shell.execute_reply": "2023-07-09T23:47:10.466609Z"
    },
    "papermill": {
     "duration": 0.198054,
     "end_time": "2023-07-09T23:47:10.470598",
     "exception": false,
     "start_time": "2023-07-09T23:47:10.272544",
     "status": "completed"
    },
    "tags": []
   },
   "outputs": [
    {
     "data": {
      "image/png": "[encoded data removed]",
      "text/plain": [
       "<Figure size 640x480 with 1 Axes>"
      ]
     },
     "metadata": {},
     "output_type": "display_data"
    }
   ],
   "source": [
    "plt.scatter(data['Item_MRP'], data['Item_Outlet_Sales'])\n",
    "plt.show()"
   ]
  },
  {
   "cell_type": "code",
   "execution_count": 28,
   "id": "8faab6fd",
   "metadata": {
    "execution": {
     "iopub.execute_input": "2023-07-09T23:47:10.503607Z",
     "iopub.status.busy": "2023-07-09T23:47:10.503248Z",
     "iopub.status.idle": "2023-07-09T23:47:10.696369Z",
     "shell.execute_reply": "2023-07-09T23:47:10.694513Z"
    },
    "papermill": {
     "duration": 0.212879,
     "end_time": "2023-07-09T23:47:10.699421",
     "exception": false,
     "start_time": "2023-07-09T23:47:10.486542",
     "status": "completed"
    },
    "tags": []
   },
   "outputs": [
    {
     "data": {
      "image/png": "[encoded data removed]",
      "text/plain": [
       "<Figure size 640x480 with 1 Axes>"
      ]
     },
     "metadata": {},
     "output_type": "display_data"
    }
   ],
   "source": [
    "plt.scatter(data['Item_Visibility'], data['Item_Outlet_Sales'])\n",
    "plt.show()"
   ]
  },
  {
   "cell_type": "code",
   "execution_count": 29,
   "id": "a498bbe8",
   "metadata": {
    "execution": {
     "iopub.execute_input": "2023-07-09T23:47:10.735435Z",
     "iopub.status.busy": "2023-07-09T23:47:10.734977Z",
     "iopub.status.idle": "2023-07-09T23:47:10.949584Z",
     "shell.execute_reply": "2023-07-09T23:47:10.948284Z"
    },
    "papermill": {
     "duration": 0.235047,
     "end_time": "2023-07-09T23:47:10.951595",
     "exception": false,
     "start_time": "2023-07-09T23:47:10.716548",
     "status": "completed"
    },
    "tags": []
   },
   "outputs": [
    {
     "data": {
      "image/png": "[encoded data removed]",
      "text/plain": [
       "<Figure size 640x480 with 1 Axes>"
      ]
     },
     "metadata": {},
     "output_type": "display_data"
    }
   ],
   "source": [
    "plt.scatter(data['Item_Weight'], data['Item_Outlet_Sales'])\n",
    "plt.show()    \n"
   ]
  },
  {
   "cell_type": "code",
   "execution_count": 30,
   "id": "1f4a675f",
   "metadata": {
    "execution": {
     "iopub.execute_input": "2023-07-09T23:47:10.989726Z",
     "iopub.status.busy": "2023-07-09T23:47:10.989316Z",
     "iopub.status.idle": "2023-07-09T23:47:11.349520Z",
     "shell.execute_reply": "2023-07-09T23:47:11.347992Z"
    },
    "papermill": {
     "duration": 0.382052,
     "end_time": "2023-07-09T23:47:11.352265",
     "exception": false,
     "start_time": "2023-07-09T23:47:10.970213",
     "status": "completed"
    },
    "tags": []
   },
   "outputs": [
    {
     "name": "stderr",
     "output_type": "stream",
     "text": [
      "/tmp/ipykernel_21/1166997055.py:2: FutureWarning: The default value of numeric_only in DataFrame.corr is deprecated. In a future version, it will default to False. Select only valid columns or specify the value of numeric_only to silence this warning.\n",
      "  sns.heatmap(data.corr(),annot=True)\n"
     ]
    },
    {
     "data": {
      "text/plain": [
       "<Axes: >"
      ]
     },
     "execution_count": 30,
     "metadata": {},
     "output_type": "execute_result"
    },
    {
     "data": {
      "image/png": "[encoded data removed]",
      "text/plain": [
       "<Figure size 1000x700 with 2 Axes>"
      ]
     },
     "metadata": {},
     "output_type": "display_data"
    }
   ],
   "source": [
    "plt.figure(figsize=(10,7))\n",
    "sns.heatmap(data.corr(),annot=True)"
   ]
  },
  {
   "cell_type": "markdown",
   "id": "192c06b1",
   "metadata": {
    "papermill": {
     "duration": 0.016342,
     "end_time": "2023-07-09T23:47:11.385525",
     "exception": false,
     "start_time": "2023-07-09T23:47:11.369183",
     "status": "completed"
    },
    "tags": []
   },
   "source": [
    "# **encoding categorical data**"
   ]
  },
  {
   "cell_type": "code",
   "execution_count": 31,
   "id": "f0b59a70",
   "metadata": {
    "execution": {
     "iopub.execute_input": "2023-07-09T23:47:11.420713Z",
     "iopub.status.busy": "2023-07-09T23:47:11.420290Z",
     "iopub.status.idle": "2023-07-09T23:47:11.454093Z",
     "shell.execute_reply": "2023-07-09T23:47:11.452977Z"
    },
    "papermill": {
     "duration": 0.054606,
     "end_time": "2023-07-09T23:47:11.456769",
     "exception": false,
     "start_time": "2023-07-09T23:47:11.402163",
     "status": "completed"
    },
    "tags": []
   },
   "outputs": [
    {
     "data": {
      "text/html": [
       "<div>\n",
       "<style scoped>\n",
       "    .dataframe tbody tr th:only-of-type {\n",
       "        vertical-align: middle;\n",
       "    }\n",
       "\n",
       "    .dataframe tbody tr th {\n",
       "        vertical-align: top;\n",
       "    }\n",
       "\n",
       "    .dataframe thead th {\n",
       "        text-align: right;\n",
       "    }\n",
       "</style>\n",
       "<table border=\"1\" class=\"dataframe\">\n",
       "  <thead>\n",
       "    <tr style=\"text-align: right;\">\n",
       "      <th></th>\n",
       "      <th>Item_Weight</th>\n",
       "      <th>Item_Fat_Content</th>\n",
       "      <th>Item_Visibility</th>\n",
       "      <th>Item_Type</th>\n",
       "      <th>Item_MRP</th>\n",
       "      <th>Outlet_Establishment_Year</th>\n",
       "      <th>Outlet_Size</th>\n",
       "      <th>Outlet_Location_Type</th>\n",
       "      <th>Outlet_Type</th>\n",
       "      <th>Item_Outlet_Sales</th>\n",
       "    </tr>\n",
       "  </thead>\n",
       "  <tbody>\n",
       "    <tr>\n",
       "      <th>0</th>\n",
       "      <td>9.300</td>\n",
       "      <td>0</td>\n",
       "      <td>0.016047</td>\n",
       "      <td>4</td>\n",
       "      <td>249.8092</td>\n",
       "      <td>1999</td>\n",
       "      <td>1</td>\n",
       "      <td>0</td>\n",
       "      <td>1</td>\n",
       "      <td>3735.1380</td>\n",
       "    </tr>\n",
       "    <tr>\n",
       "      <th>1</th>\n",
       "      <td>5.920</td>\n",
       "      <td>1</td>\n",
       "      <td>0.019278</td>\n",
       "      <td>14</td>\n",
       "      <td>48.2692</td>\n",
       "      <td>2009</td>\n",
       "      <td>1</td>\n",
       "      <td>2</td>\n",
       "      <td>2</td>\n",
       "      <td>443.4228</td>\n",
       "    </tr>\n",
       "    <tr>\n",
       "      <th>2</th>\n",
       "      <td>17.500</td>\n",
       "      <td>0</td>\n",
       "      <td>0.016760</td>\n",
       "      <td>10</td>\n",
       "      <td>141.6180</td>\n",
       "      <td>1999</td>\n",
       "      <td>1</td>\n",
       "      <td>0</td>\n",
       "      <td>1</td>\n",
       "      <td>2097.2700</td>\n",
       "    </tr>\n",
       "    <tr>\n",
       "      <th>3</th>\n",
       "      <td>19.200</td>\n",
       "      <td>1</td>\n",
       "      <td>0.000000</td>\n",
       "      <td>6</td>\n",
       "      <td>182.0950</td>\n",
       "      <td>1998</td>\n",
       "      <td>3</td>\n",
       "      <td>2</td>\n",
       "      <td>0</td>\n",
       "      <td>732.3800</td>\n",
       "    </tr>\n",
       "    <tr>\n",
       "      <th>4</th>\n",
       "      <td>8.930</td>\n",
       "      <td>0</td>\n",
       "      <td>0.000000</td>\n",
       "      <td>9</td>\n",
       "      <td>53.8614</td>\n",
       "      <td>1987</td>\n",
       "      <td>0</td>\n",
       "      <td>2</td>\n",
       "      <td>1</td>\n",
       "      <td>994.7052</td>\n",
       "    </tr>\n",
       "    <tr>\n",
       "      <th>...</th>\n",
       "      <td>...</td>\n",
       "      <td>...</td>\n",
       "      <td>...</td>\n",
       "      <td>...</td>\n",
       "      <td>...</td>\n",
       "      <td>...</td>\n",
       "      <td>...</td>\n",
       "      <td>...</td>\n",
       "      <td>...</td>\n",
       "      <td>...</td>\n",
       "    </tr>\n",
       "    <tr>\n",
       "      <th>8518</th>\n",
       "      <td>6.865</td>\n",
       "      <td>0</td>\n",
       "      <td>0.056783</td>\n",
       "      <td>13</td>\n",
       "      <td>214.5218</td>\n",
       "      <td>1987</td>\n",
       "      <td>0</td>\n",
       "      <td>2</td>\n",
       "      <td>1</td>\n",
       "      <td>2778.3834</td>\n",
       "    </tr>\n",
       "    <tr>\n",
       "      <th>8519</th>\n",
       "      <td>8.380</td>\n",
       "      <td>1</td>\n",
       "      <td>0.046982</td>\n",
       "      <td>0</td>\n",
       "      <td>108.1570</td>\n",
       "      <td>2002</td>\n",
       "      <td>3</td>\n",
       "      <td>1</td>\n",
       "      <td>1</td>\n",
       "      <td>549.2850</td>\n",
       "    </tr>\n",
       "    <tr>\n",
       "      <th>8520</th>\n",
       "      <td>10.600</td>\n",
       "      <td>0</td>\n",
       "      <td>0.035186</td>\n",
       "      <td>8</td>\n",
       "      <td>85.1224</td>\n",
       "      <td>2004</td>\n",
       "      <td>2</td>\n",
       "      <td>1</td>\n",
       "      <td>1</td>\n",
       "      <td>1193.1136</td>\n",
       "    </tr>\n",
       "    <tr>\n",
       "      <th>8521</th>\n",
       "      <td>7.210</td>\n",
       "      <td>1</td>\n",
       "      <td>0.145221</td>\n",
       "      <td>13</td>\n",
       "      <td>103.1332</td>\n",
       "      <td>2009</td>\n",
       "      <td>1</td>\n",
       "      <td>2</td>\n",
       "      <td>2</td>\n",
       "      <td>1845.5976</td>\n",
       "    </tr>\n",
       "    <tr>\n",
       "      <th>8522</th>\n",
       "      <td>14.800</td>\n",
       "      <td>0</td>\n",
       "      <td>0.044878</td>\n",
       "      <td>14</td>\n",
       "      <td>75.4670</td>\n",
       "      <td>1997</td>\n",
       "      <td>2</td>\n",
       "      <td>0</td>\n",
       "      <td>1</td>\n",
       "      <td>765.6700</td>\n",
       "    </tr>\n",
       "  </tbody>\n",
       "</table>\n",
       "<p>8523 rows × 10 columns</p>\n",
       "</div>"
      ],
      "text/plain": [
       "      Item_Weight  Item_Fat_Content  Item_Visibility  Item_Type  Item_MRP  \\\n",
       "0           9.300                 0         0.016047          4  249.8092   \n",
       "1           5.920                 1         0.019278         14   48.2692   \n",
       "2          17.500                 0         0.016760         10  141.6180   \n",
       "3          19.200                 1         0.000000          6  182.0950   \n",
       "4           8.930                 0         0.000000          9   53.8614   \n",
       "...           ...               ...              ...        ...       ...   \n",
       "8518        6.865                 0         0.056783         13  214.5218   \n",
       "8519        8.380                 1         0.046982          0  108.1570   \n",
       "8520       10.600                 0         0.035186          8   85.1224   \n",
       "8521        7.210                 1         0.145221         13  103.1332   \n",
       "8522       14.800                 0         0.044878         14   75.4670   \n",
       "\n",
       "      Outlet_Establishment_Year  Outlet_Size  Outlet_Location_Type  \\\n",
       "0                          1999            1                     0   \n",
       "1                          2009            1                     2   \n",
       "2                          1999            1                     0   \n",
       "3                          1998            3                     2   \n",
       "4                          1987            0                     2   \n",
       "...                         ...          ...                   ...   \n",
       "8518                       1987            0                     2   \n",
       "8519                       2002            3                     1   \n",
       "8520                       2004            2                     1   \n",
       "8521                       2009            1                     2   \n",
       "8522                       1997            2                     0   \n",
       "\n",
       "      Outlet_Type  Item_Outlet_Sales  \n",
       "0               1          3735.1380  \n",
       "1               2           443.4228  \n",
       "2               1          2097.2700  \n",
       "3               0           732.3800  \n",
       "4               1           994.7052  \n",
       "...           ...                ...  \n",
       "8518            1          2778.3834  \n",
       "8519            1           549.2850  \n",
       "8520            1          1193.1136  \n",
       "8521            2          1845.5976  \n",
       "8522            1           765.6700  \n",
       "\n",
       "[8523 rows x 10 columns]"
      ]
     },
     "execution_count": 31,
     "metadata": {},
     "output_type": "execute_result"
    }
   ],
   "source": [
    "label_encoder = LabelEncoder()\n",
    "\n",
    "# select only the object columns and apply label encoding\n",
    "data[data.select_dtypes(include=['object']).columns] = data.select_dtypes(include=['object']).apply(label_encoder.fit_transform)\n",
    "data"
   ]
  },
  {
   "cell_type": "code",
   "execution_count": 32,
   "id": "9712d80a",
   "metadata": {
    "execution": {
     "iopub.execute_input": "2023-07-09T23:47:11.495201Z",
     "iopub.status.busy": "2023-07-09T23:47:11.494766Z",
     "iopub.status.idle": "2023-07-09T23:47:11.506647Z",
     "shell.execute_reply": "2023-07-09T23:47:11.505535Z"
    },
    "papermill": {
     "duration": 0.034106,
     "end_time": "2023-07-09T23:47:11.509179",
     "exception": false,
     "start_time": "2023-07-09T23:47:11.475073",
     "status": "completed"
    },
    "tags": []
   },
   "outputs": [
    {
     "data": {
      "text/plain": [
       "Item_Weight                  0\n",
       "Item_Fat_Content             0\n",
       "Item_Visibility              0\n",
       "Item_Type                    0\n",
       "Item_MRP                     0\n",
       "Outlet_Establishment_Year    0\n",
       "Outlet_Size                  0\n",
       "Outlet_Location_Type         0\n",
       "Outlet_Type                  0\n",
       "Item_Outlet_Sales            0\n",
       "dtype: int64"
      ]
     },
     "execution_count": 32,
     "metadata": {},
     "output_type": "execute_result"
    }
   ],
   "source": [
    "data.isnull().sum()"
   ]
  },
  {
   "cell_type": "markdown",
   "id": "fcfb1d45",
   "metadata": {
    "papermill": {
     "duration": 0.017886,
     "end_time": "2023-07-09T23:47:11.544639",
     "exception": false,
     "start_time": "2023-07-09T23:47:11.526753",
     "status": "completed"
    },
    "tags": []
   },
   "source": [
    "# linear regression"
   ]
  },
  {
   "cell_type": "code",
   "execution_count": 33,
   "id": "3a8e2574",
   "metadata": {
    "execution": {
     "iopub.execute_input": "2023-07-09T23:47:11.580902Z",
     "iopub.status.busy": "2023-07-09T23:47:11.580545Z",
     "iopub.status.idle": "2023-07-09T23:47:11.588607Z",
     "shell.execute_reply": "2023-07-09T23:47:11.587481Z"
    },
    "papermill": {
     "duration": 0.028828,
     "end_time": "2023-07-09T23:47:11.590703",
     "exception": false,
     "start_time": "2023-07-09T23:47:11.561875",
     "status": "completed"
    },
    "tags": []
   },
   "outputs": [],
   "source": [
    "x=data.drop(['Item_Outlet_Sales'],axis=1)\n",
    "y=data['Item_Outlet_Sales']"
   ]
  },
  {
   "cell_type": "code",
   "execution_count": 34,
   "id": "46523901",
   "metadata": {
    "execution": {
     "iopub.execute_input": "2023-07-09T23:47:11.628891Z",
     "iopub.status.busy": "2023-07-09T23:47:11.628473Z",
     "iopub.status.idle": "2023-07-09T23:47:11.639560Z",
     "shell.execute_reply": "2023-07-09T23:47:11.638031Z"
    },
    "papermill": {
     "duration": 0.033516,
     "end_time": "2023-07-09T23:47:11.642975",
     "exception": false,
     "start_time": "2023-07-09T23:47:11.609459",
     "status": "completed"
    },
    "tags": []
   },
   "outputs": [],
   "source": [
    "x_train,x_validate,y_train,y_validate=train_test_split(x,y,test_size=0.2,random_state=42)\n"
   ]
  },
  {
   "cell_type": "code",
   "execution_count": 35,
   "id": "4f3b6450",
   "metadata": {
    "execution": {
     "iopub.execute_input": "2023-07-09T23:47:11.682006Z",
     "iopub.status.busy": "2023-07-09T23:47:11.681640Z",
     "iopub.status.idle": "2023-07-09T23:47:11.724733Z",
     "shell.execute_reply": "2023-07-09T23:47:11.723789Z"
    },
    "papermill": {
     "duration": 0.064514,
     "end_time": "2023-07-09T23:47:11.726582",
     "exception": false,
     "start_time": "2023-07-09T23:47:11.662068",
     "status": "completed"
    },
    "tags": []
   },
   "outputs": [
    {
     "data": {
      "text/html": [
       "<style>#sk-container-id-1 {color: black;background-color: white;}#sk-container-id-1 pre{padding: 0;}#sk-container-id-1 div.sk-toggleable {background-color: white;}#sk-container-id-1 label.sk-toggleable__label {cursor: pointer;display: block;width: 100%;margin-bottom: 0;padding: 0.3em;box-sizing: border-box;text-align: center;}#sk-container-id-1 label.sk-toggleable__label-arrow:before {content: \"▸\";float: left;margin-right: 0.25em;color: #696969;}#sk-container-id-1 label.sk-toggleable__label-arrow:hover:before {color: black;}#sk-container-id-1 div.sk-estimator:hover label.sk-toggleable__label-arrow:before {color: black;}#sk-container-id-1 div.sk-toggleable__content {max-height: 0;max-width: 0;overflow: hidden;text-align: left;background-color: #f0f8ff;}#sk-container-id-1 div.sk-toggleable__content pre {margin: 0.2em;color: black;border-radius: 0.25em;background-color: #f0f8ff;}#sk-container-id-1 input.sk-toggleable__control:checked~div.sk-toggleable__content {max-height: 200px;max-width: 100%;overflow: auto;}#sk-container-id-1 input.sk-toggleable__control:checked~label.sk-toggleable__label-arrow:before {content: \"▾\";}#sk-container-id-1 div.sk-estimator input.sk-toggleable__control:checked~label.sk-toggleable__label {background-color: #d4ebff;}#sk-container-id-1 div.sk-label input.sk-toggleable__control:checked~label.sk-toggleable__label {background-color: #d4ebff;}#sk-container-id-1 input.sk-hidden--visually {border: 0;clip: rect(1px 1px 1px 1px);clip: rect(1px, 1px, 1px, 1px);height: 1px;margin: -1px;overflow: hidden;padding: 0;position: absolute;width: 1px;}#sk-container-id-1 div.sk-estimator {font-family: monospace;background-color: #f0f8ff;border: 1px dotted black;border-radius: 0.25em;box-sizing: border-box;margin-bottom: 0.5em;}#sk-container-id-1 div.sk-estimator:hover {background-color: #d4ebff;}#sk-container-id-1 div.sk-parallel-item::after {content: \"\";width: 100%;border-bottom: 1px solid gray;flex-grow: 1;}#sk-container-id-1 div.sk-label:hover label.sk-toggleable__label {background-color: #d4ebff;}#sk-container-id-1 div.sk-serial::before {content: \"\";position: absolute;border-left: 1px solid gray;box-sizing: border-box;top: 0;bottom: 0;left: 50%;z-index: 0;}#sk-container-id-1 div.sk-serial {display: flex;flex-direction: column;align-items: center;background-color: white;padding-right: 0.2em;padding-left: 0.2em;position: relative;}#sk-container-id-1 div.sk-item {position: relative;z-index: 1;}#sk-container-id-1 div.sk-parallel {display: flex;align-items: stretch;justify-content: center;background-color: white;position: relative;}#sk-container-id-1 div.sk-item::before, #sk-container-id-1 div.sk-parallel-item::before {content: \"\";position: absolute;border-left: 1px solid gray;box-sizing: border-box;top: 0;bottom: 0;left: 50%;z-index: -1;}#sk-container-id-1 div.sk-parallel-item {display: flex;flex-direction: column;z-index: 1;position: relative;background-color: white;}#sk-container-id-1 div.sk-parallel-item:first-child::after {align-self: flex-end;width: 50%;}#sk-container-id-1 div.sk-parallel-item:last-child::after {align-self: flex-start;width: 50%;}#sk-container-id-1 div.sk-parallel-item:only-child::after {width: 0;}#sk-container-id-1 div.sk-dashed-wrapped {border: 1px dashed gray;margin: 0 0.4em 0.5em 0.4em;box-sizing: border-box;padding-bottom: 0.4em;background-color: white;}#sk-container-id-1 div.sk-label label {font-family: monospace;font-weight: bold;display: inline-block;line-height: 1.2em;}#sk-container-id-1 div.sk-label-container {text-align: center;}#sk-container-id-1 div.sk-container {/* jupyter's `normalize.less` sets `[hidden] { display: none; }` but bootstrap.min.css set `[hidden] { display: none !important; }` so we also need the `!important` here to be able to override the default hidden behavior on the sphinx rendered scikit-learn.org. See: https://github.com/scikit-learn/scikit-learn/issues/21755 */display: inline-block !important;position: relative;}#sk-container-id-1 div.sk-text-repr-fallback {display: none;}</style><div id=\"sk-container-id-1\" class=\"sk-top-container\"><div class=\"sk-text-repr-fallback\"><pre>LinearRegression()</pre><b>In a Jupyter environment, please rerun this cell to show the HTML representation or trust the notebook. <br />On GitHub, the HTML representation is unable to render, please try loading this page with nbviewer.org.</b></div><div class=\"sk-container\" hidden><div class=\"sk-item\"><div class=\"sk-estimator sk-toggleable\"><input class=\"sk-toggleable__control sk-hidden--visually\" id=\"sk-estimator-id-1\" type=\"checkbox\" checked><label for=\"sk-estimator-id-1\" class=\"sk-toggleable__label sk-toggleable__label-arrow\">LinearRegression</label><div class=\"sk-toggleable__content\"><pre>LinearRegression()</pre></div></div></div></div></div>"
      ],
      "text/plain": [
       "LinearRegression()"
      ]
     },
     "execution_count": 35,
     "metadata": {},
     "output_type": "execute_result"
    }
   ],
   "source": [
    "model=LinearRegression()\n",
    "model.fit(x_train,y_train)"
   ]
  },
  {
   "cell_type": "code",
   "execution_count": 36,
   "id": "5ea33d09",
   "metadata": {
    "execution": {
     "iopub.execute_input": "2023-07-09T23:47:11.765394Z",
     "iopub.status.busy": "2023-07-09T23:47:11.764442Z",
     "iopub.status.idle": "2023-07-09T23:47:11.779212Z",
     "shell.execute_reply": "2023-07-09T23:47:11.778512Z"
    },
    "papermill": {
     "duration": 0.036748,
     "end_time": "2023-07-09T23:47:11.781272",
     "exception": false,
     "start_time": "2023-07-09T23:47:11.744524",
     "status": "completed"
    },
    "tags": []
   },
   "outputs": [
    {
     "name": "stdout",
     "output_type": "stream",
     "text": [
      "856.4764822547232\n"
     ]
    }
   ],
   "source": [
    "predictions = model.predict(x_validate)\n",
    "print(mean_absolute_error(y_validate, predictions))"
   ]
  },
  {
   "cell_type": "markdown",
   "id": "6120cd43",
   "metadata": {
    "papermill": {
     "duration": 0.024923,
     "end_time": "2023-07-09T23:47:11.830475",
     "exception": false,
     "start_time": "2023-07-09T23:47:11.805552",
     "status": "completed"
    },
    "tags": []
   },
   "source": [
    "# random forest"
   ]
  },
  {
   "cell_type": "code",
   "execution_count": 37,
   "id": "59a8755c",
   "metadata": {
    "execution": {
     "iopub.execute_input": "2023-07-09T23:47:11.886001Z",
     "iopub.status.busy": "2023-07-09T23:47:11.884686Z",
     "iopub.status.idle": "2023-07-09T23:47:13.570091Z",
     "shell.execute_reply": "2023-07-09T23:47:13.569000Z"
    },
    "papermill": {
     "duration": 1.716362,
     "end_time": "2023-07-09T23:47:13.573367",
     "exception": false,
     "start_time": "2023-07-09T23:47:11.857005",
     "status": "completed"
    },
    "tags": []
   },
   "outputs": [
    {
     "name": "stdout",
     "output_type": "stream",
     "text": [
      "856.4764822547232\n"
     ]
    }
   ],
   "source": [
    "model2=RandomForestRegressor(n_estimators=400,max_depth=6, min_samples_leaf=76,n_jobs=4)\n",
    "model2.fit(x_train,y_train)\n",
    "print(mean_absolute_error(y_validate, predictions))"
   ]
  },
  {
   "cell_type": "markdown",
   "id": "0c1f34d1",
   "metadata": {
    "papermill": {
     "duration": 0.019042,
     "end_time": "2023-07-09T23:47:13.612151",
     "exception": false,
     "start_time": "2023-07-09T23:47:13.593109",
     "status": "completed"
    },
    "tags": []
   },
   "source": [
    "# XGBRegressor"
   ]
  },
  {
   "cell_type": "code",
   "execution_count": 38,
   "id": "f5d20261",
   "metadata": {
    "execution": {
     "iopub.execute_input": "2023-07-09T23:47:13.652299Z",
     "iopub.status.busy": "2023-07-09T23:47:13.651846Z",
     "iopub.status.idle": "2023-07-09T23:47:14.164746Z",
     "shell.execute_reply": "2023-07-09T23:47:14.164005Z"
    },
    "papermill": {
     "duration": 0.535095,
     "end_time": "2023-07-09T23:47:14.166607",
     "exception": false,
     "start_time": "2023-07-09T23:47:13.631512",
     "status": "completed"
    },
    "tags": []
   },
   "outputs": [
    {
     "name": "stdout",
     "output_type": "stream",
     "text": [
      "777.8585699541112\n"
     ]
    }
   ],
   "source": [
    "model3 = XGBRegressor().fit(x_train, y_train)\n",
    "predictions = model3.predict(x_validate)\n",
    "print(mean_absolute_error(y_validate, predictions))"
   ]
  }
 ],
 "metadata": {
  "kernelspec": {
   "display_name": "Python 3",
   "language": "python",
   "name": "python3"
  },
  "language_info": {
   "codemirror_mode": {
    "name": "ipython",
    "version": 3
   },
   "file_extension": ".py",
   "mimetype": "text/x-python",
   "name": "python",
   "nbconvert_exporter": "python",
   "pygments_lexer": "ipython3",
   "version": "3.10.10"
  },
  "papermill": {
   "default_parameters": {},
   "duration": 20.616228,
   "end_time": "2023-07-09T23:47:15.308811",
   "environment_variables": {},
   "exception": null,
   "input_path": "__notebook__.ipynb",
   "output_path": "__notebook__.ipynb",
   "parameters": {},
   "start_time": "2023-07-09T23:46:54.692583",
   "version": "2.4.0"
  }
 },
 "nbformat": 4,
 "nbformat_minor": 5
}
