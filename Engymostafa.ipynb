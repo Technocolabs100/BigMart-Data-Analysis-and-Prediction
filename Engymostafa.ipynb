{
  "nbformat": 4,
  "nbformat_minor": 0,
  "metadata": {
    "colab": {
      "provenance": []
    },
    "kernelspec": {
      "name": "python3",
      "display_name": "Python 3"
    },
    "language_info": {
      "name": "python"
    }
  },
  "cells": [
    {
      "cell_type": "code",
      "execution_count": 25,
      "metadata": {
        "id": "AQl0-yeLe9Tx"
      },
      "outputs": [],
      "source": [
        "# modules we'll use\n",
        "import pandas as pd\n",
        "import numpy as np\n",
        "pd.plotting.register_matplotlib_converters()\n",
        "import matplotlib.pyplot as plt\n",
        "%matplotlib inline\n",
        "import seaborn as sns\n",
        "# set seed for reproducibility\n",
        "np.random.seed(0)\n"
      ]
    },
    {
      "cell_type": "code",
      "source": [
        "test_data_datapath='/content/Test.csv'\n",
        "train_data_datapath='/content/Train.csv'\n",
        "\n",
        "#read in all data in both test & train data\n",
        "test_data=pd.read_csv(test_data_datapath)\n",
        "train_data=pd.read_csv(train_data_datapath)"
      ],
      "metadata": {
        "id": "2Omo5jd3hNcM"
      },
      "execution_count": 26,
      "outputs": []
    },
    {
      "cell_type": "code",
      "source": [
        "# Check for missing values\n",
        "print(train_data.isnull().sum())\n",
        "print(test_data.isnull().sum())"
      ],
      "metadata": {
        "colab": {
          "base_uri": "https://localhost:8080/"
        },
        "id": "I5OAaiN2l7o5",
        "outputId": "794081c5-15ce-48b7-e73b-f91e31ac3ffd"
      },
      "execution_count": 27,
      "outputs": [
        {
          "output_type": "stream",
          "name": "stdout",
          "text": [
            "Item_Identifier                 0\n",
            "Item_Weight                  1463\n",
            "Item_Fat_Content                0\n",
            "Item_Visibility                 0\n",
            "Item_Type                       0\n",
            "Item_MRP                        0\n",
            "Outlet_Identifier               0\n",
            "Outlet_Establishment_Year       0\n",
            "Outlet_Size                  2410\n",
            "Outlet_Location_Type            0\n",
            "Outlet_Type                     0\n",
            "Item_Outlet_Sales               0\n",
            "dtype: int64\n",
            "Item_Identifier                 0\n",
            "Item_Weight                   976\n",
            "Item_Fat_Content                0\n",
            "Item_Visibility                 0\n",
            "Item_Type                       0\n",
            "Item_MRP                        0\n",
            "Outlet_Identifier               0\n",
            "Outlet_Establishment_Year       0\n",
            "Outlet_Size                  1606\n",
            "Outlet_Location_Type            0\n",
            "Outlet_Type                     0\n",
            "dtype: int64\n"
          ]
        }
      ]
    },
    {
      "cell_type": "code",
      "source": [
        "#fill the missing values in item_weight column with the mean in both datas\n",
        "meanitem_weight=np.mean(train_data.Item_Weight)\n",
        "train_data.Item_Weight=train_data.Item_Weight.fillna(meanitem_weight)\n",
        "\n",
        "meanitem_weight=np.mean(test_data.Item_Weight)\n",
        "test_data.Item_Weight=test_data.Item_Weight.fillna(meanitem_weight)\n",
        "\n",
        "#checking\n",
        "print(train_data.isnull().sum())\n",
        "print(test_data.isnull().sum())"
      ],
      "metadata": {
        "colab": {
          "base_uri": "https://localhost:8080/"
        },
        "id": "7ztv4ET8msRX",
        "outputId": "93cfce26-1d7b-4446-8ddf-1452c604f163"
      },
      "execution_count": 28,
      "outputs": [
        {
          "output_type": "stream",
          "name": "stdout",
          "text": [
            "Item_Identifier                 0\n",
            "Item_Weight                     0\n",
            "Item_Fat_Content                0\n",
            "Item_Visibility                 0\n",
            "Item_Type                       0\n",
            "Item_MRP                        0\n",
            "Outlet_Identifier               0\n",
            "Outlet_Establishment_Year       0\n",
            "Outlet_Size                  2410\n",
            "Outlet_Location_Type            0\n",
            "Outlet_Type                     0\n",
            "Item_Outlet_Sales               0\n",
            "dtype: int64\n",
            "Item_Identifier                 0\n",
            "Item_Weight                     0\n",
            "Item_Fat_Content                0\n",
            "Item_Visibility                 0\n",
            "Item_Type                       0\n",
            "Item_MRP                        0\n",
            "Outlet_Identifier               0\n",
            "Outlet_Establishment_Year       0\n",
            "Outlet_Size                  1606\n",
            "Outlet_Location_Type            0\n",
            "Outlet_Type                     0\n",
            "dtype: int64\n"
          ]
        }
      ]
    },
    {
      "cell_type": "code",
      "source": [
        "#checking to know the mode in Outlet_Size column\n",
        "print(test_data.Outlet_Size.describe())\n",
        "print(train_data.Outlet_Size.describe())"
      ],
      "metadata": {
        "colab": {
          "base_uri": "https://localhost:8080/"
        },
        "id": "XMXWfZnQonQ6",
        "outputId": "58f28dea-f982-47b4-dd58-ac2b3cc3a30d"
      },
      "execution_count": 29,
      "outputs": [
        {
          "output_type": "stream",
          "name": "stdout",
          "text": [
            "count       4075\n",
            "unique         3\n",
            "top       Medium\n",
            "freq        1862\n",
            "Name: Outlet_Size, dtype: object\n",
            "count       6113\n",
            "unique         3\n",
            "top       Medium\n",
            "freq        2793\n",
            "Name: Outlet_Size, dtype: object\n"
          ]
        }
      ]
    },
    {
      "cell_type": "code",
      "source": [
        "#replacing the missing values with the mode in Outlet_Size column\n",
        "test_data.Outlet_Size.fillna('Medium', inplace=True)\n",
        "train_data.Outlet_Size.fillna('Medium', inplace=True)\n",
        "\n",
        "#checking\n",
        "print(train_data.isnull().sum())\n",
        "print(test_data.isnull().sum())"
      ],
      "metadata": {
        "colab": {
          "base_uri": "https://localhost:8080/"
        },
        "id": "jEFcFsiYpV0d",
        "outputId": "8a1c6a58-24e4-43f6-9a70-14146460c442"
      },
      "execution_count": 30,
      "outputs": [
        {
          "output_type": "stream",
          "name": "stdout",
          "text": [
            "Item_Identifier              0\n",
            "Item_Weight                  0\n",
            "Item_Fat_Content             0\n",
            "Item_Visibility              0\n",
            "Item_Type                    0\n",
            "Item_MRP                     0\n",
            "Outlet_Identifier            0\n",
            "Outlet_Establishment_Year    0\n",
            "Outlet_Size                  0\n",
            "Outlet_Location_Type         0\n",
            "Outlet_Type                  0\n",
            "Item_Outlet_Sales            0\n",
            "dtype: int64\n",
            "Item_Identifier              0\n",
            "Item_Weight                  0\n",
            "Item_Fat_Content             0\n",
            "Item_Visibility              0\n",
            "Item_Type                    0\n",
            "Item_MRP                     0\n",
            "Outlet_Identifier            0\n",
            "Outlet_Establishment_Year    0\n",
            "Outlet_Size                  0\n",
            "Outlet_Location_Type         0\n",
            "Outlet_Type                  0\n",
            "dtype: int64\n"
          ]
        }
      ]
    },
    {
      "cell_type": "code",
      "source": [
        "plt.figure(figsize=(16,8))\n",
        "train_data.boxplot()"
      ],
      "metadata": {
        "colab": {
          "base_uri": "https://localhost:8080/",
          "height": 559
        },
        "id": "G_SH2MHcc3vH",
        "outputId": "3c65e972-7414-46db-e74e-eb349392b960"
      },
      "execution_count": 31,
      "outputs": [
        {
          "output_type": "execute_result",
          "data": {
            "text/plain": [
              "<Axes: >"
            ]
          },
          "metadata": {},
          "execution_count": 31
        },
        {
          "output_type": "display_data",
          "data": {
            "text/plain": [
              "<Figure size 1600x800 with 1 Axes>"
            ],
            "image/png": "[encoded data removed]"
          },
          "metadata": {}
        }
      ]
    },
    {
      "cell_type": "code",
      "source": [
        "plt.figure(figsize=(16,8))\n",
        "test_data.boxplot()"
      ],
      "metadata": {
        "colab": {
          "base_uri": "https://localhost:8080/",
          "height": 562
        },
        "id": "ghqLc_Y4c5DQ",
        "outputId": "81cd5c8b-1532-498d-e00d-8ed885dcbfc4"
      },
      "execution_count": 32,
      "outputs": [
        {
          "output_type": "execute_result",
          "data": {
            "text/plain": [
              "<Axes: >"
            ]
          },
          "metadata": {},
          "execution_count": 32
        },
        {
          "output_type": "display_data",
          "data": {
            "text/plain": [
              "<Figure size 1600x800 with 1 Axes>"
            ],
            "image/png": "[encoded data removed]"
          },
          "metadata": {}
        }
      ]
    },
    {
      "cell_type": "code",
      "source": [
        "#removing outliers in Item_Visibility and Item_Outlet_Sales have outliers in data\n",
        "sorted(train_data['Item_Visibility'])\n",
        "Q1,Q3=train_data['Item_Visibility'].quantile([0.25,0.75])\n",
        "IQR=Q3-Q1\n",
        "lower_range=Q1-(1.5*IQR)\n",
        "upper_range=Q3+(1.5*IQR)\n",
        "\n",
        "train_data.Item_Visibility=np.where(train_data.Item_Visibility>upper_range,upper_range,train_data.Item_Visibility)\n",
        "train_data.Item_Visibility=np.where(train_data.Item_Visibility<lower_range,lower_range,train_data.Item_Visibility)"
      ],
      "metadata": {
        "id": "1iprvu2Nc9Ap"
      },
      "execution_count": 33,
      "outputs": []
    },
    {
      "cell_type": "code",
      "source": [
        "sorted(train_data['Item_Outlet_Sales'])\n",
        "Q1,Q3=train_data['Item_Outlet_Sales'].quantile([0.25,0.75])\n",
        "IQR=Q3-Q1\n",
        "lower_range=Q1-(1.5*IQR)\n",
        "upper_range=Q3+(1.5*IQR)\n",
        "\n",
        "train_data.Item_Outlet_Sales=np.where(train_data.Item_Outlet_Sales>upper_range,upper_range,train_data.Item_Outlet_Sales)\n",
        "train_data.Item_Outlet_Sales=np.where(train_data.Item_Outlet_Sales<lower_range,lower_range,train_data.Item_Outlet_Sales)"
      ],
      "metadata": {
        "id": "t-27Xx1EdLIg"
      },
      "execution_count": 34,
      "outputs": []
    },
    {
      "cell_type": "code",
      "source": [
        "#removing outliers in Item_Visibility have outliers in X_test\n",
        "sorted(test_data['Item_Visibility'])\n",
        "Q1,Q3=test_data['Item_Visibility'].quantile([0.25,0.75])\n",
        "IQR=Q3-Q1\n",
        "lower_range=Q1-(1.5*IQR)\n",
        "upper_range=Q3+(1.5*IQR)\n",
        "\n",
        "test_data.Item_Visibility=np.where(test_data.Item_Visibility>upper_range,upper_range,test_data.Item_Visibility)\n",
        "test_data.Item_Visibility=np.where(test_data.Item_Visibility<lower_range,lower_range,test_data.Item_Visibility)"
      ],
      "metadata": {
        "id": "aV7NMWDtdfQh"
      },
      "execution_count": 35,
      "outputs": []
    },
    {
      "cell_type": "code",
      "source": [
        "plt.figure(figsize=(16,8))\n",
        "cols_3=['Item_Visibility', 'Item_Outlet_Sales']\n",
        "train_data.boxplot(column=cols_3)"
      ],
      "metadata": {
        "colab": {
          "base_uri": "https://localhost:8080/",
          "height": 562
        },
        "id": "egdKp9uGdwXJ",
        "outputId": "cd10a5e4-a739-4b1b-bebe-e8f717b8c01e"
      },
      "execution_count": 36,
      "outputs": [
        {
          "output_type": "execute_result",
          "data": {
            "text/plain": [
              "<Axes: >"
            ]
          },
          "metadata": {},
          "execution_count": 36
        },
        {
          "output_type": "display_data",
          "data": {
            "text/plain": [
              "<Figure size 1600x800 with 1 Axes>"
            ],
            "image/png": "[encoded data removed]"
          },
          "metadata": {}
        }
      ]
    },
    {
      "cell_type": "code",
      "source": [
        "plt.figure(figsize=(16,8))\n",
        "test_data.boxplot(column='Item_Visibility')"
      ],
      "metadata": {
        "colab": {
          "base_uri": "https://localhost:8080/",
          "height": 560
        },
        "id": "BEPOiWrJdz9x",
        "outputId": "2be7138f-f970-49dc-c20f-0dd79b964e6f"
      },
      "execution_count": 37,
      "outputs": [
        {
          "output_type": "execute_result",
          "data": {
            "text/plain": [
              "<Axes: >"
            ]
          },
          "metadata": {},
          "execution_count": 37
        },
        {
          "output_type": "display_data",
          "data": {
            "text/plain": [
              "<Figure size 1600x800 with 1 Axes>"
            ],
            "image/png": "[encoded data removed]"
          },
          "metadata": {}
        }
      ]
    },
    {
      "cell_type": "code",
      "source": [
        "#text pre-processing\n",
        "Fat_Content=train_data['Item_Fat_Content'].unique()\n",
        "Fat_Content.sort()\n",
        "Fat_Content"
      ],
      "metadata": {
        "colab": {
          "base_uri": "https://localhost:8080/"
        },
        "id": "1v0iTcAYp6al",
        "outputId": "c3c8986d-358c-4a44-97e9-2edc9b8760b6"
      },
      "execution_count": 38,
      "outputs": [
        {
          "output_type": "execute_result",
          "data": {
            "text/plain": [
              "array(['LF', 'Low Fat', 'Regular', 'low fat', 'reg'], dtype=object)"
            ]
          },
          "metadata": {},
          "execution_count": 38
        }
      ]
    },
    {
      "cell_type": "code",
      "source": [
        "!pip install fuzzywuzzy\n",
        "import fuzzywuzzy\n",
        "from fuzzywuzzy import process\n",
        "import charset_normalizer"
      ],
      "metadata": {
        "colab": {
          "base_uri": "https://localhost:8080/"
        },
        "id": "YGCrCjAe0IDN",
        "outputId": "87dde049-6163-48f9-f1d8-69f43078ed08"
      },
      "execution_count": 39,
      "outputs": [
        {
          "output_type": "stream",
          "name": "stdout",
          "text": [
            "Requirement already satisfied: fuzzywuzzy in /usr/local/lib/python3.10/dist-packages (0.18.0)\n"
          ]
        }
      ]
    },
    {
      "cell_type": "code",
      "source": [
        "matches = fuzzywuzzy.process.extract(\"Low Fat\", Fat_Content, limit=10, scorer=fuzzywuzzy.fuzz.token_sort_ratio)\n",
        "matches\n"
      ],
      "metadata": {
        "colab": {
          "base_uri": "https://localhost:8080/"
        },
        "id": "wc9DHmxEyi1W",
        "outputId": "18874ab7-d2ac-4daf-fe7f-62abfe8c9ab6"
      },
      "execution_count": 40,
      "outputs": [
        {
          "output_type": "execute_result",
          "data": {
            "text/plain": [
              "[('Low Fat', 100), ('low fat', 100), ('LF', 22), ('Regular', 14), ('reg', 0)]"
            ]
          },
          "metadata": {},
          "execution_count": 40
        }
      ]
    },
    {
      "cell_type": "code",
      "source": [
        "# function to replace rows in the provided column of the provided dataframe\n",
        "# that match the provided string above the provided ratio with the provided string\n",
        "def replace_matches_in_column(df, column, string_to_match, min_ratio = 21):\n",
        "    # get a list of unique strings\n",
        "    strings = df[column].unique()\n",
        "\n",
        "    # get the top 10 closest matches to our input string\n",
        "    matches = fuzzywuzzy.process.extract(string_to_match, strings,\n",
        "                                         limit=10, scorer=fuzzywuzzy.fuzz.token_sort_ratio)\n",
        "\n",
        "    # only get matches with a ratio > 90\n",
        "    close_matches = [matches[0] for matches in matches if matches[1] >= min_ratio]\n",
        "\n",
        "    # get the rows of all the close matches in our dataframe\n",
        "    rows_with_matches = df[column].isin(close_matches)\n",
        "\n",
        "    # replace all rows with close matches with the input matches\n",
        "    df.loc[rows_with_matches, column] = string_to_match\n",
        "\n",
        "    # let us know the function's done\n",
        "    print(\"All done!\")"
      ],
      "metadata": {
        "id": "-7Wx9l8m1-dz"
      },
      "execution_count": 41,
      "outputs": []
    },
    {
      "cell_type": "code",
      "source": [
        "replace_matches_in_column( df=train_data, column='Item_Fat_Content', string_to_match=\"Low Fat\")\n",
        "Fat_Content=train_data['Item_Fat_Content'].unique()\n",
        "Fat_Content.sort()\n",
        "Fat_Content\n"
      ],
      "metadata": {
        "colab": {
          "base_uri": "https://localhost:8080/"
        },
        "id": "Ah0SNpPw2tua",
        "outputId": "bf624920-0b2c-444c-9c78-5cec51d14c64"
      },
      "execution_count": 42,
      "outputs": [
        {
          "output_type": "stream",
          "name": "stdout",
          "text": [
            "All done!\n"
          ]
        },
        {
          "output_type": "execute_result",
          "data": {
            "text/plain": [
              "array(['Low Fat', 'Regular', 'reg'], dtype=object)"
            ]
          },
          "metadata": {},
          "execution_count": 42
        }
      ]
    },
    {
      "cell_type": "code",
      "source": [
        "matches = fuzzywuzzy.process.extract(\"Regular\", Fat_Content, limit=10, scorer=fuzzywuzzy.fuzz.token_sort_ratio)\n",
        "matches"
      ],
      "metadata": {
        "colab": {
          "base_uri": "https://localhost:8080/"
        },
        "id": "KIT-Ppg13p2A",
        "outputId": "4258bdb7-0bf8-4608-ac00-5eb596662ed2"
      },
      "execution_count": 43,
      "outputs": [
        {
          "output_type": "execute_result",
          "data": {
            "text/plain": [
              "[('Regular', 100), ('reg', 60), ('Low Fat', 14)]"
            ]
          },
          "metadata": {},
          "execution_count": 43
        }
      ]
    },
    {
      "cell_type": "code",
      "source": [
        "replace_matches_in_column( df=train_data, column='Item_Fat_Content', string_to_match=\"Regular\")\n",
        "Fat_Content=train_data['Item_Fat_Content'].unique()\n",
        "Fat_Content.sort()\n",
        "Fat_Content\n"
      ],
      "metadata": {
        "colab": {
          "base_uri": "https://localhost:8080/"
        },
        "id": "msY9m9H23uyy",
        "outputId": "7cf86c6a-fe5b-4cae-ecb2-26ca31666909"
      },
      "execution_count": 44,
      "outputs": [
        {
          "output_type": "stream",
          "name": "stdout",
          "text": [
            "All done!\n"
          ]
        },
        {
          "output_type": "execute_result",
          "data": {
            "text/plain": [
              "array(['Low Fat', 'Regular'], dtype=object)"
            ]
          },
          "metadata": {},
          "execution_count": 44
        }
      ]
    },
    {
      "cell_type": "code",
      "source": [
        "Item_Type =train_data['Item_Type'].unique()\n",
        "Item_Type.sort()\n",
        "Item_Type"
      ],
      "metadata": {
        "colab": {
          "base_uri": "https://localhost:8080/"
        },
        "id": "vvLDqEfJ4Iea",
        "outputId": "c804095e-2aff-4b4d-8e97-879c21e0ae43"
      },
      "execution_count": 45,
      "outputs": [
        {
          "output_type": "execute_result",
          "data": {
            "text/plain": [
              "array(['Baking Goods', 'Breads', 'Breakfast', 'Canned', 'Dairy',\n",
              "       'Frozen Foods', 'Fruits and Vegetables', 'Hard Drinks',\n",
              "       'Health and Hygiene', 'Household', 'Meat', 'Others', 'Seafood',\n",
              "       'Snack Foods', 'Soft Drinks', 'Starchy Foods'], dtype=object)"
            ]
          },
          "metadata": {},
          "execution_count": 45
        }
      ]
    },
    {
      "cell_type": "code",
      "source": [
        "Outlet_Size =train_data['Outlet_Size'].unique()\n",
        "Outlet_Size.sort()\n",
        "Outlet_Size"
      ],
      "metadata": {
        "colab": {
          "base_uri": "https://localhost:8080/"
        },
        "id": "cQ0Sm1Jh6kIN",
        "outputId": "466b511f-fe9d-415e-ca3b-d29b9568f0d5"
      },
      "execution_count": 46,
      "outputs": [
        {
          "output_type": "execute_result",
          "data": {
            "text/plain": [
              "array(['High', 'Medium', 'Small'], dtype=object)"
            ]
          },
          "metadata": {},
          "execution_count": 46
        }
      ]
    },
    {
      "cell_type": "code",
      "source": [
        "Outlet_Location_Type =train_data['Outlet_Location_Type'].unique()\n",
        "Outlet_Location_Type.sort()\n",
        "Outlet_Location_Type"
      ],
      "metadata": {
        "colab": {
          "base_uri": "https://localhost:8080/"
        },
        "id": "mmEIj2L66_d6",
        "outputId": "21c88910-7adf-4a44-8da4-a98fb79b7c89"
      },
      "execution_count": 47,
      "outputs": [
        {
          "output_type": "execute_result",
          "data": {
            "text/plain": [
              "array(['Tier 1', 'Tier 2', 'Tier 3'], dtype=object)"
            ]
          },
          "metadata": {},
          "execution_count": 47
        }
      ]
    },
    {
      "cell_type": "code",
      "source": [
        "Outlet_Type =train_data['Outlet_Type'].unique()\n",
        "Outlet_Type.sort()\n",
        "Outlet_Type"
      ],
      "metadata": {
        "colab": {
          "base_uri": "https://localhost:8080/"
        },
        "id": "47-yGobL7L9m",
        "outputId": "60a4c864-fc2a-49aa-bcb2-bac44e687b45"
      },
      "execution_count": 48,
      "outputs": [
        {
          "output_type": "execute_result",
          "data": {
            "text/plain": [
              "array(['Grocery Store', 'Supermarket Type1', 'Supermarket Type2',\n",
              "       'Supermarket Type3'], dtype=object)"
            ]
          },
          "metadata": {},
          "execution_count": 48
        }
      ]
    },
    {
      "cell_type": "code",
      "source": [
        "replace_matches_in_column( df=test_data, column='Item_Fat_Content', string_to_match=\"Low Fat\")\n",
        "Fat_Content=test_data['Item_Fat_Content'].unique()\n",
        "replace_matches_in_column( df=test_data, column='Item_Fat_Content', string_to_match=\"Regular\")\n",
        "Fat_Content=test_data['Item_Fat_Content'].unique()\n",
        "Fat_Content.sort()"
      ],
      "metadata": {
        "colab": {
          "base_uri": "https://localhost:8080/"
        },
        "id": "5IhLGlJqB1CR",
        "outputId": "163186a4-2e72-4496-8d36-f54004dea05b"
      },
      "execution_count": 49,
      "outputs": [
        {
          "output_type": "stream",
          "name": "stdout",
          "text": [
            "All done!\n",
            "All done!\n"
          ]
        }
      ]
    },
    {
      "cell_type": "code",
      "source": [
        "#Data Visualization\n",
        "# Create a bar chart of Item Type vs. Item Outlet Sales\n",
        "plt.figure(figsize=(10, 6))\n",
        "sns.barplot(x='Item_Type', y='Item_Outlet_Sales', data=train_data)\n",
        "plt.xticks(rotation=90)\n",
        "plt.title('Item Type vs. Item Outlet Sales')\n",
        "plt.show()"
      ],
      "metadata": {
        "colab": {
          "base_uri": "https://localhost:8080/",
          "height": 700
        },
        "id": "wPs6YATmSSVV",
        "outputId": "8985ecbb-c154-4658-cc21-acef78d98dc3"
      },
      "execution_count": 50,
      "outputs": [
        {
          "output_type": "display_data",
          "data": {
            "text/plain": [
              "<Figure size 1000x600 with 1 Axes>"
            ],
            "image/png": "[encoded data removed]"
          },
          "metadata": {}
        }
      ]
    },
    {
      "cell_type": "code",
      "source": [
        "from sklearn.preprocessing import OrdinalEncoder\n",
        "\n",
        "ordinal_encoder = OrdinalEncoder()\n",
        "cols_1 = ['Item_Fat_Content', 'Outlet_Type','Outlet_Size', 'Outlet_Location_Type']\n",
        "train_data[cols_1] = ordinal_encoder.fit_transform(train_data[cols_1])\n"
      ],
      "metadata": {
        "id": "8RaATMO-_U5o"
      },
      "execution_count": 51,
      "outputs": []
    },
    {
      "cell_type": "code",
      "source": [
        "from sklearn.preprocessing import OrdinalEncoder\n",
        "\n",
        "ordinal_encoder = OrdinalEncoder()\n",
        "cols_1 = ['Item_Fat_Content', 'Outlet_Type','Outlet_Size', 'Outlet_Location_Type']\n",
        "test_data[cols_1] = ordinal_encoder.fit_transform(test_data[cols_1])"
      ],
      "metadata": {
        "id": "mOEgLbpH1-ud"
      },
      "execution_count": 52,
      "outputs": []
    },
    {
      "cell_type": "code",
      "source": [
        "from sklearn.preprocessing import OneHotEncoder\n",
        "\n",
        "# Define the columns to be one-hot encoded\n",
        "cols = ['Item_Type', 'Outlet_Identifier']\n",
        "\n",
        "# Create a OneHotEncoder object and fit it to the training data\n",
        "OH_encoder = OneHotEncoder(handle_unknown='ignore', sparse=False)\n",
        "OH_encoder.fit(train_data[cols])\n",
        "\n",
        "# Transform the 'Item_Type' and 'Outlet_Identifier' columns into one-hot encoded columns\n",
        "OH_cols_train = pd.DataFrame(OH_encoder.transform(train_data[cols]))\n",
        "OH_cols_test = pd.DataFrame(OH_encoder.transform(test_data[cols]))\n",
        "\n",
        "# Get the feature names for the one-hot encoded columns\n",
        "feature_names = OH_encoder.get_feature_names_out(cols)\n",
        "\n",
        "# Rename the one-hot encoded columns\n",
        "OH_cols_train.columns = feature_names\n",
        "OH_cols_test.columns = feature_names\n",
        "\n",
        "# Drop the original 'Item_Type' and 'Outlet_Identifier' columns\n",
        "train_data = train_data.drop(cols, axis=1)\n",
        "test_data = test_data.drop(cols, axis=1)\n",
        "\n",
        "# Concatenate the one-hot encoded columns with the training and test data\n",
        "train_data = pd.concat([OH_cols_train, train_data], axis=1)\n",
        "test_data = pd.concat([OH_cols_test, test_data], axis=1)\n"
      ],
      "metadata": {
        "colab": {
          "base_uri": "https://localhost:8080/"
        },
        "id": "efwHUiFG_6AW",
        "outputId": "0b17d98c-aa83-491d-c627-b86f626580ea"
      },
      "execution_count": 53,
      "outputs": [
        {
          "output_type": "stream",
          "name": "stderr",
          "text": [
            "/usr/local/lib/python3.10/dist-packages/sklearn/preprocessing/_encoders.py:868: FutureWarning: `sparse` was renamed to `sparse_output` in version 1.2 and will be removed in 1.4. `sparse_output` is ignored unless you leave `sparse` to its default value.\n",
            "  warnings.warn(\n"
          ]
        }
      ]
    },
    {
      "cell_type": "code",
      "source": [
        "#creating the model\n",
        "from xgboost import XGBRegressor\n",
        "\n",
        "y=train_data.Item_Outlet_Sales\n",
        "X=train_data.drop(['Item_Outlet_Sales','Item_Identifier','Outlet_Establishment_Year'], axis=1)\n",
        "\n",
        "from sklearn.model_selection import train_test_split\n",
        "train_X, val_X, train_y, val_y = train_test_split(X, y, random_state = 1)\n",
        "\n",
        "import xgboost as xgb\n",
        "\n",
        "dtrain = xgb.DMatrix(train_X, label=train_y, enable_categorical=True)\n",
        "\n",
        "my_model = XGBRegressor(n_estimators=1000, learning_rate=0.05, n_jobs=4)\n",
        "my_model.fit(train_X, train_y,\n",
        "             early_stopping_rounds=5,\n",
        "             eval_set=[(val_X, val_y)],\n",
        "             verbose=False)\n",
        "\n",
        "#make predictions\n",
        "val_predictions = my_model.predict(val_X)\n",
        "\n",
        "print(\"The predictions are\")\n",
        "print(my_model.predict(X))\n",
        "\n",
        "\n",
        "from sklearn.metrics import mean_absolute_error\n",
        "print(mean_absolute_error(val_y, val_predictions))\n"
      ],
      "metadata": {
        "colab": {
          "base_uri": "https://localhost:8080/"
        },
        "id": "3GNBzasRx2_8",
        "outputId": "d11a9ab9-25cc-4705-b7b1-29d86df0c790"
      },
      "execution_count": 54,
      "outputs": [
        {
          "output_type": "stream",
          "name": "stderr",
          "text": [
            "/usr/local/lib/python3.10/dist-packages/xgboost/sklearn.py:835: UserWarning: `early_stopping_rounds` in `fit` method is deprecated for better compatibility with scikit-learn, use `early_stopping_rounds` in constructor or`set_params` instead.\n",
            "  warnings.warn(\n"
          ]
        },
        {
          "output_type": "stream",
          "name": "stdout",
          "text": [
            "The predictions are\n",
            "[4226.461    665.44324 2190.7285  ... 1370.69    1434.5469  1141.712  ]\n",
            "739.8279851343965\n"
          ]
        }
      ]
    },
    {
      "cell_type": "code",
      "source": [
        "# Make predictions on the new data using the trained XGBoost model\n",
        "X2=test_data.drop(['Item_Identifier','Outlet_Establishment_Year'], axis=1)\n",
        "y_pred = my_model.predict(X2)\n",
        "\n",
        "print(my_model.predict(X2))\n",
        "\n",
        "pd.Series(y_pred)"
      ],
      "metadata": {
        "colab": {
          "base_uri": "https://localhost:8080/"
        },
        "id": "rcTyBTSUDo1q",
        "outputId": "3f8c854f-b118-47d2-d5dc-687fe4ea6a1b"
      },
      "execution_count": 55,
      "outputs": [
        {
          "output_type": "stream",
          "name": "stdout",
          "text": [
            "[1572.5364 1325.1516  743.5542 ... 1788.4233 3563.1116 1175.8219]\n"
          ]
        },
        {
          "output_type": "execute_result",
          "data": {
            "text/plain": [
              "0       1572.536377\n",
              "1       1325.151611\n",
              "2        743.554199\n",
              "3       2354.493164\n",
              "4       5103.290039\n",
              "           ...     \n",
              "5676    2088.199707\n",
              "5677    2689.410645\n",
              "5678    1788.423340\n",
              "5679    3563.111572\n",
              "5680    1175.821899\n",
              "Length: 5681, dtype: float32"
            ]
          },
          "metadata": {},
          "execution_count": 55
        }
      ]
    },
    {
      "cell_type": "code",
      "source": [
        "'''\n",
        "SUMMARY\n",
        "\n",
        "i chose XGBoost model because of several advantages such as Scalability , Speed , Regularization and Handling missing values.. etc\n",
        "\n",
        "some ideas for future work that could enhance my XGBoost model:\n",
        "\n",
        "1) Feature engineering: I could explore new features or transform existing features to improve the performance of my model.\n",
        "2) Hyperparameter tuning: I could further optimize the hyperparameters of my XGBoost model to improve its performance.\n",
        "3) Ensemble methods: I could explore using ensemble methods such as stacking or boosting to combine multiple XGBoost models and improve the overall performance of your model.\n",
        "4)Exploring other machine learning algorithms: While XGBoost is a powerful algorithm, it's always a good idea to explore other machine learning algorithms to see if they might perform better on my dataset.\n",
        "'''"
      ],
      "metadata": {
        "colab": {
          "base_uri": "https://localhost:8080/",
          "height": 140
        },
        "id": "2U2v3vzMNFOO",
        "outputId": "cadb48f5-d19d-4aaa-898b-4c6d6acab058"
      },
      "execution_count": 56,
      "outputs": [
        {
          "output_type": "execute_result",
          "data": {
            "text/plain": [
              "\"\\nSUMMARY\\n\\ni chose XGBoost model because of several advantages such as Scalability , Speed , Regularization and Handling missing values.. etc\\n\\nsome ideas for future work that could enhance my XGBoost model:\\n\\n1) Feature engineering: I could explore new features or transform existing features to improve the performance of my model.\\n2) Hyperparameter tuning: I could further optimize the hyperparameters of my XGBoost model to improve its performance.\\n3) Ensemble methods: I could explore using ensemble methods such as stacking or boosting to combine multiple XGBoost models and improve the overall performance of your model.\\n4)Exploring other machine learning algorithms: While XGBoost is a powerful algorithm, it's always a good idea to explore other machine learning algorithms to see if they might perform better on my dataset. \\n\""
            ],
            "application/vnd.google.colaboratory.intrinsic+json": {
              "type": "string"
            }
          },
          "metadata": {},
          "execution_count": 56
        }
      ]
    }
  ]
}